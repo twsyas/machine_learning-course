{
  "nbformat": 4,
  "nbformat_minor": 0,
  "metadata": {
    "colab": {
      "provenance": [],
      "toc_visible": true,
      "mount_file_id": "10XaUQCCzpxp4KJV24pKIDOX1JQWi6Cuh",
      "authorship_tag": "ABX9TyNqRUG6RGRdyGIENM1S5Szj",
      "include_colab_link": true
    },
    "kernelspec": {
      "name": "python3",
      "display_name": "Python 3"
    },
    "language_info": {
      "name": "python"
    }
  },
  "cells": [
    {
      "cell_type": "markdown",
      "metadata": {
        "id": "view-in-github",
        "colab_type": "text"
      },
      "source": [
        "<a href=\"https://colab.research.google.com/github/twsyas/machine_learning-course/blob/main/preprocess.ipynb\" target=\"_parent\"><img src=\"https://colab.research.google.com/assets/colab-badge.svg\" alt=\"Open In Colab\"/></a>"
      ]
    },
    {
      "cell_type": "markdown",
      "source": [
        "# **Aprendizagem Supervisionada: Classificação**"
      ],
      "metadata": {
        "id": "nOos2OWsdO65"
      }
    },
    {
      "cell_type": "markdown",
      "source": [
        "# Pré-processamento dos dados"
      ],
      "metadata": {
        "id": "7C0klyOOdl_A"
      }
    },
    {
      "cell_type": "markdown",
      "source": [
        "## Importando as bibliotecas "
      ],
      "metadata": {
        "id": "sGCo4yTFd8Un"
      }
    },
    {
      "cell_type": "code",
      "source": [
        "import pandas as pd\n",
        "import numpy as np"
      ],
      "metadata": {
        "id": "V9L__-9edpw3"
      },
      "execution_count": 417,
      "outputs": []
    },
    {
      "cell_type": "code",
      "execution_count": 418,
      "metadata": {
        "id": "2eubrCcCZerJ"
      },
      "outputs": [],
      "source": [
        "df = pd.read_csv(\"/content/drive/MyDrive/Colab Notebooks/treinamento/heart_tratado.csv\",\n",
        "                 sep = ';',\n",
        "                 encoding = 'utf-8')"
      ]
    },
    {
      "cell_type": "code",
      "source": [
        "df.head()"
      ],
      "metadata": {
        "colab": {
          "base_uri": "https://localhost:8080/",
          "height": 206
        },
        "id": "8gYJaViLd7i_",
        "outputId": "893162fe-5b98-407b-cd69-4577eba996c4"
      },
      "execution_count": 419,
      "outputs": [
        {
          "output_type": "execute_result",
          "data": {
            "text/plain": [
              "   Age Sex ChestPainType  RestingBP  Cholesterol  FastingBS RestingECG  MaxHR  \\\n",
              "0   40   M           ATA        140        289.0          0     Normal    172   \n",
              "1   49   F           NAP        160        180.0          0     Normal    156   \n",
              "2   37   M           ATA        130        283.0          0         ST     98   \n",
              "3   48   F           ASY        138        214.0          0     Normal    108   \n",
              "4   54   M           NAP        150        195.0          0     Normal    122   \n",
              "\n",
              "  ExerciseAngina  Oldpeak ST_Slope  HeartDisease  \n",
              "0              N      0.0       Up             0  \n",
              "1              N      1.0     Flat             1  \n",
              "2              N      0.0       Up             0  \n",
              "3              Y      1.5     Flat             1  \n",
              "4              N      0.0       Up             0  "
            ],
            "text/html": [
              "\n",
              "  <div id=\"df-c236112a-d987-4332-bb76-50a421406603\">\n",
              "    <div class=\"colab-df-container\">\n",
              "      <div>\n",
              "<style scoped>\n",
              "    .dataframe tbody tr th:only-of-type {\n",
              "        vertical-align: middle;\n",
              "    }\n",
              "\n",
              "    .dataframe tbody tr th {\n",
              "        vertical-align: top;\n",
              "    }\n",
              "\n",
              "    .dataframe thead th {\n",
              "        text-align: right;\n",
              "    }\n",
              "</style>\n",
              "<table border=\"1\" class=\"dataframe\">\n",
              "  <thead>\n",
              "    <tr style=\"text-align: right;\">\n",
              "      <th></th>\n",
              "      <th>Age</th>\n",
              "      <th>Sex</th>\n",
              "      <th>ChestPainType</th>\n",
              "      <th>RestingBP</th>\n",
              "      <th>Cholesterol</th>\n",
              "      <th>FastingBS</th>\n",
              "      <th>RestingECG</th>\n",
              "      <th>MaxHR</th>\n",
              "      <th>ExerciseAngina</th>\n",
              "      <th>Oldpeak</th>\n",
              "      <th>ST_Slope</th>\n",
              "      <th>HeartDisease</th>\n",
              "    </tr>\n",
              "  </thead>\n",
              "  <tbody>\n",
              "    <tr>\n",
              "      <th>0</th>\n",
              "      <td>40</td>\n",
              "      <td>M</td>\n",
              "      <td>ATA</td>\n",
              "      <td>140</td>\n",
              "      <td>289.0</td>\n",
              "      <td>0</td>\n",
              "      <td>Normal</td>\n",
              "      <td>172</td>\n",
              "      <td>N</td>\n",
              "      <td>0.0</td>\n",
              "      <td>Up</td>\n",
              "      <td>0</td>\n",
              "    </tr>\n",
              "    <tr>\n",
              "      <th>1</th>\n",
              "      <td>49</td>\n",
              "      <td>F</td>\n",
              "      <td>NAP</td>\n",
              "      <td>160</td>\n",
              "      <td>180.0</td>\n",
              "      <td>0</td>\n",
              "      <td>Normal</td>\n",
              "      <td>156</td>\n",
              "      <td>N</td>\n",
              "      <td>1.0</td>\n",
              "      <td>Flat</td>\n",
              "      <td>1</td>\n",
              "    </tr>\n",
              "    <tr>\n",
              "      <th>2</th>\n",
              "      <td>37</td>\n",
              "      <td>M</td>\n",
              "      <td>ATA</td>\n",
              "      <td>130</td>\n",
              "      <td>283.0</td>\n",
              "      <td>0</td>\n",
              "      <td>ST</td>\n",
              "      <td>98</td>\n",
              "      <td>N</td>\n",
              "      <td>0.0</td>\n",
              "      <td>Up</td>\n",
              "      <td>0</td>\n",
              "    </tr>\n",
              "    <tr>\n",
              "      <th>3</th>\n",
              "      <td>48</td>\n",
              "      <td>F</td>\n",
              "      <td>ASY</td>\n",
              "      <td>138</td>\n",
              "      <td>214.0</td>\n",
              "      <td>0</td>\n",
              "      <td>Normal</td>\n",
              "      <td>108</td>\n",
              "      <td>Y</td>\n",
              "      <td>1.5</td>\n",
              "      <td>Flat</td>\n",
              "      <td>1</td>\n",
              "    </tr>\n",
              "    <tr>\n",
              "      <th>4</th>\n",
              "      <td>54</td>\n",
              "      <td>M</td>\n",
              "      <td>NAP</td>\n",
              "      <td>150</td>\n",
              "      <td>195.0</td>\n",
              "      <td>0</td>\n",
              "      <td>Normal</td>\n",
              "      <td>122</td>\n",
              "      <td>N</td>\n",
              "      <td>0.0</td>\n",
              "      <td>Up</td>\n",
              "      <td>0</td>\n",
              "    </tr>\n",
              "  </tbody>\n",
              "</table>\n",
              "</div>\n",
              "      <button class=\"colab-df-convert\" onclick=\"convertToInteractive('df-c236112a-d987-4332-bb76-50a421406603')\"\n",
              "              title=\"Convert this dataframe to an interactive table.\"\n",
              "              style=\"display:none;\">\n",
              "        \n",
              "  <svg xmlns=\"http://www.w3.org/2000/svg\" height=\"24px\"viewBox=\"0 0 24 24\"\n",
              "       width=\"24px\">\n",
              "    <path d=\"M0 0h24v24H0V0z\" fill=\"none\"/>\n",
              "    <path d=\"M18.56 5.44l.94 2.06.94-2.06 2.06-.94-2.06-.94-.94-2.06-.94 2.06-2.06.94zm-11 1L8.5 8.5l.94-2.06 2.06-.94-2.06-.94L8.5 2.5l-.94 2.06-2.06.94zm10 10l.94 2.06.94-2.06 2.06-.94-2.06-.94-.94-2.06-.94 2.06-2.06.94z\"/><path d=\"M17.41 7.96l-1.37-1.37c-.4-.4-.92-.59-1.43-.59-.52 0-1.04.2-1.43.59L10.3 9.45l-7.72 7.72c-.78.78-.78 2.05 0 2.83L4 21.41c.39.39.9.59 1.41.59.51 0 1.02-.2 1.41-.59l7.78-7.78 2.81-2.81c.8-.78.8-2.07 0-2.86zM5.41 20L4 18.59l7.72-7.72 1.47 1.35L5.41 20z\"/>\n",
              "  </svg>\n",
              "      </button>\n",
              "      \n",
              "  <style>\n",
              "    .colab-df-container {\n",
              "      display:flex;\n",
              "      flex-wrap:wrap;\n",
              "      gap: 12px;\n",
              "    }\n",
              "\n",
              "    .colab-df-convert {\n",
              "      background-color: #E8F0FE;\n",
              "      border: none;\n",
              "      border-radius: 50%;\n",
              "      cursor: pointer;\n",
              "      display: none;\n",
              "      fill: #1967D2;\n",
              "      height: 32px;\n",
              "      padding: 0 0 0 0;\n",
              "      width: 32px;\n",
              "    }\n",
              "\n",
              "    .colab-df-convert:hover {\n",
              "      background-color: #E2EBFA;\n",
              "      box-shadow: 0px 1px 2px rgba(60, 64, 67, 0.3), 0px 1px 3px 1px rgba(60, 64, 67, 0.15);\n",
              "      fill: #174EA6;\n",
              "    }\n",
              "\n",
              "    [theme=dark] .colab-df-convert {\n",
              "      background-color: #3B4455;\n",
              "      fill: #D2E3FC;\n",
              "    }\n",
              "\n",
              "    [theme=dark] .colab-df-convert:hover {\n",
              "      background-color: #434B5C;\n",
              "      box-shadow: 0px 1px 3px 1px rgba(0, 0, 0, 0.15);\n",
              "      filter: drop-shadow(0px 1px 2px rgba(0, 0, 0, 0.3));\n",
              "      fill: #FFFFFF;\n",
              "    }\n",
              "  </style>\n",
              "\n",
              "      <script>\n",
              "        const buttonEl =\n",
              "          document.querySelector('#df-c236112a-d987-4332-bb76-50a421406603 button.colab-df-convert');\n",
              "        buttonEl.style.display =\n",
              "          google.colab.kernel.accessAllowed ? 'block' : 'none';\n",
              "\n",
              "        async function convertToInteractive(key) {\n",
              "          const element = document.querySelector('#df-c236112a-d987-4332-bb76-50a421406603');\n",
              "          const dataTable =\n",
              "            await google.colab.kernel.invokeFunction('convertToInteractive',\n",
              "                                                     [key], {});\n",
              "          if (!dataTable) return;\n",
              "\n",
              "          const docLinkHtml = 'Like what you see? Visit the ' +\n",
              "            '<a target=\"_blank\" href=https://colab.research.google.com/notebooks/data_table.ipynb>data table notebook</a>'\n",
              "            + ' to learn more about interactive tables.';\n",
              "          element.innerHTML = '';\n",
              "          dataTable['output_type'] = 'display_data';\n",
              "          await google.colab.output.renderOutput(dataTable, element);\n",
              "          const docLink = document.createElement('div');\n",
              "          docLink.innerHTML = docLinkHtml;\n",
              "          element.appendChild(docLink);\n",
              "        }\n",
              "      </script>\n",
              "    </div>\n",
              "  </div>\n",
              "  "
            ]
          },
          "metadata": {},
          "execution_count": 419
        }
      ]
    },
    {
      "cell_type": "code",
      "source": [
        "df.shape"
      ],
      "metadata": {
        "colab": {
          "base_uri": "https://localhost:8080/"
        },
        "id": "S6Dbv5FWeKAY",
        "outputId": "8a320d9a-4ff3-48dc-a38d-0260d3e6dbff"
      },
      "execution_count": 420,
      "outputs": [
        {
          "output_type": "execute_result",
          "data": {
            "text/plain": [
              "(917, 12)"
            ]
          },
          "metadata": {},
          "execution_count": 420
        }
      ]
    },
    {
      "cell_type": "markdown",
      "source": [
        "## Transformando as variáveis categoricas nominais em ordinais"
      ],
      "metadata": {
        "id": "WSS1CfR6edCO"
      }
    },
    {
      "cell_type": "code",
      "source": [
        "df2 = pd.DataFrame.copy(df) #cria uma cópia do dataframe"
      ],
      "metadata": {
        "id": "iwrkU7AceMuO"
      },
      "execution_count": 421,
      "outputs": []
    },
    {
      "cell_type": "code",
      "source": [
        "df2['Sex'].replace({'M':0, 'F':1}, inplace = True) #\"inplace\" altera no próprio dataframe\n",
        "df2['ChestPainType'].replace({'TA':0, 'ATA':1, 'NAP': 2, 'ASY': 3}, inplace = True)\n",
        "df2['RestingECG'].replace({'Normal':0, 'ST':1, 'LVH':2}, inplace = True)\n",
        "df2['ExerciseAngina'].replace({'N':0, 'Y':1}, inplace = True)\n",
        "df2['ST_Slope'].replace({'Up':0, 'Flat':1, 'Down': 2}, inplace = True)"
      ],
      "metadata": {
        "id": "pSuPVk6UezHO"
      },
      "execution_count": 422,
      "outputs": []
    },
    {
      "cell_type": "code",
      "source": [
        "df2.head()"
      ],
      "metadata": {
        "colab": {
          "base_uri": "https://localhost:8080/",
          "height": 206
        },
        "id": "ye8wpgNlfzpU",
        "outputId": "1401293a-8d7b-44b2-c290-bb0b334e0e1d"
      },
      "execution_count": 423,
      "outputs": [
        {
          "output_type": "execute_result",
          "data": {
            "text/plain": [
              "   Age  Sex  ChestPainType  RestingBP  Cholesterol  FastingBS  RestingECG  \\\n",
              "0   40    0              1        140        289.0          0           0   \n",
              "1   49    1              2        160        180.0          0           0   \n",
              "2   37    0              1        130        283.0          0           1   \n",
              "3   48    1              3        138        214.0          0           0   \n",
              "4   54    0              2        150        195.0          0           0   \n",
              "\n",
              "   MaxHR  ExerciseAngina  Oldpeak  ST_Slope  HeartDisease  \n",
              "0    172               0      0.0         0             0  \n",
              "1    156               0      1.0         1             1  \n",
              "2     98               0      0.0         0             0  \n",
              "3    108               1      1.5         1             1  \n",
              "4    122               0      0.0         0             0  "
            ],
            "text/html": [
              "\n",
              "  <div id=\"df-8f793cb6-31d2-4328-8a67-2287a7c2b124\">\n",
              "    <div class=\"colab-df-container\">\n",
              "      <div>\n",
              "<style scoped>\n",
              "    .dataframe tbody tr th:only-of-type {\n",
              "        vertical-align: middle;\n",
              "    }\n",
              "\n",
              "    .dataframe tbody tr th {\n",
              "        vertical-align: top;\n",
              "    }\n",
              "\n",
              "    .dataframe thead th {\n",
              "        text-align: right;\n",
              "    }\n",
              "</style>\n",
              "<table border=\"1\" class=\"dataframe\">\n",
              "  <thead>\n",
              "    <tr style=\"text-align: right;\">\n",
              "      <th></th>\n",
              "      <th>Age</th>\n",
              "      <th>Sex</th>\n",
              "      <th>ChestPainType</th>\n",
              "      <th>RestingBP</th>\n",
              "      <th>Cholesterol</th>\n",
              "      <th>FastingBS</th>\n",
              "      <th>RestingECG</th>\n",
              "      <th>MaxHR</th>\n",
              "      <th>ExerciseAngina</th>\n",
              "      <th>Oldpeak</th>\n",
              "      <th>ST_Slope</th>\n",
              "      <th>HeartDisease</th>\n",
              "    </tr>\n",
              "  </thead>\n",
              "  <tbody>\n",
              "    <tr>\n",
              "      <th>0</th>\n",
              "      <td>40</td>\n",
              "      <td>0</td>\n",
              "      <td>1</td>\n",
              "      <td>140</td>\n",
              "      <td>289.0</td>\n",
              "      <td>0</td>\n",
              "      <td>0</td>\n",
              "      <td>172</td>\n",
              "      <td>0</td>\n",
              "      <td>0.0</td>\n",
              "      <td>0</td>\n",
              "      <td>0</td>\n",
              "    </tr>\n",
              "    <tr>\n",
              "      <th>1</th>\n",
              "      <td>49</td>\n",
              "      <td>1</td>\n",
              "      <td>2</td>\n",
              "      <td>160</td>\n",
              "      <td>180.0</td>\n",
              "      <td>0</td>\n",
              "      <td>0</td>\n",
              "      <td>156</td>\n",
              "      <td>0</td>\n",
              "      <td>1.0</td>\n",
              "      <td>1</td>\n",
              "      <td>1</td>\n",
              "    </tr>\n",
              "    <tr>\n",
              "      <th>2</th>\n",
              "      <td>37</td>\n",
              "      <td>0</td>\n",
              "      <td>1</td>\n",
              "      <td>130</td>\n",
              "      <td>283.0</td>\n",
              "      <td>0</td>\n",
              "      <td>1</td>\n",
              "      <td>98</td>\n",
              "      <td>0</td>\n",
              "      <td>0.0</td>\n",
              "      <td>0</td>\n",
              "      <td>0</td>\n",
              "    </tr>\n",
              "    <tr>\n",
              "      <th>3</th>\n",
              "      <td>48</td>\n",
              "      <td>1</td>\n",
              "      <td>3</td>\n",
              "      <td>138</td>\n",
              "      <td>214.0</td>\n",
              "      <td>0</td>\n",
              "      <td>0</td>\n",
              "      <td>108</td>\n",
              "      <td>1</td>\n",
              "      <td>1.5</td>\n",
              "      <td>1</td>\n",
              "      <td>1</td>\n",
              "    </tr>\n",
              "    <tr>\n",
              "      <th>4</th>\n",
              "      <td>54</td>\n",
              "      <td>0</td>\n",
              "      <td>2</td>\n",
              "      <td>150</td>\n",
              "      <td>195.0</td>\n",
              "      <td>0</td>\n",
              "      <td>0</td>\n",
              "      <td>122</td>\n",
              "      <td>0</td>\n",
              "      <td>0.0</td>\n",
              "      <td>0</td>\n",
              "      <td>0</td>\n",
              "    </tr>\n",
              "  </tbody>\n",
              "</table>\n",
              "</div>\n",
              "      <button class=\"colab-df-convert\" onclick=\"convertToInteractive('df-8f793cb6-31d2-4328-8a67-2287a7c2b124')\"\n",
              "              title=\"Convert this dataframe to an interactive table.\"\n",
              "              style=\"display:none;\">\n",
              "        \n",
              "  <svg xmlns=\"http://www.w3.org/2000/svg\" height=\"24px\"viewBox=\"0 0 24 24\"\n",
              "       width=\"24px\">\n",
              "    <path d=\"M0 0h24v24H0V0z\" fill=\"none\"/>\n",
              "    <path d=\"M18.56 5.44l.94 2.06.94-2.06 2.06-.94-2.06-.94-.94-2.06-.94 2.06-2.06.94zm-11 1L8.5 8.5l.94-2.06 2.06-.94-2.06-.94L8.5 2.5l-.94 2.06-2.06.94zm10 10l.94 2.06.94-2.06 2.06-.94-2.06-.94-.94-2.06-.94 2.06-2.06.94z\"/><path d=\"M17.41 7.96l-1.37-1.37c-.4-.4-.92-.59-1.43-.59-.52 0-1.04.2-1.43.59L10.3 9.45l-7.72 7.72c-.78.78-.78 2.05 0 2.83L4 21.41c.39.39.9.59 1.41.59.51 0 1.02-.2 1.41-.59l7.78-7.78 2.81-2.81c.8-.78.8-2.07 0-2.86zM5.41 20L4 18.59l7.72-7.72 1.47 1.35L5.41 20z\"/>\n",
              "  </svg>\n",
              "      </button>\n",
              "      \n",
              "  <style>\n",
              "    .colab-df-container {\n",
              "      display:flex;\n",
              "      flex-wrap:wrap;\n",
              "      gap: 12px;\n",
              "    }\n",
              "\n",
              "    .colab-df-convert {\n",
              "      background-color: #E8F0FE;\n",
              "      border: none;\n",
              "      border-radius: 50%;\n",
              "      cursor: pointer;\n",
              "      display: none;\n",
              "      fill: #1967D2;\n",
              "      height: 32px;\n",
              "      padding: 0 0 0 0;\n",
              "      width: 32px;\n",
              "    }\n",
              "\n",
              "    .colab-df-convert:hover {\n",
              "      background-color: #E2EBFA;\n",
              "      box-shadow: 0px 1px 2px rgba(60, 64, 67, 0.3), 0px 1px 3px 1px rgba(60, 64, 67, 0.15);\n",
              "      fill: #174EA6;\n",
              "    }\n",
              "\n",
              "    [theme=dark] .colab-df-convert {\n",
              "      background-color: #3B4455;\n",
              "      fill: #D2E3FC;\n",
              "    }\n",
              "\n",
              "    [theme=dark] .colab-df-convert:hover {\n",
              "      background-color: #434B5C;\n",
              "      box-shadow: 0px 1px 3px 1px rgba(0, 0, 0, 0.15);\n",
              "      filter: drop-shadow(0px 1px 2px rgba(0, 0, 0, 0.3));\n",
              "      fill: #FFFFFF;\n",
              "    }\n",
              "  </style>\n",
              "\n",
              "      <script>\n",
              "        const buttonEl =\n",
              "          document.querySelector('#df-8f793cb6-31d2-4328-8a67-2287a7c2b124 button.colab-df-convert');\n",
              "        buttonEl.style.display =\n",
              "          google.colab.kernel.accessAllowed ? 'block' : 'none';\n",
              "\n",
              "        async function convertToInteractive(key) {\n",
              "          const element = document.querySelector('#df-8f793cb6-31d2-4328-8a67-2287a7c2b124');\n",
              "          const dataTable =\n",
              "            await google.colab.kernel.invokeFunction('convertToInteractive',\n",
              "                                                     [key], {});\n",
              "          if (!dataTable) return;\n",
              "\n",
              "          const docLinkHtml = 'Like what you see? Visit the ' +\n",
              "            '<a target=\"_blank\" href=https://colab.research.google.com/notebooks/data_table.ipynb>data table notebook</a>'\n",
              "            + ' to learn more about interactive tables.';\n",
              "          element.innerHTML = '';\n",
              "          dataTable['output_type'] = 'display_data';\n",
              "          await google.colab.output.renderOutput(dataTable, element);\n",
              "          const docLink = document.createElement('div');\n",
              "          docLink.innerHTML = docLinkHtml;\n",
              "          element.appendChild(docLink);\n",
              "        }\n",
              "      </script>\n",
              "    </div>\n",
              "  </div>\n",
              "  "
            ]
          },
          "metadata": {},
          "execution_count": 423
        }
      ]
    },
    {
      "cell_type": "code",
      "source": [
        "df2.dtypes"
      ],
      "metadata": {
        "colab": {
          "base_uri": "https://localhost:8080/"
        },
        "id": "XdhM5tFXf16b",
        "outputId": "eda67991-3c01-4650-dc8d-666dae9e93f6"
      },
      "execution_count": 424,
      "outputs": [
        {
          "output_type": "execute_result",
          "data": {
            "text/plain": [
              "Age                 int64\n",
              "Sex                 int64\n",
              "ChestPainType       int64\n",
              "RestingBP           int64\n",
              "Cholesterol       float64\n",
              "FastingBS           int64\n",
              "RestingECG          int64\n",
              "MaxHR               int64\n",
              "ExerciseAngina      int64\n",
              "Oldpeak           float64\n",
              "ST_Slope            int64\n",
              "HeartDisease        int64\n",
              "dtype: object"
            ]
          },
          "metadata": {},
          "execution_count": 424
        }
      ]
    },
    {
      "cell_type": "code",
      "source": [
        "df2.shape"
      ],
      "metadata": {
        "colab": {
          "base_uri": "https://localhost:8080/"
        },
        "id": "Z-QdASPYgZmL",
        "outputId": "22a5fbf5-aa58-4d68-c872-ec6fce1dc78d"
      },
      "execution_count": 425,
      "outputs": [
        {
          "output_type": "execute_result",
          "data": {
            "text/plain": [
              "(917, 12)"
            ]
          },
          "metadata": {},
          "execution_count": 425
        }
      ]
    },
    {
      "cell_type": "markdown",
      "source": [
        "## Atributos previsores e alvo"
      ],
      "metadata": {
        "id": "PGEuJEipgtMB"
      }
    },
    {
      "cell_type": "code",
      "source": [
        "previsores = df2.iloc[:,0:11].values #iloc: localiza pelo índice. \":\":todas as linhas. \"0:11\": vai do 0 ao 10o valor. \".values\": cria em formato de matriz"
      ],
      "metadata": {
        "id": "VdNhR0Fog-kJ"
      },
      "execution_count": 426,
      "outputs": []
    },
    {
      "cell_type": "code",
      "source": [
        "previsores #pegou os valores das colunas em ordem e colocou em formato matriz"
      ],
      "metadata": {
        "colab": {
          "base_uri": "https://localhost:8080/"
        },
        "id": "OFDcyyabg1Vy",
        "outputId": "27db7106-aa9e-4e7a-b862-6c1df3a04e29"
      },
      "execution_count": 427,
      "outputs": [
        {
          "output_type": "execute_result",
          "data": {
            "text/plain": [
              "array([[40. ,  0. ,  1. , ...,  0. ,  0. ,  0. ],\n",
              "       [49. ,  1. ,  2. , ...,  0. ,  1. ,  1. ],\n",
              "       [37. ,  0. ,  1. , ...,  0. ,  0. ,  0. ],\n",
              "       ...,\n",
              "       [57. ,  0. ,  3. , ...,  1. ,  1.2,  1. ],\n",
              "       [57. ,  1. ,  1. , ...,  0. ,  0. ,  1. ],\n",
              "       [38. ,  0. ,  2. , ...,  0. ,  0. ,  0. ]])"
            ]
          },
          "metadata": {},
          "execution_count": 427
        }
      ]
    },
    {
      "cell_type": "code",
      "source": [
        "previsores.shape"
      ],
      "metadata": {
        "colab": {
          "base_uri": "https://localhost:8080/"
        },
        "id": "DtXIGQ8ghHdh",
        "outputId": "4fcaea06-b778-451d-9e46-5bfc0714606a"
      },
      "execution_count": 428,
      "outputs": [
        {
          "output_type": "execute_result",
          "data": {
            "text/plain": [
              "(917, 11)"
            ]
          },
          "metadata": {},
          "execution_count": 428
        }
      ]
    },
    {
      "cell_type": "code",
      "source": [
        "alvo = df2.iloc[:,11].values #última coluna é o alvo"
      ],
      "metadata": {
        "id": "lIrZ-VVDhNh_"
      },
      "execution_count": 429,
      "outputs": []
    },
    {
      "cell_type": "code",
      "source": [
        "alvo"
      ],
      "metadata": {
        "colab": {
          "base_uri": "https://localhost:8080/"
        },
        "id": "dJ8dTR9Kh-08",
        "outputId": "0d2e0f14-d512-4e27-e622-9ab936b09071"
      },
      "execution_count": 430,
      "outputs": [
        {
          "output_type": "execute_result",
          "data": {
            "text/plain": [
              "array([0, 1, 0, 1, 0, 0, 0, 0, 1, 0, 0, 1, 0, 1, 0, 0, 1, 0, 1, 1, 0, 0,\n",
              "       0, 1, 0, 0, 0, 0, 0, 0, 1, 0, 1, 1, 0, 0, 1, 0, 0, 0, 0, 1, 0, 0,\n",
              "       1, 0, 0, 0, 0, 1, 1, 1, 0, 0, 0, 0, 1, 1, 0, 1, 0, 0, 0, 1, 0, 0,\n",
              "       0, 0, 1, 0, 1, 0, 1, 0, 1, 0, 1, 0, 0, 1, 0, 0, 1, 0, 1, 1, 1, 0,\n",
              "       1, 0, 0, 0, 0, 1, 0, 1, 0, 0, 0, 0, 1, 0, 1, 1, 1, 0, 0, 0, 0, 0,\n",
              "       0, 1, 0, 0, 0, 1, 1, 1, 0, 1, 1, 0, 0, 1, 0, 0, 0, 0, 0, 0, 0, 1,\n",
              "       1, 1, 0, 1, 0, 0, 1, 1, 1, 1, 1, 0, 1, 0, 0, 0, 0, 1, 0, 0, 0, 0,\n",
              "       0, 1, 1, 0, 1, 0, 1, 1, 0, 0, 0, 1, 1, 0, 0, 0, 0, 0, 0, 0, 1, 1,\n",
              "       1, 0, 0, 0, 1, 0, 1, 0, 0, 1, 0, 1, 0, 1, 0, 0, 0, 0, 0, 0, 0, 0,\n",
              "       1, 0, 0, 0, 0, 0, 0, 0, 0, 1, 0, 1, 1, 1, 0, 0, 1, 0, 1, 0, 0, 0,\n",
              "       1, 1, 0, 0, 0, 1, 0, 1, 0, 0, 0, 0, 0, 0, 0, 0, 1, 1, 1, 1, 0, 1,\n",
              "       1, 0, 1, 0, 1, 1, 1, 1, 1, 1, 0, 0, 1, 0, 0, 0, 0, 0, 0, 0, 1, 1,\n",
              "       1, 0, 1, 0, 1, 0, 0, 0, 1, 0, 0, 0, 1, 1, 0, 0, 0, 1, 0, 0, 0, 0,\n",
              "       0, 0, 0, 0, 0, 0, 0, 1, 1, 1, 1, 1, 1, 1, 1, 0, 1, 1, 1, 1, 1, 0,\n",
              "       1, 1, 0, 1, 1, 1, 0, 1, 1, 1, 1, 1, 1, 1, 1, 1, 1, 1, 0, 1, 1, 1,\n",
              "       1, 1, 0, 1, 1, 1, 0, 1, 1, 1, 1, 1, 1, 1, 1, 1, 1, 1, 1, 1, 1, 1,\n",
              "       1, 1, 1, 1, 1, 1, 1, 1, 1, 1, 1, 1, 0, 1, 1, 1, 1, 1, 1, 1, 1, 1,\n",
              "       1, 1, 1, 1, 1, 1, 1, 1, 1, 1, 1, 1, 1, 1, 1, 1, 1, 1, 1, 1, 1, 1,\n",
              "       1, 1, 1, 1, 1, 1, 1, 1, 1, 1, 1, 1, 1, 1, 1, 1, 1, 1, 1, 1, 1, 0,\n",
              "       1, 1, 0, 0, 1, 0, 1, 1, 0, 1, 1, 1, 1, 0, 1, 1, 0, 0, 1, 1, 1, 0,\n",
              "       1, 1, 1, 1, 1, 1, 1, 1, 1, 1, 1, 1, 0, 1, 0, 1, 1, 1, 0, 1, 1, 1,\n",
              "       0, 1, 0, 1, 0, 1, 0, 1, 1, 1, 1, 0, 1, 0, 1, 1, 1, 1, 1, 1, 1, 1,\n",
              "       1, 0, 1, 0, 1, 1, 1, 1, 1, 1, 1, 0, 1, 1, 1, 1, 1, 1, 0, 1, 1, 1,\n",
              "       0, 1, 1, 0, 1, 0, 1, 1, 0, 1, 1, 1, 1, 0, 1, 1, 1, 0, 0, 1, 0, 1,\n",
              "       1, 1, 1, 1, 1, 1, 1, 1, 1, 1, 0, 1, 1, 1, 1, 0, 0, 1, 1, 1, 0, 1,\n",
              "       0, 1, 1, 0, 1, 0, 1, 1, 1, 0, 0, 0, 1, 1, 1, 0, 1, 1, 1, 1, 1, 1,\n",
              "       1, 1, 1, 1, 1, 1, 1, 1, 1, 1, 0, 1, 1, 1, 0, 1, 1, 0, 0, 1, 1, 1,\n",
              "       1, 1, 0, 1, 1, 0, 1, 1, 1, 0, 0, 1, 1, 1, 1, 1, 0, 1, 0, 1, 1, 0,\n",
              "       1, 0, 0, 0, 1, 1, 1, 1, 0, 0, 0, 1, 0, 0, 1, 1, 0, 0, 1, 0, 0, 0,\n",
              "       0, 0, 0, 0, 1, 0, 1, 0, 0, 1, 1, 1, 1, 1, 0, 0, 1, 0, 0, 0, 1, 0,\n",
              "       1, 1, 1, 1, 1, 0, 0, 0, 0, 0, 1, 0, 1, 1, 0, 1, 0, 0, 0, 1, 0, 1,\n",
              "       0, 1, 1, 0, 0, 0, 0, 1, 0, 0, 0, 0, 1, 1, 1, 0, 0, 0, 0, 0, 0, 1,\n",
              "       0, 1, 1, 1, 1, 1, 0, 1, 0, 0, 0, 1, 0, 1, 1, 1, 0, 1, 1, 0, 1, 0,\n",
              "       1, 0, 0, 0, 1, 1, 0, 1, 1, 1, 1, 0, 0, 0, 1, 0, 0, 1, 1, 1, 0, 1,\n",
              "       0, 0, 0, 1, 0, 0, 1, 0, 1, 0, 1, 1, 1, 1, 1, 0, 0, 0, 0, 0, 0, 0,\n",
              "       1, 0, 0, 1, 1, 1, 0, 1, 0, 0, 0, 0, 0, 1, 0, 1, 1, 0, 0, 1, 1, 1,\n",
              "       1, 0, 0, 1, 1, 0, 0, 0, 1, 0, 0, 1, 0, 1, 0, 1, 0, 0, 0, 0, 0, 1,\n",
              "       0, 1, 1, 1, 1, 0, 0, 0, 1, 0, 1, 0, 0, 1, 0, 0, 0, 0, 0, 0, 1, 1,\n",
              "       0, 1, 0, 0, 1, 1, 0, 0, 1, 1, 0, 1, 0, 1, 0, 1, 0, 0, 1, 0, 0, 1,\n",
              "       0, 1, 1, 0, 1, 1, 1, 0, 1, 0, 0, 0, 0, 1, 1, 0, 0, 1, 1, 0, 1, 0,\n",
              "       0, 0, 0, 1, 0, 0, 1, 1, 1, 0, 0, 0, 1, 0, 1, 0, 1, 0, 1, 1, 1, 0,\n",
              "       0, 0, 1, 0, 1, 1, 1, 0, 1, 1, 1, 1, 1, 1, 0])"
            ]
          },
          "metadata": {},
          "execution_count": 430
        }
      ]
    },
    {
      "cell_type": "code",
      "source": [
        "alvo.shape"
      ],
      "metadata": {
        "colab": {
          "base_uri": "https://localhost:8080/"
        },
        "id": "dXUULTYSiAak",
        "outputId": "3c03f681-443c-45a8-a23f-9445cc4aac2c"
      },
      "execution_count": 431,
      "outputs": [
        {
          "output_type": "execute_result",
          "data": {
            "text/plain": [
              "(917,)"
            ]
          },
          "metadata": {},
          "execution_count": 431
        }
      ]
    },
    {
      "cell_type": "markdown",
      "source": [
        "### Análise das escalas dos atributos (Escalonamento)"
      ],
      "metadata": {
        "id": "K3Fk6g59iSx8"
      }
    },
    {
      "cell_type": "code",
      "source": [
        "df2.describe()"
      ],
      "metadata": {
        "colab": {
          "base_uri": "https://localhost:8080/",
          "height": 364
        },
        "id": "46lUhSKJiR30",
        "outputId": "0d1e1d3b-02d5-4ca1-ff0f-64a913ec4fa3"
      },
      "execution_count": 432,
      "outputs": [
        {
          "output_type": "execute_result",
          "data": {
            "text/plain": [
              "              Age         Sex  ChestPainType   RestingBP  Cholesterol  \\\n",
              "count  917.000000  917.000000     917.000000  917.000000   917.000000   \n",
              "mean    53.509269    0.210469       2.251908  132.540894   244.635389   \n",
              "std      9.437636    0.407864       0.931502   17.999749    53.347125   \n",
              "min     28.000000    0.000000       0.000000   80.000000    85.000000   \n",
              "25%     47.000000    0.000000       2.000000  120.000000   214.000000   \n",
              "50%     54.000000    0.000000       3.000000  130.000000   244.635389   \n",
              "75%     60.000000    0.000000       3.000000  140.000000   267.000000   \n",
              "max     77.000000    1.000000       3.000000  200.000000   603.000000   \n",
              "\n",
              "        FastingBS  RestingECG       MaxHR  ExerciseAngina     Oldpeak  \\\n",
              "count  917.000000  917.000000  917.000000      917.000000  917.000000   \n",
              "mean     0.233370    0.604144  136.789531        0.404580    0.886696   \n",
              "std      0.423206    0.806161   25.467129        0.491078    1.066960   \n",
              "min      0.000000    0.000000   60.000000        0.000000   -2.600000   \n",
              "25%      0.000000    0.000000  120.000000        0.000000    0.000000   \n",
              "50%      0.000000    0.000000  138.000000        0.000000    0.600000   \n",
              "75%      0.000000    1.000000  156.000000        1.000000    1.500000   \n",
              "max      1.000000    2.000000  202.000000        1.000000    6.200000   \n",
              "\n",
              "        ST_Slope  HeartDisease  \n",
              "count  917.00000    917.000000  \n",
              "mean     0.63795      0.552890  \n",
              "std      0.60727      0.497466  \n",
              "min      0.00000      0.000000  \n",
              "25%      0.00000      0.000000  \n",
              "50%      1.00000      1.000000  \n",
              "75%      1.00000      1.000000  \n",
              "max      2.00000      1.000000  "
            ],
            "text/html": [
              "\n",
              "  <div id=\"df-dcf6f6d2-7c60-4b1f-9ed8-2b99c4849bd1\">\n",
              "    <div class=\"colab-df-container\">\n",
              "      <div>\n",
              "<style scoped>\n",
              "    .dataframe tbody tr th:only-of-type {\n",
              "        vertical-align: middle;\n",
              "    }\n",
              "\n",
              "    .dataframe tbody tr th {\n",
              "        vertical-align: top;\n",
              "    }\n",
              "\n",
              "    .dataframe thead th {\n",
              "        text-align: right;\n",
              "    }\n",
              "</style>\n",
              "<table border=\"1\" class=\"dataframe\">\n",
              "  <thead>\n",
              "    <tr style=\"text-align: right;\">\n",
              "      <th></th>\n",
              "      <th>Age</th>\n",
              "      <th>Sex</th>\n",
              "      <th>ChestPainType</th>\n",
              "      <th>RestingBP</th>\n",
              "      <th>Cholesterol</th>\n",
              "      <th>FastingBS</th>\n",
              "      <th>RestingECG</th>\n",
              "      <th>MaxHR</th>\n",
              "      <th>ExerciseAngina</th>\n",
              "      <th>Oldpeak</th>\n",
              "      <th>ST_Slope</th>\n",
              "      <th>HeartDisease</th>\n",
              "    </tr>\n",
              "  </thead>\n",
              "  <tbody>\n",
              "    <tr>\n",
              "      <th>count</th>\n",
              "      <td>917.000000</td>\n",
              "      <td>917.000000</td>\n",
              "      <td>917.000000</td>\n",
              "      <td>917.000000</td>\n",
              "      <td>917.000000</td>\n",
              "      <td>917.000000</td>\n",
              "      <td>917.000000</td>\n",
              "      <td>917.000000</td>\n",
              "      <td>917.000000</td>\n",
              "      <td>917.000000</td>\n",
              "      <td>917.00000</td>\n",
              "      <td>917.000000</td>\n",
              "    </tr>\n",
              "    <tr>\n",
              "      <th>mean</th>\n",
              "      <td>53.509269</td>\n",
              "      <td>0.210469</td>\n",
              "      <td>2.251908</td>\n",
              "      <td>132.540894</td>\n",
              "      <td>244.635389</td>\n",
              "      <td>0.233370</td>\n",
              "      <td>0.604144</td>\n",
              "      <td>136.789531</td>\n",
              "      <td>0.404580</td>\n",
              "      <td>0.886696</td>\n",
              "      <td>0.63795</td>\n",
              "      <td>0.552890</td>\n",
              "    </tr>\n",
              "    <tr>\n",
              "      <th>std</th>\n",
              "      <td>9.437636</td>\n",
              "      <td>0.407864</td>\n",
              "      <td>0.931502</td>\n",
              "      <td>17.999749</td>\n",
              "      <td>53.347125</td>\n",
              "      <td>0.423206</td>\n",
              "      <td>0.806161</td>\n",
              "      <td>25.467129</td>\n",
              "      <td>0.491078</td>\n",
              "      <td>1.066960</td>\n",
              "      <td>0.60727</td>\n",
              "      <td>0.497466</td>\n",
              "    </tr>\n",
              "    <tr>\n",
              "      <th>min</th>\n",
              "      <td>28.000000</td>\n",
              "      <td>0.000000</td>\n",
              "      <td>0.000000</td>\n",
              "      <td>80.000000</td>\n",
              "      <td>85.000000</td>\n",
              "      <td>0.000000</td>\n",
              "      <td>0.000000</td>\n",
              "      <td>60.000000</td>\n",
              "      <td>0.000000</td>\n",
              "      <td>-2.600000</td>\n",
              "      <td>0.00000</td>\n",
              "      <td>0.000000</td>\n",
              "    </tr>\n",
              "    <tr>\n",
              "      <th>25%</th>\n",
              "      <td>47.000000</td>\n",
              "      <td>0.000000</td>\n",
              "      <td>2.000000</td>\n",
              "      <td>120.000000</td>\n",
              "      <td>214.000000</td>\n",
              "      <td>0.000000</td>\n",
              "      <td>0.000000</td>\n",
              "      <td>120.000000</td>\n",
              "      <td>0.000000</td>\n",
              "      <td>0.000000</td>\n",
              "      <td>0.00000</td>\n",
              "      <td>0.000000</td>\n",
              "    </tr>\n",
              "    <tr>\n",
              "      <th>50%</th>\n",
              "      <td>54.000000</td>\n",
              "      <td>0.000000</td>\n",
              "      <td>3.000000</td>\n",
              "      <td>130.000000</td>\n",
              "      <td>244.635389</td>\n",
              "      <td>0.000000</td>\n",
              "      <td>0.000000</td>\n",
              "      <td>138.000000</td>\n",
              "      <td>0.000000</td>\n",
              "      <td>0.600000</td>\n",
              "      <td>1.00000</td>\n",
              "      <td>1.000000</td>\n",
              "    </tr>\n",
              "    <tr>\n",
              "      <th>75%</th>\n",
              "      <td>60.000000</td>\n",
              "      <td>0.000000</td>\n",
              "      <td>3.000000</td>\n",
              "      <td>140.000000</td>\n",
              "      <td>267.000000</td>\n",
              "      <td>0.000000</td>\n",
              "      <td>1.000000</td>\n",
              "      <td>156.000000</td>\n",
              "      <td>1.000000</td>\n",
              "      <td>1.500000</td>\n",
              "      <td>1.00000</td>\n",
              "      <td>1.000000</td>\n",
              "    </tr>\n",
              "    <tr>\n",
              "      <th>max</th>\n",
              "      <td>77.000000</td>\n",
              "      <td>1.000000</td>\n",
              "      <td>3.000000</td>\n",
              "      <td>200.000000</td>\n",
              "      <td>603.000000</td>\n",
              "      <td>1.000000</td>\n",
              "      <td>2.000000</td>\n",
              "      <td>202.000000</td>\n",
              "      <td>1.000000</td>\n",
              "      <td>6.200000</td>\n",
              "      <td>2.00000</td>\n",
              "      <td>1.000000</td>\n",
              "    </tr>\n",
              "  </tbody>\n",
              "</table>\n",
              "</div>\n",
              "      <button class=\"colab-df-convert\" onclick=\"convertToInteractive('df-dcf6f6d2-7c60-4b1f-9ed8-2b99c4849bd1')\"\n",
              "              title=\"Convert this dataframe to an interactive table.\"\n",
              "              style=\"display:none;\">\n",
              "        \n",
              "  <svg xmlns=\"http://www.w3.org/2000/svg\" height=\"24px\"viewBox=\"0 0 24 24\"\n",
              "       width=\"24px\">\n",
              "    <path d=\"M0 0h24v24H0V0z\" fill=\"none\"/>\n",
              "    <path d=\"M18.56 5.44l.94 2.06.94-2.06 2.06-.94-2.06-.94-.94-2.06-.94 2.06-2.06.94zm-11 1L8.5 8.5l.94-2.06 2.06-.94-2.06-.94L8.5 2.5l-.94 2.06-2.06.94zm10 10l.94 2.06.94-2.06 2.06-.94-2.06-.94-.94-2.06-.94 2.06-2.06.94z\"/><path d=\"M17.41 7.96l-1.37-1.37c-.4-.4-.92-.59-1.43-.59-.52 0-1.04.2-1.43.59L10.3 9.45l-7.72 7.72c-.78.78-.78 2.05 0 2.83L4 21.41c.39.39.9.59 1.41.59.51 0 1.02-.2 1.41-.59l7.78-7.78 2.81-2.81c.8-.78.8-2.07 0-2.86zM5.41 20L4 18.59l7.72-7.72 1.47 1.35L5.41 20z\"/>\n",
              "  </svg>\n",
              "      </button>\n",
              "      \n",
              "  <style>\n",
              "    .colab-df-container {\n",
              "      display:flex;\n",
              "      flex-wrap:wrap;\n",
              "      gap: 12px;\n",
              "    }\n",
              "\n",
              "    .colab-df-convert {\n",
              "      background-color: #E8F0FE;\n",
              "      border: none;\n",
              "      border-radius: 50%;\n",
              "      cursor: pointer;\n",
              "      display: none;\n",
              "      fill: #1967D2;\n",
              "      height: 32px;\n",
              "      padding: 0 0 0 0;\n",
              "      width: 32px;\n",
              "    }\n",
              "\n",
              "    .colab-df-convert:hover {\n",
              "      background-color: #E2EBFA;\n",
              "      box-shadow: 0px 1px 2px rgba(60, 64, 67, 0.3), 0px 1px 3px 1px rgba(60, 64, 67, 0.15);\n",
              "      fill: #174EA6;\n",
              "    }\n",
              "\n",
              "    [theme=dark] .colab-df-convert {\n",
              "      background-color: #3B4455;\n",
              "      fill: #D2E3FC;\n",
              "    }\n",
              "\n",
              "    [theme=dark] .colab-df-convert:hover {\n",
              "      background-color: #434B5C;\n",
              "      box-shadow: 0px 1px 3px 1px rgba(0, 0, 0, 0.15);\n",
              "      filter: drop-shadow(0px 1px 2px rgba(0, 0, 0, 0.3));\n",
              "      fill: #FFFFFF;\n",
              "    }\n",
              "  </style>\n",
              "\n",
              "      <script>\n",
              "        const buttonEl =\n",
              "          document.querySelector('#df-dcf6f6d2-7c60-4b1f-9ed8-2b99c4849bd1 button.colab-df-convert');\n",
              "        buttonEl.style.display =\n",
              "          google.colab.kernel.accessAllowed ? 'block' : 'none';\n",
              "\n",
              "        async function convertToInteractive(key) {\n",
              "          const element = document.querySelector('#df-dcf6f6d2-7c60-4b1f-9ed8-2b99c4849bd1');\n",
              "          const dataTable =\n",
              "            await google.colab.kernel.invokeFunction('convertToInteractive',\n",
              "                                                     [key], {});\n",
              "          if (!dataTable) return;\n",
              "\n",
              "          const docLinkHtml = 'Like what you see? Visit the ' +\n",
              "            '<a target=\"_blank\" href=https://colab.research.google.com/notebooks/data_table.ipynb>data table notebook</a>'\n",
              "            + ' to learn more about interactive tables.';\n",
              "          element.innerHTML = '';\n",
              "          dataTable['output_type'] = 'display_data';\n",
              "          await google.colab.output.renderOutput(dataTable, element);\n",
              "          const docLink = document.createElement('div');\n",
              "          docLink.innerHTML = docLinkHtml;\n",
              "          element.appendChild(docLink);\n",
              "        }\n",
              "      </script>\n",
              "    </div>\n",
              "  </div>\n",
              "  "
            ]
          },
          "metadata": {},
          "execution_count": 432
        }
      ]
    },
    {
      "cell_type": "markdown",
      "source": [
        "Padronização (utiliza a média e o desvio padrão como referência).*\n",
        "\n",
        "Normalização (utiliza os valores máximos e mínimo como referência)."
      ],
      "metadata": {
        "id": "ryzZhZsgimzy"
      }
    },
    {
      "cell_type": "code",
      "source": [
        "from sklearn.preprocessing import StandardScaler #escala de padronização"
      ],
      "metadata": {
        "id": "4MnGvuN2i3_B"
      },
      "execution_count": 433,
      "outputs": []
    },
    {
      "cell_type": "code",
      "source": [
        "previsores_esc = StandardScaler().fit_transform(previsores) #\"fit_transform\": tranformação em previsores com relação a sua escala usando o critério a padronização"
      ],
      "metadata": {
        "id": "paR8UQHli9Jg"
      },
      "execution_count": 434,
      "outputs": []
    },
    {
      "cell_type": "code",
      "source": [
        "previsores_esc "
      ],
      "metadata": {
        "colab": {
          "base_uri": "https://localhost:8080/"
        },
        "id": "abkZ2EEdkCSy",
        "outputId": "143e02b8-705d-492c-ca07-b5852db803d8"
      },
      "execution_count": 435,
      "outputs": [
        {
          "output_type": "execute_result",
          "data": {
            "text/plain": [
              "array([[-1.43220634, -0.51630861, -1.34470119, ..., -0.82431012,\n",
              "        -0.83150225, -1.05109458],\n",
              "       [-0.47805725,  1.9368261 , -0.27058012, ..., -0.82431012,\n",
              "         0.10625149,  0.59651863],\n",
              "       [-1.75025603, -0.51630861, -1.34470119, ..., -0.82431012,\n",
              "        -0.83150225, -1.05109458],\n",
              "       ...,\n",
              "       [ 0.37007527, -0.51630861,  0.80354095, ...,  1.21313565,\n",
              "         0.29380223,  0.59651863],\n",
              "       [ 0.37007527,  1.9368261 , -1.34470119, ..., -0.82431012,\n",
              "        -0.83150225,  0.59651863],\n",
              "       [-1.64423947, -0.51630861, -0.27058012, ..., -0.82431012,\n",
              "        -0.83150225, -1.05109458]])"
            ]
          },
          "metadata": {},
          "execution_count": 435
        }
      ]
    },
    {
      "cell_type": "code",
      "source": [
        "previsoresdf = pd.DataFrame(previsores_esc)\n",
        "previsoresdf"
      ],
      "metadata": {
        "colab": {
          "base_uri": "https://localhost:8080/",
          "height": 424
        },
        "id": "NcQuIlbNkPV2",
        "outputId": "83cd1e41-b240-46dd-ed02-5aee9602669e"
      },
      "execution_count": 436,
      "outputs": [
        {
          "output_type": "execute_result",
          "data": {
            "text/plain": [
              "           0         1         2         3         4         5         6   \\\n",
              "0   -1.432206 -0.516309 -1.344701  0.414627  0.832075 -0.551733 -0.749818   \n",
              "1   -0.478057  1.936826 -0.270580  1.526360 -1.212261 -0.551733 -0.749818   \n",
              "2   -1.750256 -0.516309 -1.344701 -0.141240  0.719543 -0.551733  0.491306   \n",
              "3   -0.584074  1.936826  0.803541  0.303453 -0.574578 -0.551733 -0.749818   \n",
              "4    0.052026 -0.516309 -0.270580  0.970493 -0.930931 -0.551733 -0.749818   \n",
              "..        ...       ...       ...       ...       ...       ...       ...   \n",
              "912 -0.902124 -0.516309 -2.418822 -1.252973  0.363191 -0.551733 -0.749818   \n",
              "913  1.536257 -0.516309  0.803541  0.636973 -0.968441  1.812470 -0.749818   \n",
              "914  0.370075 -0.516309  0.803541 -0.141240 -2.131275 -0.551733 -0.749818   \n",
              "915  0.370075  1.936826 -1.344701 -0.141240 -0.161960 -0.551733  1.732430   \n",
              "916 -1.644239 -0.516309 -0.270580  0.303453 -1.306038 -0.551733 -0.749818   \n",
              "\n",
              "           7         8         9         10  \n",
              "0    1.383339 -0.824310 -0.831502 -1.051095  \n",
              "1    0.754736 -0.824310  0.106251  0.596519  \n",
              "2   -1.523953 -0.824310 -0.831502 -1.051095  \n",
              "3   -1.131075  1.213136  0.575128  0.596519  \n",
              "4   -0.581047 -0.824310 -0.831502 -1.051095  \n",
              "..        ...       ...       ...       ...  \n",
              "912 -0.188170 -0.824310  0.293802  0.596519  \n",
              "913  0.165420 -0.824310  2.356860  0.596519  \n",
              "914 -0.856061  1.213136  0.293802  0.596519  \n",
              "915  1.461915 -0.824310 -0.831502  0.596519  \n",
              "916  1.422627 -0.824310 -0.831502 -1.051095  \n",
              "\n",
              "[917 rows x 11 columns]"
            ],
            "text/html": [
              "\n",
              "  <div id=\"df-11cffa9b-01e5-4c66-833d-1759b9e6d0f2\">\n",
              "    <div class=\"colab-df-container\">\n",
              "      <div>\n",
              "<style scoped>\n",
              "    .dataframe tbody tr th:only-of-type {\n",
              "        vertical-align: middle;\n",
              "    }\n",
              "\n",
              "    .dataframe tbody tr th {\n",
              "        vertical-align: top;\n",
              "    }\n",
              "\n",
              "    .dataframe thead th {\n",
              "        text-align: right;\n",
              "    }\n",
              "</style>\n",
              "<table border=\"1\" class=\"dataframe\">\n",
              "  <thead>\n",
              "    <tr style=\"text-align: right;\">\n",
              "      <th></th>\n",
              "      <th>0</th>\n",
              "      <th>1</th>\n",
              "      <th>2</th>\n",
              "      <th>3</th>\n",
              "      <th>4</th>\n",
              "      <th>5</th>\n",
              "      <th>6</th>\n",
              "      <th>7</th>\n",
              "      <th>8</th>\n",
              "      <th>9</th>\n",
              "      <th>10</th>\n",
              "    </tr>\n",
              "  </thead>\n",
              "  <tbody>\n",
              "    <tr>\n",
              "      <th>0</th>\n",
              "      <td>-1.432206</td>\n",
              "      <td>-0.516309</td>\n",
              "      <td>-1.344701</td>\n",
              "      <td>0.414627</td>\n",
              "      <td>0.832075</td>\n",
              "      <td>-0.551733</td>\n",
              "      <td>-0.749818</td>\n",
              "      <td>1.383339</td>\n",
              "      <td>-0.824310</td>\n",
              "      <td>-0.831502</td>\n",
              "      <td>-1.051095</td>\n",
              "    </tr>\n",
              "    <tr>\n",
              "      <th>1</th>\n",
              "      <td>-0.478057</td>\n",
              "      <td>1.936826</td>\n",
              "      <td>-0.270580</td>\n",
              "      <td>1.526360</td>\n",
              "      <td>-1.212261</td>\n",
              "      <td>-0.551733</td>\n",
              "      <td>-0.749818</td>\n",
              "      <td>0.754736</td>\n",
              "      <td>-0.824310</td>\n",
              "      <td>0.106251</td>\n",
              "      <td>0.596519</td>\n",
              "    </tr>\n",
              "    <tr>\n",
              "      <th>2</th>\n",
              "      <td>-1.750256</td>\n",
              "      <td>-0.516309</td>\n",
              "      <td>-1.344701</td>\n",
              "      <td>-0.141240</td>\n",
              "      <td>0.719543</td>\n",
              "      <td>-0.551733</td>\n",
              "      <td>0.491306</td>\n",
              "      <td>-1.523953</td>\n",
              "      <td>-0.824310</td>\n",
              "      <td>-0.831502</td>\n",
              "      <td>-1.051095</td>\n",
              "    </tr>\n",
              "    <tr>\n",
              "      <th>3</th>\n",
              "      <td>-0.584074</td>\n",
              "      <td>1.936826</td>\n",
              "      <td>0.803541</td>\n",
              "      <td>0.303453</td>\n",
              "      <td>-0.574578</td>\n",
              "      <td>-0.551733</td>\n",
              "      <td>-0.749818</td>\n",
              "      <td>-1.131075</td>\n",
              "      <td>1.213136</td>\n",
              "      <td>0.575128</td>\n",
              "      <td>0.596519</td>\n",
              "    </tr>\n",
              "    <tr>\n",
              "      <th>4</th>\n",
              "      <td>0.052026</td>\n",
              "      <td>-0.516309</td>\n",
              "      <td>-0.270580</td>\n",
              "      <td>0.970493</td>\n",
              "      <td>-0.930931</td>\n",
              "      <td>-0.551733</td>\n",
              "      <td>-0.749818</td>\n",
              "      <td>-0.581047</td>\n",
              "      <td>-0.824310</td>\n",
              "      <td>-0.831502</td>\n",
              "      <td>-1.051095</td>\n",
              "    </tr>\n",
              "    <tr>\n",
              "      <th>...</th>\n",
              "      <td>...</td>\n",
              "      <td>...</td>\n",
              "      <td>...</td>\n",
              "      <td>...</td>\n",
              "      <td>...</td>\n",
              "      <td>...</td>\n",
              "      <td>...</td>\n",
              "      <td>...</td>\n",
              "      <td>...</td>\n",
              "      <td>...</td>\n",
              "      <td>...</td>\n",
              "    </tr>\n",
              "    <tr>\n",
              "      <th>912</th>\n",
              "      <td>-0.902124</td>\n",
              "      <td>-0.516309</td>\n",
              "      <td>-2.418822</td>\n",
              "      <td>-1.252973</td>\n",
              "      <td>0.363191</td>\n",
              "      <td>-0.551733</td>\n",
              "      <td>-0.749818</td>\n",
              "      <td>-0.188170</td>\n",
              "      <td>-0.824310</td>\n",
              "      <td>0.293802</td>\n",
              "      <td>0.596519</td>\n",
              "    </tr>\n",
              "    <tr>\n",
              "      <th>913</th>\n",
              "      <td>1.536257</td>\n",
              "      <td>-0.516309</td>\n",
              "      <td>0.803541</td>\n",
              "      <td>0.636973</td>\n",
              "      <td>-0.968441</td>\n",
              "      <td>1.812470</td>\n",
              "      <td>-0.749818</td>\n",
              "      <td>0.165420</td>\n",
              "      <td>-0.824310</td>\n",
              "      <td>2.356860</td>\n",
              "      <td>0.596519</td>\n",
              "    </tr>\n",
              "    <tr>\n",
              "      <th>914</th>\n",
              "      <td>0.370075</td>\n",
              "      <td>-0.516309</td>\n",
              "      <td>0.803541</td>\n",
              "      <td>-0.141240</td>\n",
              "      <td>-2.131275</td>\n",
              "      <td>-0.551733</td>\n",
              "      <td>-0.749818</td>\n",
              "      <td>-0.856061</td>\n",
              "      <td>1.213136</td>\n",
              "      <td>0.293802</td>\n",
              "      <td>0.596519</td>\n",
              "    </tr>\n",
              "    <tr>\n",
              "      <th>915</th>\n",
              "      <td>0.370075</td>\n",
              "      <td>1.936826</td>\n",
              "      <td>-1.344701</td>\n",
              "      <td>-0.141240</td>\n",
              "      <td>-0.161960</td>\n",
              "      <td>-0.551733</td>\n",
              "      <td>1.732430</td>\n",
              "      <td>1.461915</td>\n",
              "      <td>-0.824310</td>\n",
              "      <td>-0.831502</td>\n",
              "      <td>0.596519</td>\n",
              "    </tr>\n",
              "    <tr>\n",
              "      <th>916</th>\n",
              "      <td>-1.644239</td>\n",
              "      <td>-0.516309</td>\n",
              "      <td>-0.270580</td>\n",
              "      <td>0.303453</td>\n",
              "      <td>-1.306038</td>\n",
              "      <td>-0.551733</td>\n",
              "      <td>-0.749818</td>\n",
              "      <td>1.422627</td>\n",
              "      <td>-0.824310</td>\n",
              "      <td>-0.831502</td>\n",
              "      <td>-1.051095</td>\n",
              "    </tr>\n",
              "  </tbody>\n",
              "</table>\n",
              "<p>917 rows × 11 columns</p>\n",
              "</div>\n",
              "      <button class=\"colab-df-convert\" onclick=\"convertToInteractive('df-11cffa9b-01e5-4c66-833d-1759b9e6d0f2')\"\n",
              "              title=\"Convert this dataframe to an interactive table.\"\n",
              "              style=\"display:none;\">\n",
              "        \n",
              "  <svg xmlns=\"http://www.w3.org/2000/svg\" height=\"24px\"viewBox=\"0 0 24 24\"\n",
              "       width=\"24px\">\n",
              "    <path d=\"M0 0h24v24H0V0z\" fill=\"none\"/>\n",
              "    <path d=\"M18.56 5.44l.94 2.06.94-2.06 2.06-.94-2.06-.94-.94-2.06-.94 2.06-2.06.94zm-11 1L8.5 8.5l.94-2.06 2.06-.94-2.06-.94L8.5 2.5l-.94 2.06-2.06.94zm10 10l.94 2.06.94-2.06 2.06-.94-2.06-.94-.94-2.06-.94 2.06-2.06.94z\"/><path d=\"M17.41 7.96l-1.37-1.37c-.4-.4-.92-.59-1.43-.59-.52 0-1.04.2-1.43.59L10.3 9.45l-7.72 7.72c-.78.78-.78 2.05 0 2.83L4 21.41c.39.39.9.59 1.41.59.51 0 1.02-.2 1.41-.59l7.78-7.78 2.81-2.81c.8-.78.8-2.07 0-2.86zM5.41 20L4 18.59l7.72-7.72 1.47 1.35L5.41 20z\"/>\n",
              "  </svg>\n",
              "      </button>\n",
              "      \n",
              "  <style>\n",
              "    .colab-df-container {\n",
              "      display:flex;\n",
              "      flex-wrap:wrap;\n",
              "      gap: 12px;\n",
              "    }\n",
              "\n",
              "    .colab-df-convert {\n",
              "      background-color: #E8F0FE;\n",
              "      border: none;\n",
              "      border-radius: 50%;\n",
              "      cursor: pointer;\n",
              "      display: none;\n",
              "      fill: #1967D2;\n",
              "      height: 32px;\n",
              "      padding: 0 0 0 0;\n",
              "      width: 32px;\n",
              "    }\n",
              "\n",
              "    .colab-df-convert:hover {\n",
              "      background-color: #E2EBFA;\n",
              "      box-shadow: 0px 1px 2px rgba(60, 64, 67, 0.3), 0px 1px 3px 1px rgba(60, 64, 67, 0.15);\n",
              "      fill: #174EA6;\n",
              "    }\n",
              "\n",
              "    [theme=dark] .colab-df-convert {\n",
              "      background-color: #3B4455;\n",
              "      fill: #D2E3FC;\n",
              "    }\n",
              "\n",
              "    [theme=dark] .colab-df-convert:hover {\n",
              "      background-color: #434B5C;\n",
              "      box-shadow: 0px 1px 3px 1px rgba(0, 0, 0, 0.15);\n",
              "      filter: drop-shadow(0px 1px 2px rgba(0, 0, 0, 0.3));\n",
              "      fill: #FFFFFF;\n",
              "    }\n",
              "  </style>\n",
              "\n",
              "      <script>\n",
              "        const buttonEl =\n",
              "          document.querySelector('#df-11cffa9b-01e5-4c66-833d-1759b9e6d0f2 button.colab-df-convert');\n",
              "        buttonEl.style.display =\n",
              "          google.colab.kernel.accessAllowed ? 'block' : 'none';\n",
              "\n",
              "        async function convertToInteractive(key) {\n",
              "          const element = document.querySelector('#df-11cffa9b-01e5-4c66-833d-1759b9e6d0f2');\n",
              "          const dataTable =\n",
              "            await google.colab.kernel.invokeFunction('convertToInteractive',\n",
              "                                                     [key], {});\n",
              "          if (!dataTable) return;\n",
              "\n",
              "          const docLinkHtml = 'Like what you see? Visit the ' +\n",
              "            '<a target=\"_blank\" href=https://colab.research.google.com/notebooks/data_table.ipynb>data table notebook</a>'\n",
              "            + ' to learn more about interactive tables.';\n",
              "          element.innerHTML = '';\n",
              "          dataTable['output_type'] = 'display_data';\n",
              "          await google.colab.output.renderOutput(dataTable, element);\n",
              "          const docLink = document.createElement('div');\n",
              "          docLink.innerHTML = docLinkHtml;\n",
              "          element.appendChild(docLink);\n",
              "        }\n",
              "      </script>\n",
              "    </div>\n",
              "  </div>\n",
              "  "
            ]
          },
          "metadata": {},
          "execution_count": 436
        }
      ]
    },
    {
      "cell_type": "code",
      "source": [
        "previsoresdf.describe()"
      ],
      "metadata": {
        "colab": {
          "base_uri": "https://localhost:8080/",
          "height": 451
        },
        "id": "p81rEhLbkZkI",
        "outputId": "52750742-ad80-4fab-9bea-990c1e7f4a6b"
      },
      "execution_count": 437,
      "outputs": [
        {
          "output_type": "execute_result",
          "data": {
            "text/plain": [
              "                 0             1             2             3             4   \\\n",
              "count  9.170000e+02  9.170000e+02  9.170000e+02  9.170000e+02  9.170000e+02   \n",
              "mean   1.859654e-16  7.748558e-18  1.046055e-16  7.767929e-16 -1.869340e-16   \n",
              "std    1.000546e+00  1.000546e+00  1.000546e+00  1.000546e+00  1.000546e+00   \n",
              "min   -2.704405e+00 -5.163086e-01 -2.418822e+00 -2.920572e+00 -2.994023e+00   \n",
              "25%   -6.900904e-01 -5.163086e-01 -2.705801e-01 -6.971063e-01 -5.745784e-01   \n",
              "50%    5.202558e-02 -5.163086e-01  8.035410e-01 -1.412398e-01  0.000000e+00   \n",
              "75%    6.881250e-01 -5.163086e-01  8.035410e-01  4.146267e-01  4.194568e-01   \n",
              "max    2.490407e+00  1.936826e+00  8.035410e-01  3.749826e+00  6.721265e+00   \n",
              "\n",
              "                 5           6             7             8             9   \\\n",
              "count  9.170000e+02  917.000000  9.170000e+02  9.170000e+02  9.170000e+02   \n",
              "mean   4.649135e-17    0.000000 -5.114048e-16 -1.046055e-16  7.748558e-17   \n",
              "std    1.000546e+00    1.000546  1.000546e+00  1.000546e+00  1.000546e+00   \n",
              "min   -5.517333e-01   -0.749818 -3.016886e+00 -8.243101e-01 -3.269662e+00   \n",
              "25%   -5.517333e-01   -0.749818 -6.596226e-01 -8.243101e-01 -8.315022e-01   \n",
              "50%   -5.517333e-01   -0.749818  4.755658e-02 -8.243101e-01 -2.688500e-01   \n",
              "75%   -5.517333e-01    0.491306  7.547357e-01  1.213136e+00  5.751284e-01   \n",
              "max    1.812470e+00    1.732430  2.561971e+00  1.213136e+00  4.982571e+00   \n",
              "\n",
              "                 10  \n",
              "count  9.170000e+02  \n",
              "mean  -3.874279e-17  \n",
              "std    1.000546e+00  \n",
              "min   -1.051095e+00  \n",
              "25%   -1.051095e+00  \n",
              "50%    5.965186e-01  \n",
              "75%    5.965186e-01  \n",
              "max    2.244132e+00  "
            ],
            "text/html": [
              "\n",
              "  <div id=\"df-b03332ae-3e1b-4c7b-ba89-2ac6892a5c5b\">\n",
              "    <div class=\"colab-df-container\">\n",
              "      <div>\n",
              "<style scoped>\n",
              "    .dataframe tbody tr th:only-of-type {\n",
              "        vertical-align: middle;\n",
              "    }\n",
              "\n",
              "    .dataframe tbody tr th {\n",
              "        vertical-align: top;\n",
              "    }\n",
              "\n",
              "    .dataframe thead th {\n",
              "        text-align: right;\n",
              "    }\n",
              "</style>\n",
              "<table border=\"1\" class=\"dataframe\">\n",
              "  <thead>\n",
              "    <tr style=\"text-align: right;\">\n",
              "      <th></th>\n",
              "      <th>0</th>\n",
              "      <th>1</th>\n",
              "      <th>2</th>\n",
              "      <th>3</th>\n",
              "      <th>4</th>\n",
              "      <th>5</th>\n",
              "      <th>6</th>\n",
              "      <th>7</th>\n",
              "      <th>8</th>\n",
              "      <th>9</th>\n",
              "      <th>10</th>\n",
              "    </tr>\n",
              "  </thead>\n",
              "  <tbody>\n",
              "    <tr>\n",
              "      <th>count</th>\n",
              "      <td>9.170000e+02</td>\n",
              "      <td>9.170000e+02</td>\n",
              "      <td>9.170000e+02</td>\n",
              "      <td>9.170000e+02</td>\n",
              "      <td>9.170000e+02</td>\n",
              "      <td>9.170000e+02</td>\n",
              "      <td>917.000000</td>\n",
              "      <td>9.170000e+02</td>\n",
              "      <td>9.170000e+02</td>\n",
              "      <td>9.170000e+02</td>\n",
              "      <td>9.170000e+02</td>\n",
              "    </tr>\n",
              "    <tr>\n",
              "      <th>mean</th>\n",
              "      <td>1.859654e-16</td>\n",
              "      <td>7.748558e-18</td>\n",
              "      <td>1.046055e-16</td>\n",
              "      <td>7.767929e-16</td>\n",
              "      <td>-1.869340e-16</td>\n",
              "      <td>4.649135e-17</td>\n",
              "      <td>0.000000</td>\n",
              "      <td>-5.114048e-16</td>\n",
              "      <td>-1.046055e-16</td>\n",
              "      <td>7.748558e-17</td>\n",
              "      <td>-3.874279e-17</td>\n",
              "    </tr>\n",
              "    <tr>\n",
              "      <th>std</th>\n",
              "      <td>1.000546e+00</td>\n",
              "      <td>1.000546e+00</td>\n",
              "      <td>1.000546e+00</td>\n",
              "      <td>1.000546e+00</td>\n",
              "      <td>1.000546e+00</td>\n",
              "      <td>1.000546e+00</td>\n",
              "      <td>1.000546</td>\n",
              "      <td>1.000546e+00</td>\n",
              "      <td>1.000546e+00</td>\n",
              "      <td>1.000546e+00</td>\n",
              "      <td>1.000546e+00</td>\n",
              "    </tr>\n",
              "    <tr>\n",
              "      <th>min</th>\n",
              "      <td>-2.704405e+00</td>\n",
              "      <td>-5.163086e-01</td>\n",
              "      <td>-2.418822e+00</td>\n",
              "      <td>-2.920572e+00</td>\n",
              "      <td>-2.994023e+00</td>\n",
              "      <td>-5.517333e-01</td>\n",
              "      <td>-0.749818</td>\n",
              "      <td>-3.016886e+00</td>\n",
              "      <td>-8.243101e-01</td>\n",
              "      <td>-3.269662e+00</td>\n",
              "      <td>-1.051095e+00</td>\n",
              "    </tr>\n",
              "    <tr>\n",
              "      <th>25%</th>\n",
              "      <td>-6.900904e-01</td>\n",
              "      <td>-5.163086e-01</td>\n",
              "      <td>-2.705801e-01</td>\n",
              "      <td>-6.971063e-01</td>\n",
              "      <td>-5.745784e-01</td>\n",
              "      <td>-5.517333e-01</td>\n",
              "      <td>-0.749818</td>\n",
              "      <td>-6.596226e-01</td>\n",
              "      <td>-8.243101e-01</td>\n",
              "      <td>-8.315022e-01</td>\n",
              "      <td>-1.051095e+00</td>\n",
              "    </tr>\n",
              "    <tr>\n",
              "      <th>50%</th>\n",
              "      <td>5.202558e-02</td>\n",
              "      <td>-5.163086e-01</td>\n",
              "      <td>8.035410e-01</td>\n",
              "      <td>-1.412398e-01</td>\n",
              "      <td>0.000000e+00</td>\n",
              "      <td>-5.517333e-01</td>\n",
              "      <td>-0.749818</td>\n",
              "      <td>4.755658e-02</td>\n",
              "      <td>-8.243101e-01</td>\n",
              "      <td>-2.688500e-01</td>\n",
              "      <td>5.965186e-01</td>\n",
              "    </tr>\n",
              "    <tr>\n",
              "      <th>75%</th>\n",
              "      <td>6.881250e-01</td>\n",
              "      <td>-5.163086e-01</td>\n",
              "      <td>8.035410e-01</td>\n",
              "      <td>4.146267e-01</td>\n",
              "      <td>4.194568e-01</td>\n",
              "      <td>-5.517333e-01</td>\n",
              "      <td>0.491306</td>\n",
              "      <td>7.547357e-01</td>\n",
              "      <td>1.213136e+00</td>\n",
              "      <td>5.751284e-01</td>\n",
              "      <td>5.965186e-01</td>\n",
              "    </tr>\n",
              "    <tr>\n",
              "      <th>max</th>\n",
              "      <td>2.490407e+00</td>\n",
              "      <td>1.936826e+00</td>\n",
              "      <td>8.035410e-01</td>\n",
              "      <td>3.749826e+00</td>\n",
              "      <td>6.721265e+00</td>\n",
              "      <td>1.812470e+00</td>\n",
              "      <td>1.732430</td>\n",
              "      <td>2.561971e+00</td>\n",
              "      <td>1.213136e+00</td>\n",
              "      <td>4.982571e+00</td>\n",
              "      <td>2.244132e+00</td>\n",
              "    </tr>\n",
              "  </tbody>\n",
              "</table>\n",
              "</div>\n",
              "      <button class=\"colab-df-convert\" onclick=\"convertToInteractive('df-b03332ae-3e1b-4c7b-ba89-2ac6892a5c5b')\"\n",
              "              title=\"Convert this dataframe to an interactive table.\"\n",
              "              style=\"display:none;\">\n",
              "        \n",
              "  <svg xmlns=\"http://www.w3.org/2000/svg\" height=\"24px\"viewBox=\"0 0 24 24\"\n",
              "       width=\"24px\">\n",
              "    <path d=\"M0 0h24v24H0V0z\" fill=\"none\"/>\n",
              "    <path d=\"M18.56 5.44l.94 2.06.94-2.06 2.06-.94-2.06-.94-.94-2.06-.94 2.06-2.06.94zm-11 1L8.5 8.5l.94-2.06 2.06-.94-2.06-.94L8.5 2.5l-.94 2.06-2.06.94zm10 10l.94 2.06.94-2.06 2.06-.94-2.06-.94-.94-2.06-.94 2.06-2.06.94z\"/><path d=\"M17.41 7.96l-1.37-1.37c-.4-.4-.92-.59-1.43-.59-.52 0-1.04.2-1.43.59L10.3 9.45l-7.72 7.72c-.78.78-.78 2.05 0 2.83L4 21.41c.39.39.9.59 1.41.59.51 0 1.02-.2 1.41-.59l7.78-7.78 2.81-2.81c.8-.78.8-2.07 0-2.86zM5.41 20L4 18.59l7.72-7.72 1.47 1.35L5.41 20z\"/>\n",
              "  </svg>\n",
              "      </button>\n",
              "      \n",
              "  <style>\n",
              "    .colab-df-container {\n",
              "      display:flex;\n",
              "      flex-wrap:wrap;\n",
              "      gap: 12px;\n",
              "    }\n",
              "\n",
              "    .colab-df-convert {\n",
              "      background-color: #E8F0FE;\n",
              "      border: none;\n",
              "      border-radius: 50%;\n",
              "      cursor: pointer;\n",
              "      display: none;\n",
              "      fill: #1967D2;\n",
              "      height: 32px;\n",
              "      padding: 0 0 0 0;\n",
              "      width: 32px;\n",
              "    }\n",
              "\n",
              "    .colab-df-convert:hover {\n",
              "      background-color: #E2EBFA;\n",
              "      box-shadow: 0px 1px 2px rgba(60, 64, 67, 0.3), 0px 1px 3px 1px rgba(60, 64, 67, 0.15);\n",
              "      fill: #174EA6;\n",
              "    }\n",
              "\n",
              "    [theme=dark] .colab-df-convert {\n",
              "      background-color: #3B4455;\n",
              "      fill: #D2E3FC;\n",
              "    }\n",
              "\n",
              "    [theme=dark] .colab-df-convert:hover {\n",
              "      background-color: #434B5C;\n",
              "      box-shadow: 0px 1px 3px 1px rgba(0, 0, 0, 0.15);\n",
              "      filter: drop-shadow(0px 1px 2px rgba(0, 0, 0, 0.3));\n",
              "      fill: #FFFFFF;\n",
              "    }\n",
              "  </style>\n",
              "\n",
              "      <script>\n",
              "        const buttonEl =\n",
              "          document.querySelector('#df-b03332ae-3e1b-4c7b-ba89-2ac6892a5c5b button.colab-df-convert');\n",
              "        buttonEl.style.display =\n",
              "          google.colab.kernel.accessAllowed ? 'block' : 'none';\n",
              "\n",
              "        async function convertToInteractive(key) {\n",
              "          const element = document.querySelector('#df-b03332ae-3e1b-4c7b-ba89-2ac6892a5c5b');\n",
              "          const dataTable =\n",
              "            await google.colab.kernel.invokeFunction('convertToInteractive',\n",
              "                                                     [key], {});\n",
              "          if (!dataTable) return;\n",
              "\n",
              "          const docLinkHtml = 'Like what you see? Visit the ' +\n",
              "            '<a target=\"_blank\" href=https://colab.research.google.com/notebooks/data_table.ipynb>data table notebook</a>'\n",
              "            + ' to learn more about interactive tables.';\n",
              "          element.innerHTML = '';\n",
              "          dataTable['output_type'] = 'display_data';\n",
              "          await google.colab.output.renderOutput(dataTable, element);\n",
              "          const docLink = document.createElement('div');\n",
              "          docLink.innerHTML = docLinkHtml;\n",
              "          element.appendChild(docLink);\n",
              "        }\n",
              "      </script>\n",
              "    </div>\n",
              "  </div>\n",
              "  "
            ]
          },
          "metadata": {},
          "execution_count": 437
        }
      ]
    },
    {
      "cell_type": "markdown",
      "source": [
        "## Codificação de variáveis categóricas"
      ],
      "metadata": {
        "id": "C3uPl45tkhDG"
      }
    },
    {
      "cell_type": "markdown",
      "source": [
        "### LabelEncoder: tranformação de variáveis categóricas em numéricas (automaticamente)"
      ],
      "metadata": {
        "id": "AXIpqsxclAEX"
      }
    },
    {
      "cell_type": "code",
      "source": [
        "from sklearn.preprocessing import LabelEncoder"
      ],
      "metadata": {
        "id": "xP1vaNyQklel"
      },
      "execution_count": 438,
      "outputs": []
    },
    {
      "cell_type": "code",
      "source": [
        "df.head()"
      ],
      "metadata": {
        "colab": {
          "base_uri": "https://localhost:8080/",
          "height": 206
        },
        "id": "3LTkwOdBmI7K",
        "outputId": "4f24fa69-3af5-459c-9f56-9fc15f75b29c"
      },
      "execution_count": 439,
      "outputs": [
        {
          "output_type": "execute_result",
          "data": {
            "text/plain": [
              "   Age Sex ChestPainType  RestingBP  Cholesterol  FastingBS RestingECG  MaxHR  \\\n",
              "0   40   M           ATA        140        289.0          0     Normal    172   \n",
              "1   49   F           NAP        160        180.0          0     Normal    156   \n",
              "2   37   M           ATA        130        283.0          0         ST     98   \n",
              "3   48   F           ASY        138        214.0          0     Normal    108   \n",
              "4   54   M           NAP        150        195.0          0     Normal    122   \n",
              "\n",
              "  ExerciseAngina  Oldpeak ST_Slope  HeartDisease  \n",
              "0              N      0.0       Up             0  \n",
              "1              N      1.0     Flat             1  \n",
              "2              N      0.0       Up             0  \n",
              "3              Y      1.5     Flat             1  \n",
              "4              N      0.0       Up             0  "
            ],
            "text/html": [
              "\n",
              "  <div id=\"df-8135d79c-3c20-42e7-9cfe-dd211eaad3a5\">\n",
              "    <div class=\"colab-df-container\">\n",
              "      <div>\n",
              "<style scoped>\n",
              "    .dataframe tbody tr th:only-of-type {\n",
              "        vertical-align: middle;\n",
              "    }\n",
              "\n",
              "    .dataframe tbody tr th {\n",
              "        vertical-align: top;\n",
              "    }\n",
              "\n",
              "    .dataframe thead th {\n",
              "        text-align: right;\n",
              "    }\n",
              "</style>\n",
              "<table border=\"1\" class=\"dataframe\">\n",
              "  <thead>\n",
              "    <tr style=\"text-align: right;\">\n",
              "      <th></th>\n",
              "      <th>Age</th>\n",
              "      <th>Sex</th>\n",
              "      <th>ChestPainType</th>\n",
              "      <th>RestingBP</th>\n",
              "      <th>Cholesterol</th>\n",
              "      <th>FastingBS</th>\n",
              "      <th>RestingECG</th>\n",
              "      <th>MaxHR</th>\n",
              "      <th>ExerciseAngina</th>\n",
              "      <th>Oldpeak</th>\n",
              "      <th>ST_Slope</th>\n",
              "      <th>HeartDisease</th>\n",
              "    </tr>\n",
              "  </thead>\n",
              "  <tbody>\n",
              "    <tr>\n",
              "      <th>0</th>\n",
              "      <td>40</td>\n",
              "      <td>M</td>\n",
              "      <td>ATA</td>\n",
              "      <td>140</td>\n",
              "      <td>289.0</td>\n",
              "      <td>0</td>\n",
              "      <td>Normal</td>\n",
              "      <td>172</td>\n",
              "      <td>N</td>\n",
              "      <td>0.0</td>\n",
              "      <td>Up</td>\n",
              "      <td>0</td>\n",
              "    </tr>\n",
              "    <tr>\n",
              "      <th>1</th>\n",
              "      <td>49</td>\n",
              "      <td>F</td>\n",
              "      <td>NAP</td>\n",
              "      <td>160</td>\n",
              "      <td>180.0</td>\n",
              "      <td>0</td>\n",
              "      <td>Normal</td>\n",
              "      <td>156</td>\n",
              "      <td>N</td>\n",
              "      <td>1.0</td>\n",
              "      <td>Flat</td>\n",
              "      <td>1</td>\n",
              "    </tr>\n",
              "    <tr>\n",
              "      <th>2</th>\n",
              "      <td>37</td>\n",
              "      <td>M</td>\n",
              "      <td>ATA</td>\n",
              "      <td>130</td>\n",
              "      <td>283.0</td>\n",
              "      <td>0</td>\n",
              "      <td>ST</td>\n",
              "      <td>98</td>\n",
              "      <td>N</td>\n",
              "      <td>0.0</td>\n",
              "      <td>Up</td>\n",
              "      <td>0</td>\n",
              "    </tr>\n",
              "    <tr>\n",
              "      <th>3</th>\n",
              "      <td>48</td>\n",
              "      <td>F</td>\n",
              "      <td>ASY</td>\n",
              "      <td>138</td>\n",
              "      <td>214.0</td>\n",
              "      <td>0</td>\n",
              "      <td>Normal</td>\n",
              "      <td>108</td>\n",
              "      <td>Y</td>\n",
              "      <td>1.5</td>\n",
              "      <td>Flat</td>\n",
              "      <td>1</td>\n",
              "    </tr>\n",
              "    <tr>\n",
              "      <th>4</th>\n",
              "      <td>54</td>\n",
              "      <td>M</td>\n",
              "      <td>NAP</td>\n",
              "      <td>150</td>\n",
              "      <td>195.0</td>\n",
              "      <td>0</td>\n",
              "      <td>Normal</td>\n",
              "      <td>122</td>\n",
              "      <td>N</td>\n",
              "      <td>0.0</td>\n",
              "      <td>Up</td>\n",
              "      <td>0</td>\n",
              "    </tr>\n",
              "  </tbody>\n",
              "</table>\n",
              "</div>\n",
              "      <button class=\"colab-df-convert\" onclick=\"convertToInteractive('df-8135d79c-3c20-42e7-9cfe-dd211eaad3a5')\"\n",
              "              title=\"Convert this dataframe to an interactive table.\"\n",
              "              style=\"display:none;\">\n",
              "        \n",
              "  <svg xmlns=\"http://www.w3.org/2000/svg\" height=\"24px\"viewBox=\"0 0 24 24\"\n",
              "       width=\"24px\">\n",
              "    <path d=\"M0 0h24v24H0V0z\" fill=\"none\"/>\n",
              "    <path d=\"M18.56 5.44l.94 2.06.94-2.06 2.06-.94-2.06-.94-.94-2.06-.94 2.06-2.06.94zm-11 1L8.5 8.5l.94-2.06 2.06-.94-2.06-.94L8.5 2.5l-.94 2.06-2.06.94zm10 10l.94 2.06.94-2.06 2.06-.94-2.06-.94-.94-2.06-.94 2.06-2.06.94z\"/><path d=\"M17.41 7.96l-1.37-1.37c-.4-.4-.92-.59-1.43-.59-.52 0-1.04.2-1.43.59L10.3 9.45l-7.72 7.72c-.78.78-.78 2.05 0 2.83L4 21.41c.39.39.9.59 1.41.59.51 0 1.02-.2 1.41-.59l7.78-7.78 2.81-2.81c.8-.78.8-2.07 0-2.86zM5.41 20L4 18.59l7.72-7.72 1.47 1.35L5.41 20z\"/>\n",
              "  </svg>\n",
              "      </button>\n",
              "      \n",
              "  <style>\n",
              "    .colab-df-container {\n",
              "      display:flex;\n",
              "      flex-wrap:wrap;\n",
              "      gap: 12px;\n",
              "    }\n",
              "\n",
              "    .colab-df-convert {\n",
              "      background-color: #E8F0FE;\n",
              "      border: none;\n",
              "      border-radius: 50%;\n",
              "      cursor: pointer;\n",
              "      display: none;\n",
              "      fill: #1967D2;\n",
              "      height: 32px;\n",
              "      padding: 0 0 0 0;\n",
              "      width: 32px;\n",
              "    }\n",
              "\n",
              "    .colab-df-convert:hover {\n",
              "      background-color: #E2EBFA;\n",
              "      box-shadow: 0px 1px 2px rgba(60, 64, 67, 0.3), 0px 1px 3px 1px rgba(60, 64, 67, 0.15);\n",
              "      fill: #174EA6;\n",
              "    }\n",
              "\n",
              "    [theme=dark] .colab-df-convert {\n",
              "      background-color: #3B4455;\n",
              "      fill: #D2E3FC;\n",
              "    }\n",
              "\n",
              "    [theme=dark] .colab-df-convert:hover {\n",
              "      background-color: #434B5C;\n",
              "      box-shadow: 0px 1px 3px 1px rgba(0, 0, 0, 0.15);\n",
              "      filter: drop-shadow(0px 1px 2px rgba(0, 0, 0, 0.3));\n",
              "      fill: #FFFFFF;\n",
              "    }\n",
              "  </style>\n",
              "\n",
              "      <script>\n",
              "        const buttonEl =\n",
              "          document.querySelector('#df-8135d79c-3c20-42e7-9cfe-dd211eaad3a5 button.colab-df-convert');\n",
              "        buttonEl.style.display =\n",
              "          google.colab.kernel.accessAllowed ? 'block' : 'none';\n",
              "\n",
              "        async function convertToInteractive(key) {\n",
              "          const element = document.querySelector('#df-8135d79c-3c20-42e7-9cfe-dd211eaad3a5');\n",
              "          const dataTable =\n",
              "            await google.colab.kernel.invokeFunction('convertToInteractive',\n",
              "                                                     [key], {});\n",
              "          if (!dataTable) return;\n",
              "\n",
              "          const docLinkHtml = 'Like what you see? Visit the ' +\n",
              "            '<a target=\"_blank\" href=https://colab.research.google.com/notebooks/data_table.ipynb>data table notebook</a>'\n",
              "            + ' to learn more about interactive tables.';\n",
              "          element.innerHTML = '';\n",
              "          dataTable['output_type'] = 'display_data';\n",
              "          await google.colab.output.renderOutput(dataTable, element);\n",
              "          const docLink = document.createElement('div');\n",
              "          docLink.innerHTML = docLinkHtml;\n",
              "          element.appendChild(docLink);\n",
              "        }\n",
              "      </script>\n",
              "    </div>\n",
              "  </div>\n",
              "  "
            ]
          },
          "metadata": {},
          "execution_count": 439
        }
      ]
    },
    {
      "cell_type": "code",
      "source": [
        "previsores2 = df.iloc[:,0:11].values\n",
        "previsores2"
      ],
      "metadata": {
        "colab": {
          "base_uri": "https://localhost:8080/"
        },
        "id": "cylB6pjHmLzS",
        "outputId": "881454c7-c75b-4578-eb8c-6e731dc725a1"
      },
      "execution_count": 440,
      "outputs": [
        {
          "output_type": "execute_result",
          "data": {
            "text/plain": [
              "array([[40, 'M', 'ATA', ..., 'N', 0.0, 'Up'],\n",
              "       [49, 'F', 'NAP', ..., 'N', 1.0, 'Flat'],\n",
              "       [37, 'M', 'ATA', ..., 'N', 0.0, 'Up'],\n",
              "       ...,\n",
              "       [57, 'M', 'ASY', ..., 'Y', 1.2, 'Flat'],\n",
              "       [57, 'F', 'ATA', ..., 'N', 0.0, 'Flat'],\n",
              "       [38, 'M', 'NAP', ..., 'N', 0.0, 'Up']], dtype=object)"
            ]
          },
          "metadata": {},
          "execution_count": 440
        }
      ]
    },
    {
      "cell_type": "code",
      "source": [
        "previsores2[:,1] = LabelEncoder().fit_transform(previsores[:,1])"
      ],
      "metadata": {
        "id": "BiZISHwQmY2r"
      },
      "execution_count": 441,
      "outputs": []
    },
    {
      "cell_type": "code",
      "source": [
        "previsores2"
      ],
      "metadata": {
        "colab": {
          "base_uri": "https://localhost:8080/"
        },
        "id": "v9zFWRzcmqoa",
        "outputId": "78933143-f7e2-40c1-a938-4d8674cd930d"
      },
      "execution_count": 442,
      "outputs": [
        {
          "output_type": "execute_result",
          "data": {
            "text/plain": [
              "array([[40, 0, 'ATA', ..., 'N', 0.0, 'Up'],\n",
              "       [49, 1, 'NAP', ..., 'N', 1.0, 'Flat'],\n",
              "       [37, 0, 'ATA', ..., 'N', 0.0, 'Up'],\n",
              "       ...,\n",
              "       [57, 0, 'ASY', ..., 'Y', 1.2, 'Flat'],\n",
              "       [57, 1, 'ATA', ..., 'N', 0.0, 'Flat'],\n",
              "       [38, 0, 'NAP', ..., 'N', 0.0, 'Up']], dtype=object)"
            ]
          },
          "metadata": {},
          "execution_count": 442
        }
      ]
    },
    {
      "cell_type": "code",
      "source": [
        "previsores2[:,2] = LabelEncoder().fit_transform(previsores[:,2])\n",
        "previsores2[:,6] = LabelEncoder().fit_transform(previsores[:,6])\n",
        "previsores2[:,8] = LabelEncoder().fit_transform(previsores[:,8])\n",
        "previsores2[:,10] = LabelEncoder().fit_transform(previsores[:,10])"
      ],
      "metadata": {
        "id": "dsB7c85zmwYj"
      },
      "execution_count": 443,
      "outputs": []
    },
    {
      "cell_type": "code",
      "source": [
        "previsores2"
      ],
      "metadata": {
        "colab": {
          "base_uri": "https://localhost:8080/"
        },
        "id": "inEULirvm7KL",
        "outputId": "490ce864-6bdc-4ffd-fbaf-3b2e9c5eedce"
      },
      "execution_count": 444,
      "outputs": [
        {
          "output_type": "execute_result",
          "data": {
            "text/plain": [
              "array([[40, 0, 1, ..., 0, 0.0, 0],\n",
              "       [49, 1, 2, ..., 0, 1.0, 1],\n",
              "       [37, 0, 1, ..., 0, 0.0, 0],\n",
              "       ...,\n",
              "       [57, 0, 3, ..., 1, 1.2, 1],\n",
              "       [57, 1, 1, ..., 0, 0.0, 1],\n",
              "       [38, 0, 2, ..., 0, 0.0, 0]], dtype=object)"
            ]
          },
          "metadata": {},
          "execution_count": 444
        }
      ]
    },
    {
      "cell_type": "code",
      "source": [
        "previsores2.shape"
      ],
      "metadata": {
        "colab": {
          "base_uri": "https://localhost:8080/"
        },
        "id": "LD6ZH_nmm8nT",
        "outputId": "963c3a9c-f219-4c10-a220-96b33e12a198"
      },
      "execution_count": 445,
      "outputs": [
        {
          "output_type": "execute_result",
          "data": {
            "text/plain": [
              "(917, 11)"
            ]
          },
          "metadata": {},
          "execution_count": 445
        }
      ]
    },
    {
      "cell_type": "markdown",
      "source": [
        "### OneHotEncoder: Criação de variáveis Dummy (fictícia)."
      ],
      "metadata": {
        "id": "5MJ-haUunBEX"
      }
    },
    {
      "cell_type": "markdown",
      "source": [
        "cuidado com a multicolinearidade (variáveis altamente correlacionadas entre si)"
      ],
      "metadata": {
        "id": "TVB0PdnVnOoc"
      }
    },
    {
      "cell_type": "markdown",
      "source": [
        "ABCD \n",
        "\n",
        "A : 1000\n",
        "\n",
        "B : 0100\n",
        "\n",
        "C : 0010\n",
        "\n",
        "D : 0001"
      ],
      "metadata": {
        "id": "9pHhkh-onzMK"
      }
    },
    {
      "cell_type": "markdown",
      "source": [
        "lado ruim: descaracteriza a tabela de dados."
      ],
      "metadata": {
        "id": "cCsD8Z8UoJ3p"
      }
    },
    {
      "cell_type": "code",
      "source": [
        "from sklearn.preprocessing import OneHotEncoder\n",
        "from sklearn.compose import ColumnTransformer"
      ],
      "metadata": {
        "id": "GOV55S4JnABL"
      },
      "execution_count": 446,
      "outputs": []
    },
    {
      "cell_type": "code",
      "source": [
        "ColumnTransformer?"
      ],
      "metadata": {
        "id": "w3zGCYMyoPxp"
      },
      "execution_count": 447,
      "outputs": []
    },
    {
      "cell_type": "code",
      "source": [
        "previsores3 = ColumnTransformer(transformers = [('OneHot', OneHotEncoder(),[1,2,6,8,10])],\n",
        "                                remainder='passthrough').fit_transform(previsores2)"
      ],
      "metadata": {
        "id": "uiz7n-14oSy6"
      },
      "execution_count": 448,
      "outputs": []
    },
    {
      "cell_type": "code",
      "source": [
        "previsores3"
      ],
      "metadata": {
        "colab": {
          "base_uri": "https://localhost:8080/"
        },
        "id": "ph1LC-NNpONE",
        "outputId": "cae471b7-dfd7-4436-8d74-86c2f1555a4b"
      },
      "execution_count": 449,
      "outputs": [
        {
          "output_type": "execute_result",
          "data": {
            "text/plain": [
              "array([[1.0, 0.0, 0.0, ..., 0, 172, 0.0],\n",
              "       [0.0, 1.0, 0.0, ..., 0, 156, 1.0],\n",
              "       [1.0, 0.0, 0.0, ..., 0, 98, 0.0],\n",
              "       ...,\n",
              "       [1.0, 0.0, 0.0, ..., 0, 115, 1.2],\n",
              "       [0.0, 1.0, 0.0, ..., 0, 174, 0.0],\n",
              "       [1.0, 0.0, 0.0, ..., 0, 173, 0.0]], dtype=object)"
            ]
          },
          "metadata": {},
          "execution_count": 449
        }
      ]
    },
    {
      "cell_type": "code",
      "source": [
        "previsores3.shape"
      ],
      "metadata": {
        "colab": {
          "base_uri": "https://localhost:8080/"
        },
        "id": "x3mcT01FpmiS",
        "outputId": "0f23dc8c-c480-4e9e-bd5f-73fe46e0ca7d"
      },
      "execution_count": 450,
      "outputs": [
        {
          "output_type": "execute_result",
          "data": {
            "text/plain": [
              "(917, 20)"
            ]
          },
          "metadata": {},
          "execution_count": 450
        }
      ]
    },
    {
      "cell_type": "code",
      "source": [
        "previsores3df = pd.DataFrame(previsores3)\n",
        "previsores3df"
      ],
      "metadata": {
        "colab": {
          "base_uri": "https://localhost:8080/",
          "height": 424
        },
        "id": "ALlC7gAPpoq9",
        "outputId": "ed0468ea-8d8e-4672-f69d-5704c7b43f14"
      },
      "execution_count": 451,
      "outputs": [
        {
          "output_type": "execute_result",
          "data": {
            "text/plain": [
              "      0    1    2    3    4    5    6    7    8    9    10   11   12   13  14  \\\n",
              "0    1.0  0.0  0.0  1.0  0.0  0.0  1.0  0.0  0.0  1.0  0.0  1.0  0.0  0.0  40   \n",
              "1    0.0  1.0  0.0  0.0  1.0  0.0  1.0  0.0  0.0  1.0  0.0  0.0  1.0  0.0  49   \n",
              "2    1.0  0.0  0.0  1.0  0.0  0.0  0.0  1.0  0.0  1.0  0.0  1.0  0.0  0.0  37   \n",
              "3    0.0  1.0  0.0  0.0  0.0  1.0  1.0  0.0  0.0  0.0  1.0  0.0  1.0  0.0  48   \n",
              "4    1.0  0.0  0.0  0.0  1.0  0.0  1.0  0.0  0.0  1.0  0.0  1.0  0.0  0.0  54   \n",
              "..   ...  ...  ...  ...  ...  ...  ...  ...  ...  ...  ...  ...  ...  ...  ..   \n",
              "912  1.0  0.0  1.0  0.0  0.0  0.0  1.0  0.0  0.0  1.0  0.0  0.0  1.0  0.0  45   \n",
              "913  1.0  0.0  0.0  0.0  0.0  1.0  1.0  0.0  0.0  1.0  0.0  0.0  1.0  0.0  68   \n",
              "914  1.0  0.0  0.0  0.0  0.0  1.0  1.0  0.0  0.0  0.0  1.0  0.0  1.0  0.0  57   \n",
              "915  0.0  1.0  0.0  1.0  0.0  0.0  0.0  0.0  1.0  1.0  0.0  0.0  1.0  0.0  57   \n",
              "916  1.0  0.0  0.0  0.0  1.0  0.0  1.0  0.0  0.0  1.0  0.0  1.0  0.0  0.0  38   \n",
              "\n",
              "      15     16 17   18   19  \n",
              "0    140  289.0  0  172  0.0  \n",
              "1    160  180.0  0  156  1.0  \n",
              "2    130  283.0  0   98  0.0  \n",
              "3    138  214.0  0  108  1.5  \n",
              "4    150  195.0  0  122  0.0  \n",
              "..   ...    ... ..  ...  ...  \n",
              "912  110  264.0  0  132  1.2  \n",
              "913  144  193.0  1  141  3.4  \n",
              "914  130  131.0  0  115  1.2  \n",
              "915  130  236.0  0  174  0.0  \n",
              "916  138  175.0  0  173  0.0  \n",
              "\n",
              "[917 rows x 20 columns]"
            ],
            "text/html": [
              "\n",
              "  <div id=\"df-029bd3eb-43ce-442d-8c77-c11e52119dcd\">\n",
              "    <div class=\"colab-df-container\">\n",
              "      <div>\n",
              "<style scoped>\n",
              "    .dataframe tbody tr th:only-of-type {\n",
              "        vertical-align: middle;\n",
              "    }\n",
              "\n",
              "    .dataframe tbody tr th {\n",
              "        vertical-align: top;\n",
              "    }\n",
              "\n",
              "    .dataframe thead th {\n",
              "        text-align: right;\n",
              "    }\n",
              "</style>\n",
              "<table border=\"1\" class=\"dataframe\">\n",
              "  <thead>\n",
              "    <tr style=\"text-align: right;\">\n",
              "      <th></th>\n",
              "      <th>0</th>\n",
              "      <th>1</th>\n",
              "      <th>2</th>\n",
              "      <th>3</th>\n",
              "      <th>4</th>\n",
              "      <th>5</th>\n",
              "      <th>6</th>\n",
              "      <th>7</th>\n",
              "      <th>8</th>\n",
              "      <th>9</th>\n",
              "      <th>10</th>\n",
              "      <th>11</th>\n",
              "      <th>12</th>\n",
              "      <th>13</th>\n",
              "      <th>14</th>\n",
              "      <th>15</th>\n",
              "      <th>16</th>\n",
              "      <th>17</th>\n",
              "      <th>18</th>\n",
              "      <th>19</th>\n",
              "    </tr>\n",
              "  </thead>\n",
              "  <tbody>\n",
              "    <tr>\n",
              "      <th>0</th>\n",
              "      <td>1.0</td>\n",
              "      <td>0.0</td>\n",
              "      <td>0.0</td>\n",
              "      <td>1.0</td>\n",
              "      <td>0.0</td>\n",
              "      <td>0.0</td>\n",
              "      <td>1.0</td>\n",
              "      <td>0.0</td>\n",
              "      <td>0.0</td>\n",
              "      <td>1.0</td>\n",
              "      <td>0.0</td>\n",
              "      <td>1.0</td>\n",
              "      <td>0.0</td>\n",
              "      <td>0.0</td>\n",
              "      <td>40</td>\n",
              "      <td>140</td>\n",
              "      <td>289.0</td>\n",
              "      <td>0</td>\n",
              "      <td>172</td>\n",
              "      <td>0.0</td>\n",
              "    </tr>\n",
              "    <tr>\n",
              "      <th>1</th>\n",
              "      <td>0.0</td>\n",
              "      <td>1.0</td>\n",
              "      <td>0.0</td>\n",
              "      <td>0.0</td>\n",
              "      <td>1.0</td>\n",
              "      <td>0.0</td>\n",
              "      <td>1.0</td>\n",
              "      <td>0.0</td>\n",
              "      <td>0.0</td>\n",
              "      <td>1.0</td>\n",
              "      <td>0.0</td>\n",
              "      <td>0.0</td>\n",
              "      <td>1.0</td>\n",
              "      <td>0.0</td>\n",
              "      <td>49</td>\n",
              "      <td>160</td>\n",
              "      <td>180.0</td>\n",
              "      <td>0</td>\n",
              "      <td>156</td>\n",
              "      <td>1.0</td>\n",
              "    </tr>\n",
              "    <tr>\n",
              "      <th>2</th>\n",
              "      <td>1.0</td>\n",
              "      <td>0.0</td>\n",
              "      <td>0.0</td>\n",
              "      <td>1.0</td>\n",
              "      <td>0.0</td>\n",
              "      <td>0.0</td>\n",
              "      <td>0.0</td>\n",
              "      <td>1.0</td>\n",
              "      <td>0.0</td>\n",
              "      <td>1.0</td>\n",
              "      <td>0.0</td>\n",
              "      <td>1.0</td>\n",
              "      <td>0.0</td>\n",
              "      <td>0.0</td>\n",
              "      <td>37</td>\n",
              "      <td>130</td>\n",
              "      <td>283.0</td>\n",
              "      <td>0</td>\n",
              "      <td>98</td>\n",
              "      <td>0.0</td>\n",
              "    </tr>\n",
              "    <tr>\n",
              "      <th>3</th>\n",
              "      <td>0.0</td>\n",
              "      <td>1.0</td>\n",
              "      <td>0.0</td>\n",
              "      <td>0.0</td>\n",
              "      <td>0.0</td>\n",
              "      <td>1.0</td>\n",
              "      <td>1.0</td>\n",
              "      <td>0.0</td>\n",
              "      <td>0.0</td>\n",
              "      <td>0.0</td>\n",
              "      <td>1.0</td>\n",
              "      <td>0.0</td>\n",
              "      <td>1.0</td>\n",
              "      <td>0.0</td>\n",
              "      <td>48</td>\n",
              "      <td>138</td>\n",
              "      <td>214.0</td>\n",
              "      <td>0</td>\n",
              "      <td>108</td>\n",
              "      <td>1.5</td>\n",
              "    </tr>\n",
              "    <tr>\n",
              "      <th>4</th>\n",
              "      <td>1.0</td>\n",
              "      <td>0.0</td>\n",
              "      <td>0.0</td>\n",
              "      <td>0.0</td>\n",
              "      <td>1.0</td>\n",
              "      <td>0.0</td>\n",
              "      <td>1.0</td>\n",
              "      <td>0.0</td>\n",
              "      <td>0.0</td>\n",
              "      <td>1.0</td>\n",
              "      <td>0.0</td>\n",
              "      <td>1.0</td>\n",
              "      <td>0.0</td>\n",
              "      <td>0.0</td>\n",
              "      <td>54</td>\n",
              "      <td>150</td>\n",
              "      <td>195.0</td>\n",
              "      <td>0</td>\n",
              "      <td>122</td>\n",
              "      <td>0.0</td>\n",
              "    </tr>\n",
              "    <tr>\n",
              "      <th>...</th>\n",
              "      <td>...</td>\n",
              "      <td>...</td>\n",
              "      <td>...</td>\n",
              "      <td>...</td>\n",
              "      <td>...</td>\n",
              "      <td>...</td>\n",
              "      <td>...</td>\n",
              "      <td>...</td>\n",
              "      <td>...</td>\n",
              "      <td>...</td>\n",
              "      <td>...</td>\n",
              "      <td>...</td>\n",
              "      <td>...</td>\n",
              "      <td>...</td>\n",
              "      <td>...</td>\n",
              "      <td>...</td>\n",
              "      <td>...</td>\n",
              "      <td>...</td>\n",
              "      <td>...</td>\n",
              "      <td>...</td>\n",
              "    </tr>\n",
              "    <tr>\n",
              "      <th>912</th>\n",
              "      <td>1.0</td>\n",
              "      <td>0.0</td>\n",
              "      <td>1.0</td>\n",
              "      <td>0.0</td>\n",
              "      <td>0.0</td>\n",
              "      <td>0.0</td>\n",
              "      <td>1.0</td>\n",
              "      <td>0.0</td>\n",
              "      <td>0.0</td>\n",
              "      <td>1.0</td>\n",
              "      <td>0.0</td>\n",
              "      <td>0.0</td>\n",
              "      <td>1.0</td>\n",
              "      <td>0.0</td>\n",
              "      <td>45</td>\n",
              "      <td>110</td>\n",
              "      <td>264.0</td>\n",
              "      <td>0</td>\n",
              "      <td>132</td>\n",
              "      <td>1.2</td>\n",
              "    </tr>\n",
              "    <tr>\n",
              "      <th>913</th>\n",
              "      <td>1.0</td>\n",
              "      <td>0.0</td>\n",
              "      <td>0.0</td>\n",
              "      <td>0.0</td>\n",
              "      <td>0.0</td>\n",
              "      <td>1.0</td>\n",
              "      <td>1.0</td>\n",
              "      <td>0.0</td>\n",
              "      <td>0.0</td>\n",
              "      <td>1.0</td>\n",
              "      <td>0.0</td>\n",
              "      <td>0.0</td>\n",
              "      <td>1.0</td>\n",
              "      <td>0.0</td>\n",
              "      <td>68</td>\n",
              "      <td>144</td>\n",
              "      <td>193.0</td>\n",
              "      <td>1</td>\n",
              "      <td>141</td>\n",
              "      <td>3.4</td>\n",
              "    </tr>\n",
              "    <tr>\n",
              "      <th>914</th>\n",
              "      <td>1.0</td>\n",
              "      <td>0.0</td>\n",
              "      <td>0.0</td>\n",
              "      <td>0.0</td>\n",
              "      <td>0.0</td>\n",
              "      <td>1.0</td>\n",
              "      <td>1.0</td>\n",
              "      <td>0.0</td>\n",
              "      <td>0.0</td>\n",
              "      <td>0.0</td>\n",
              "      <td>1.0</td>\n",
              "      <td>0.0</td>\n",
              "      <td>1.0</td>\n",
              "      <td>0.0</td>\n",
              "      <td>57</td>\n",
              "      <td>130</td>\n",
              "      <td>131.0</td>\n",
              "      <td>0</td>\n",
              "      <td>115</td>\n",
              "      <td>1.2</td>\n",
              "    </tr>\n",
              "    <tr>\n",
              "      <th>915</th>\n",
              "      <td>0.0</td>\n",
              "      <td>1.0</td>\n",
              "      <td>0.0</td>\n",
              "      <td>1.0</td>\n",
              "      <td>0.0</td>\n",
              "      <td>0.0</td>\n",
              "      <td>0.0</td>\n",
              "      <td>0.0</td>\n",
              "      <td>1.0</td>\n",
              "      <td>1.0</td>\n",
              "      <td>0.0</td>\n",
              "      <td>0.0</td>\n",
              "      <td>1.0</td>\n",
              "      <td>0.0</td>\n",
              "      <td>57</td>\n",
              "      <td>130</td>\n",
              "      <td>236.0</td>\n",
              "      <td>0</td>\n",
              "      <td>174</td>\n",
              "      <td>0.0</td>\n",
              "    </tr>\n",
              "    <tr>\n",
              "      <th>916</th>\n",
              "      <td>1.0</td>\n",
              "      <td>0.0</td>\n",
              "      <td>0.0</td>\n",
              "      <td>0.0</td>\n",
              "      <td>1.0</td>\n",
              "      <td>0.0</td>\n",
              "      <td>1.0</td>\n",
              "      <td>0.0</td>\n",
              "      <td>0.0</td>\n",
              "      <td>1.0</td>\n",
              "      <td>0.0</td>\n",
              "      <td>1.0</td>\n",
              "      <td>0.0</td>\n",
              "      <td>0.0</td>\n",
              "      <td>38</td>\n",
              "      <td>138</td>\n",
              "      <td>175.0</td>\n",
              "      <td>0</td>\n",
              "      <td>173</td>\n",
              "      <td>0.0</td>\n",
              "    </tr>\n",
              "  </tbody>\n",
              "</table>\n",
              "<p>917 rows × 20 columns</p>\n",
              "</div>\n",
              "      <button class=\"colab-df-convert\" onclick=\"convertToInteractive('df-029bd3eb-43ce-442d-8c77-c11e52119dcd')\"\n",
              "              title=\"Convert this dataframe to an interactive table.\"\n",
              "              style=\"display:none;\">\n",
              "        \n",
              "  <svg xmlns=\"http://www.w3.org/2000/svg\" height=\"24px\"viewBox=\"0 0 24 24\"\n",
              "       width=\"24px\">\n",
              "    <path d=\"M0 0h24v24H0V0z\" fill=\"none\"/>\n",
              "    <path d=\"M18.56 5.44l.94 2.06.94-2.06 2.06-.94-2.06-.94-.94-2.06-.94 2.06-2.06.94zm-11 1L8.5 8.5l.94-2.06 2.06-.94-2.06-.94L8.5 2.5l-.94 2.06-2.06.94zm10 10l.94 2.06.94-2.06 2.06-.94-2.06-.94-.94-2.06-.94 2.06-2.06.94z\"/><path d=\"M17.41 7.96l-1.37-1.37c-.4-.4-.92-.59-1.43-.59-.52 0-1.04.2-1.43.59L10.3 9.45l-7.72 7.72c-.78.78-.78 2.05 0 2.83L4 21.41c.39.39.9.59 1.41.59.51 0 1.02-.2 1.41-.59l7.78-7.78 2.81-2.81c.8-.78.8-2.07 0-2.86zM5.41 20L4 18.59l7.72-7.72 1.47 1.35L5.41 20z\"/>\n",
              "  </svg>\n",
              "      </button>\n",
              "      \n",
              "  <style>\n",
              "    .colab-df-container {\n",
              "      display:flex;\n",
              "      flex-wrap:wrap;\n",
              "      gap: 12px;\n",
              "    }\n",
              "\n",
              "    .colab-df-convert {\n",
              "      background-color: #E8F0FE;\n",
              "      border: none;\n",
              "      border-radius: 50%;\n",
              "      cursor: pointer;\n",
              "      display: none;\n",
              "      fill: #1967D2;\n",
              "      height: 32px;\n",
              "      padding: 0 0 0 0;\n",
              "      width: 32px;\n",
              "    }\n",
              "\n",
              "    .colab-df-convert:hover {\n",
              "      background-color: #E2EBFA;\n",
              "      box-shadow: 0px 1px 2px rgba(60, 64, 67, 0.3), 0px 1px 3px 1px rgba(60, 64, 67, 0.15);\n",
              "      fill: #174EA6;\n",
              "    }\n",
              "\n",
              "    [theme=dark] .colab-df-convert {\n",
              "      background-color: #3B4455;\n",
              "      fill: #D2E3FC;\n",
              "    }\n",
              "\n",
              "    [theme=dark] .colab-df-convert:hover {\n",
              "      background-color: #434B5C;\n",
              "      box-shadow: 0px 1px 3px 1px rgba(0, 0, 0, 0.15);\n",
              "      filter: drop-shadow(0px 1px 2px rgba(0, 0, 0, 0.3));\n",
              "      fill: #FFFFFF;\n",
              "    }\n",
              "  </style>\n",
              "\n",
              "      <script>\n",
              "        const buttonEl =\n",
              "          document.querySelector('#df-029bd3eb-43ce-442d-8c77-c11e52119dcd button.colab-df-convert');\n",
              "        buttonEl.style.display =\n",
              "          google.colab.kernel.accessAllowed ? 'block' : 'none';\n",
              "\n",
              "        async function convertToInteractive(key) {\n",
              "          const element = document.querySelector('#df-029bd3eb-43ce-442d-8c77-c11e52119dcd');\n",
              "          const dataTable =\n",
              "            await google.colab.kernel.invokeFunction('convertToInteractive',\n",
              "                                                     [key], {});\n",
              "          if (!dataTable) return;\n",
              "\n",
              "          const docLinkHtml = 'Like what you see? Visit the ' +\n",
              "            '<a target=\"_blank\" href=https://colab.research.google.com/notebooks/data_table.ipynb>data table notebook</a>'\n",
              "            + ' to learn more about interactive tables.';\n",
              "          element.innerHTML = '';\n",
              "          dataTable['output_type'] = 'display_data';\n",
              "          await google.colab.output.renderOutput(dataTable, element);\n",
              "          const docLink = document.createElement('div');\n",
              "          docLink.innerHTML = docLinkHtml;\n",
              "          element.appendChild(docLink);\n",
              "        }\n",
              "      </script>\n",
              "    </div>\n",
              "  </div>\n",
              "  "
            ]
          },
          "metadata": {},
          "execution_count": 451
        }
      ]
    },
    {
      "cell_type": "code",
      "source": [
        "df.head()"
      ],
      "metadata": {
        "colab": {
          "base_uri": "https://localhost:8080/",
          "height": 206
        },
        "id": "YWYp0IwEp16h",
        "outputId": "cd91a126-5c8d-4747-e78e-cd4f2fa1c875"
      },
      "execution_count": 452,
      "outputs": [
        {
          "output_type": "execute_result",
          "data": {
            "text/plain": [
              "   Age Sex ChestPainType  RestingBP  Cholesterol  FastingBS RestingECG  MaxHR  \\\n",
              "0   40   M           ATA        140        289.0          0     Normal    172   \n",
              "1   49   F           NAP        160        180.0          0     Normal    156   \n",
              "2   37   M           ATA        130        283.0          0         ST     98   \n",
              "3   48   F           ASY        138        214.0          0     Normal    108   \n",
              "4   54   M           NAP        150        195.0          0     Normal    122   \n",
              "\n",
              "  ExerciseAngina  Oldpeak ST_Slope  HeartDisease  \n",
              "0              N      0.0       Up             0  \n",
              "1              N      1.0     Flat             1  \n",
              "2              N      0.0       Up             0  \n",
              "3              Y      1.5     Flat             1  \n",
              "4              N      0.0       Up             0  "
            ],
            "text/html": [
              "\n",
              "  <div id=\"df-37fc760f-6b3c-434b-8680-23d0ae90617a\">\n",
              "    <div class=\"colab-df-container\">\n",
              "      <div>\n",
              "<style scoped>\n",
              "    .dataframe tbody tr th:only-of-type {\n",
              "        vertical-align: middle;\n",
              "    }\n",
              "\n",
              "    .dataframe tbody tr th {\n",
              "        vertical-align: top;\n",
              "    }\n",
              "\n",
              "    .dataframe thead th {\n",
              "        text-align: right;\n",
              "    }\n",
              "</style>\n",
              "<table border=\"1\" class=\"dataframe\">\n",
              "  <thead>\n",
              "    <tr style=\"text-align: right;\">\n",
              "      <th></th>\n",
              "      <th>Age</th>\n",
              "      <th>Sex</th>\n",
              "      <th>ChestPainType</th>\n",
              "      <th>RestingBP</th>\n",
              "      <th>Cholesterol</th>\n",
              "      <th>FastingBS</th>\n",
              "      <th>RestingECG</th>\n",
              "      <th>MaxHR</th>\n",
              "      <th>ExerciseAngina</th>\n",
              "      <th>Oldpeak</th>\n",
              "      <th>ST_Slope</th>\n",
              "      <th>HeartDisease</th>\n",
              "    </tr>\n",
              "  </thead>\n",
              "  <tbody>\n",
              "    <tr>\n",
              "      <th>0</th>\n",
              "      <td>40</td>\n",
              "      <td>M</td>\n",
              "      <td>ATA</td>\n",
              "      <td>140</td>\n",
              "      <td>289.0</td>\n",
              "      <td>0</td>\n",
              "      <td>Normal</td>\n",
              "      <td>172</td>\n",
              "      <td>N</td>\n",
              "      <td>0.0</td>\n",
              "      <td>Up</td>\n",
              "      <td>0</td>\n",
              "    </tr>\n",
              "    <tr>\n",
              "      <th>1</th>\n",
              "      <td>49</td>\n",
              "      <td>F</td>\n",
              "      <td>NAP</td>\n",
              "      <td>160</td>\n",
              "      <td>180.0</td>\n",
              "      <td>0</td>\n",
              "      <td>Normal</td>\n",
              "      <td>156</td>\n",
              "      <td>N</td>\n",
              "      <td>1.0</td>\n",
              "      <td>Flat</td>\n",
              "      <td>1</td>\n",
              "    </tr>\n",
              "    <tr>\n",
              "      <th>2</th>\n",
              "      <td>37</td>\n",
              "      <td>M</td>\n",
              "      <td>ATA</td>\n",
              "      <td>130</td>\n",
              "      <td>283.0</td>\n",
              "      <td>0</td>\n",
              "      <td>ST</td>\n",
              "      <td>98</td>\n",
              "      <td>N</td>\n",
              "      <td>0.0</td>\n",
              "      <td>Up</td>\n",
              "      <td>0</td>\n",
              "    </tr>\n",
              "    <tr>\n",
              "      <th>3</th>\n",
              "      <td>48</td>\n",
              "      <td>F</td>\n",
              "      <td>ASY</td>\n",
              "      <td>138</td>\n",
              "      <td>214.0</td>\n",
              "      <td>0</td>\n",
              "      <td>Normal</td>\n",
              "      <td>108</td>\n",
              "      <td>Y</td>\n",
              "      <td>1.5</td>\n",
              "      <td>Flat</td>\n",
              "      <td>1</td>\n",
              "    </tr>\n",
              "    <tr>\n",
              "      <th>4</th>\n",
              "      <td>54</td>\n",
              "      <td>M</td>\n",
              "      <td>NAP</td>\n",
              "      <td>150</td>\n",
              "      <td>195.0</td>\n",
              "      <td>0</td>\n",
              "      <td>Normal</td>\n",
              "      <td>122</td>\n",
              "      <td>N</td>\n",
              "      <td>0.0</td>\n",
              "      <td>Up</td>\n",
              "      <td>0</td>\n",
              "    </tr>\n",
              "  </tbody>\n",
              "</table>\n",
              "</div>\n",
              "      <button class=\"colab-df-convert\" onclick=\"convertToInteractive('df-37fc760f-6b3c-434b-8680-23d0ae90617a')\"\n",
              "              title=\"Convert this dataframe to an interactive table.\"\n",
              "              style=\"display:none;\">\n",
              "        \n",
              "  <svg xmlns=\"http://www.w3.org/2000/svg\" height=\"24px\"viewBox=\"0 0 24 24\"\n",
              "       width=\"24px\">\n",
              "    <path d=\"M0 0h24v24H0V0z\" fill=\"none\"/>\n",
              "    <path d=\"M18.56 5.44l.94 2.06.94-2.06 2.06-.94-2.06-.94-.94-2.06-.94 2.06-2.06.94zm-11 1L8.5 8.5l.94-2.06 2.06-.94-2.06-.94L8.5 2.5l-.94 2.06-2.06.94zm10 10l.94 2.06.94-2.06 2.06-.94-2.06-.94-.94-2.06-.94 2.06-2.06.94z\"/><path d=\"M17.41 7.96l-1.37-1.37c-.4-.4-.92-.59-1.43-.59-.52 0-1.04.2-1.43.59L10.3 9.45l-7.72 7.72c-.78.78-.78 2.05 0 2.83L4 21.41c.39.39.9.59 1.41.59.51 0 1.02-.2 1.41-.59l7.78-7.78 2.81-2.81c.8-.78.8-2.07 0-2.86zM5.41 20L4 18.59l7.72-7.72 1.47 1.35L5.41 20z\"/>\n",
              "  </svg>\n",
              "      </button>\n",
              "      \n",
              "  <style>\n",
              "    .colab-df-container {\n",
              "      display:flex;\n",
              "      flex-wrap:wrap;\n",
              "      gap: 12px;\n",
              "    }\n",
              "\n",
              "    .colab-df-convert {\n",
              "      background-color: #E8F0FE;\n",
              "      border: none;\n",
              "      border-radius: 50%;\n",
              "      cursor: pointer;\n",
              "      display: none;\n",
              "      fill: #1967D2;\n",
              "      height: 32px;\n",
              "      padding: 0 0 0 0;\n",
              "      width: 32px;\n",
              "    }\n",
              "\n",
              "    .colab-df-convert:hover {\n",
              "      background-color: #E2EBFA;\n",
              "      box-shadow: 0px 1px 2px rgba(60, 64, 67, 0.3), 0px 1px 3px 1px rgba(60, 64, 67, 0.15);\n",
              "      fill: #174EA6;\n",
              "    }\n",
              "\n",
              "    [theme=dark] .colab-df-convert {\n",
              "      background-color: #3B4455;\n",
              "      fill: #D2E3FC;\n",
              "    }\n",
              "\n",
              "    [theme=dark] .colab-df-convert:hover {\n",
              "      background-color: #434B5C;\n",
              "      box-shadow: 0px 1px 3px 1px rgba(0, 0, 0, 0.15);\n",
              "      filter: drop-shadow(0px 1px 2px rgba(0, 0, 0, 0.3));\n",
              "      fill: #FFFFFF;\n",
              "    }\n",
              "  </style>\n",
              "\n",
              "      <script>\n",
              "        const buttonEl =\n",
              "          document.querySelector('#df-37fc760f-6b3c-434b-8680-23d0ae90617a button.colab-df-convert');\n",
              "        buttonEl.style.display =\n",
              "          google.colab.kernel.accessAllowed ? 'block' : 'none';\n",
              "\n",
              "        async function convertToInteractive(key) {\n",
              "          const element = document.querySelector('#df-37fc760f-6b3c-434b-8680-23d0ae90617a');\n",
              "          const dataTable =\n",
              "            await google.colab.kernel.invokeFunction('convertToInteractive',\n",
              "                                                     [key], {});\n",
              "          if (!dataTable) return;\n",
              "\n",
              "          const docLinkHtml = 'Like what you see? Visit the ' +\n",
              "            '<a target=\"_blank\" href=https://colab.research.google.com/notebooks/data_table.ipynb>data table notebook</a>'\n",
              "            + ' to learn more about interactive tables.';\n",
              "          element.innerHTML = '';\n",
              "          dataTable['output_type'] = 'display_data';\n",
              "          await google.colab.output.renderOutput(dataTable, element);\n",
              "          const docLink = document.createElement('div');\n",
              "          docLink.innerHTML = docLinkHtml;\n",
              "          element.appendChild(docLink);\n",
              "        }\n",
              "      </script>\n",
              "    </div>\n",
              "  </div>\n",
              "  "
            ]
          },
          "metadata": {},
          "execution_count": 452
        }
      ]
    },
    {
      "cell_type": "markdown",
      "source": [
        "### Escalonamento"
      ],
      "metadata": {
        "id": "hT5sDX9RqBZA"
      }
    },
    {
      "cell_type": "code",
      "source": [
        "previsores3_esc = StandardScaler().fit_transform(previsores3)"
      ],
      "metadata": {
        "id": "iqjD0fUTqET7"
      },
      "execution_count": 453,
      "outputs": []
    },
    {
      "cell_type": "code",
      "source": [
        "previsores3df = pd.DataFrame(previsores3_esc)\n",
        "previsores3df"
      ],
      "metadata": {
        "colab": {
          "base_uri": "https://localhost:8080/",
          "height": 488
        },
        "id": "E-YEqWlWqV9e",
        "outputId": "727b1f6c-e4d2-43aa-a0b3-6a260b02ee0f"
      },
      "execution_count": 454,
      "outputs": [
        {
          "output_type": "execute_result",
          "data": {
            "text/plain": [
              "           0         1         2         3         4         5         6   \\\n",
              "0    0.516309 -0.516309 -0.229810  2.073784 -0.531524 -1.085425  0.815013   \n",
              "1   -1.936826  1.936826 -0.229810 -0.482210  1.881384 -1.085425  0.815013   \n",
              "2    0.516309 -0.516309 -0.229810  2.073784 -0.531524 -1.085425 -1.226974   \n",
              "3   -1.936826  1.936826 -0.229810 -0.482210 -0.531524  0.921298  0.815013   \n",
              "4    0.516309 -0.516309 -0.229810 -0.482210  1.881384 -1.085425  0.815013   \n",
              "..        ...       ...       ...       ...       ...       ...       ...   \n",
              "912  0.516309 -0.516309  4.351412 -0.482210 -0.531524 -1.085425  0.815013   \n",
              "913  0.516309 -0.516309 -0.229810 -0.482210 -0.531524  0.921298  0.815013   \n",
              "914  0.516309 -0.516309 -0.229810 -0.482210 -0.531524  0.921298  0.815013   \n",
              "915 -1.936826  1.936826 -0.229810  2.073784 -0.531524 -1.085425 -1.226974   \n",
              "916  0.516309 -0.516309 -0.229810 -0.482210  1.881384 -1.085425  0.815013   \n",
              "\n",
              "           7         8         9         10        11        12        13  \\\n",
              "0   -0.490781 -0.507826  0.824310 -0.824310  1.149573 -1.001091 -0.271607   \n",
              "1   -0.490781 -0.507826  0.824310 -0.824310 -0.869888  0.998910 -0.271607   \n",
              "2    2.037569 -0.507826  0.824310 -0.824310  1.149573 -1.001091 -0.271607   \n",
              "3   -0.490781 -0.507826 -1.213136  1.213136 -0.869888  0.998910 -0.271607   \n",
              "4   -0.490781 -0.507826  0.824310 -0.824310  1.149573 -1.001091 -0.271607   \n",
              "..        ...       ...       ...       ...       ...       ...       ...   \n",
              "912 -0.490781 -0.507826  0.824310 -0.824310 -0.869888  0.998910 -0.271607   \n",
              "913 -0.490781 -0.507826  0.824310 -0.824310 -0.869888  0.998910 -0.271607   \n",
              "914 -0.490781 -0.507826 -1.213136  1.213136 -0.869888  0.998910 -0.271607   \n",
              "915 -0.490781  1.969177  0.824310 -0.824310 -0.869888  0.998910 -0.271607   \n",
              "916 -0.490781 -0.507826  0.824310 -0.824310  1.149573 -1.001091 -0.271607   \n",
              "\n",
              "           14        15        16        17        18        19  \n",
              "0   -1.432206  0.414627  0.832075 -0.551733  1.383339 -0.831502  \n",
              "1   -0.478057  1.526360 -1.212261 -0.551733  0.754736  0.106251  \n",
              "2   -1.750256 -0.141240  0.719543 -0.551733 -1.523953 -0.831502  \n",
              "3   -0.584074  0.303453 -0.574578 -0.551733 -1.131075  0.575128  \n",
              "4    0.052026  0.970493 -0.930931 -0.551733 -0.581047 -0.831502  \n",
              "..        ...       ...       ...       ...       ...       ...  \n",
              "912 -0.902124 -1.252973  0.363191 -0.551733 -0.188170  0.293802  \n",
              "913  1.536257  0.636973 -0.968441  1.812470  0.165420  2.356860  \n",
              "914  0.370075 -0.141240 -2.131275 -0.551733 -0.856061  0.293802  \n",
              "915  0.370075 -0.141240 -0.161960 -0.551733  1.461915 -0.831502  \n",
              "916 -1.644239  0.303453 -1.306038 -0.551733  1.422627 -0.831502  \n",
              "\n",
              "[917 rows x 20 columns]"
            ],
            "text/html": [
              "\n",
              "  <div id=\"df-6c1854c6-aa79-4e80-ba01-e3a947953bce\">\n",
              "    <div class=\"colab-df-container\">\n",
              "      <div>\n",
              "<style scoped>\n",
              "    .dataframe tbody tr th:only-of-type {\n",
              "        vertical-align: middle;\n",
              "    }\n",
              "\n",
              "    .dataframe tbody tr th {\n",
              "        vertical-align: top;\n",
              "    }\n",
              "\n",
              "    .dataframe thead th {\n",
              "        text-align: right;\n",
              "    }\n",
              "</style>\n",
              "<table border=\"1\" class=\"dataframe\">\n",
              "  <thead>\n",
              "    <tr style=\"text-align: right;\">\n",
              "      <th></th>\n",
              "      <th>0</th>\n",
              "      <th>1</th>\n",
              "      <th>2</th>\n",
              "      <th>3</th>\n",
              "      <th>4</th>\n",
              "      <th>5</th>\n",
              "      <th>6</th>\n",
              "      <th>7</th>\n",
              "      <th>8</th>\n",
              "      <th>9</th>\n",
              "      <th>10</th>\n",
              "      <th>11</th>\n",
              "      <th>12</th>\n",
              "      <th>13</th>\n",
              "      <th>14</th>\n",
              "      <th>15</th>\n",
              "      <th>16</th>\n",
              "      <th>17</th>\n",
              "      <th>18</th>\n",
              "      <th>19</th>\n",
              "    </tr>\n",
              "  </thead>\n",
              "  <tbody>\n",
              "    <tr>\n",
              "      <th>0</th>\n",
              "      <td>0.516309</td>\n",
              "      <td>-0.516309</td>\n",
              "      <td>-0.229810</td>\n",
              "      <td>2.073784</td>\n",
              "      <td>-0.531524</td>\n",
              "      <td>-1.085425</td>\n",
              "      <td>0.815013</td>\n",
              "      <td>-0.490781</td>\n",
              "      <td>-0.507826</td>\n",
              "      <td>0.824310</td>\n",
              "      <td>-0.824310</td>\n",
              "      <td>1.149573</td>\n",
              "      <td>-1.001091</td>\n",
              "      <td>-0.271607</td>\n",
              "      <td>-1.432206</td>\n",
              "      <td>0.414627</td>\n",
              "      <td>0.832075</td>\n",
              "      <td>-0.551733</td>\n",
              "      <td>1.383339</td>\n",
              "      <td>-0.831502</td>\n",
              "    </tr>\n",
              "    <tr>\n",
              "      <th>1</th>\n",
              "      <td>-1.936826</td>\n",
              "      <td>1.936826</td>\n",
              "      <td>-0.229810</td>\n",
              "      <td>-0.482210</td>\n",
              "      <td>1.881384</td>\n",
              "      <td>-1.085425</td>\n",
              "      <td>0.815013</td>\n",
              "      <td>-0.490781</td>\n",
              "      <td>-0.507826</td>\n",
              "      <td>0.824310</td>\n",
              "      <td>-0.824310</td>\n",
              "      <td>-0.869888</td>\n",
              "      <td>0.998910</td>\n",
              "      <td>-0.271607</td>\n",
              "      <td>-0.478057</td>\n",
              "      <td>1.526360</td>\n",
              "      <td>-1.212261</td>\n",
              "      <td>-0.551733</td>\n",
              "      <td>0.754736</td>\n",
              "      <td>0.106251</td>\n",
              "    </tr>\n",
              "    <tr>\n",
              "      <th>2</th>\n",
              "      <td>0.516309</td>\n",
              "      <td>-0.516309</td>\n",
              "      <td>-0.229810</td>\n",
              "      <td>2.073784</td>\n",
              "      <td>-0.531524</td>\n",
              "      <td>-1.085425</td>\n",
              "      <td>-1.226974</td>\n",
              "      <td>2.037569</td>\n",
              "      <td>-0.507826</td>\n",
              "      <td>0.824310</td>\n",
              "      <td>-0.824310</td>\n",
              "      <td>1.149573</td>\n",
              "      <td>-1.001091</td>\n",
              "      <td>-0.271607</td>\n",
              "      <td>-1.750256</td>\n",
              "      <td>-0.141240</td>\n",
              "      <td>0.719543</td>\n",
              "      <td>-0.551733</td>\n",
              "      <td>-1.523953</td>\n",
              "      <td>-0.831502</td>\n",
              "    </tr>\n",
              "    <tr>\n",
              "      <th>3</th>\n",
              "      <td>-1.936826</td>\n",
              "      <td>1.936826</td>\n",
              "      <td>-0.229810</td>\n",
              "      <td>-0.482210</td>\n",
              "      <td>-0.531524</td>\n",
              "      <td>0.921298</td>\n",
              "      <td>0.815013</td>\n",
              "      <td>-0.490781</td>\n",
              "      <td>-0.507826</td>\n",
              "      <td>-1.213136</td>\n",
              "      <td>1.213136</td>\n",
              "      <td>-0.869888</td>\n",
              "      <td>0.998910</td>\n",
              "      <td>-0.271607</td>\n",
              "      <td>-0.584074</td>\n",
              "      <td>0.303453</td>\n",
              "      <td>-0.574578</td>\n",
              "      <td>-0.551733</td>\n",
              "      <td>-1.131075</td>\n",
              "      <td>0.575128</td>\n",
              "    </tr>\n",
              "    <tr>\n",
              "      <th>4</th>\n",
              "      <td>0.516309</td>\n",
              "      <td>-0.516309</td>\n",
              "      <td>-0.229810</td>\n",
              "      <td>-0.482210</td>\n",
              "      <td>1.881384</td>\n",
              "      <td>-1.085425</td>\n",
              "      <td>0.815013</td>\n",
              "      <td>-0.490781</td>\n",
              "      <td>-0.507826</td>\n",
              "      <td>0.824310</td>\n",
              "      <td>-0.824310</td>\n",
              "      <td>1.149573</td>\n",
              "      <td>-1.001091</td>\n",
              "      <td>-0.271607</td>\n",
              "      <td>0.052026</td>\n",
              "      <td>0.970493</td>\n",
              "      <td>-0.930931</td>\n",
              "      <td>-0.551733</td>\n",
              "      <td>-0.581047</td>\n",
              "      <td>-0.831502</td>\n",
              "    </tr>\n",
              "    <tr>\n",
              "      <th>...</th>\n",
              "      <td>...</td>\n",
              "      <td>...</td>\n",
              "      <td>...</td>\n",
              "      <td>...</td>\n",
              "      <td>...</td>\n",
              "      <td>...</td>\n",
              "      <td>...</td>\n",
              "      <td>...</td>\n",
              "      <td>...</td>\n",
              "      <td>...</td>\n",
              "      <td>...</td>\n",
              "      <td>...</td>\n",
              "      <td>...</td>\n",
              "      <td>...</td>\n",
              "      <td>...</td>\n",
              "      <td>...</td>\n",
              "      <td>...</td>\n",
              "      <td>...</td>\n",
              "      <td>...</td>\n",
              "      <td>...</td>\n",
              "    </tr>\n",
              "    <tr>\n",
              "      <th>912</th>\n",
              "      <td>0.516309</td>\n",
              "      <td>-0.516309</td>\n",
              "      <td>4.351412</td>\n",
              "      <td>-0.482210</td>\n",
              "      <td>-0.531524</td>\n",
              "      <td>-1.085425</td>\n",
              "      <td>0.815013</td>\n",
              "      <td>-0.490781</td>\n",
              "      <td>-0.507826</td>\n",
              "      <td>0.824310</td>\n",
              "      <td>-0.824310</td>\n",
              "      <td>-0.869888</td>\n",
              "      <td>0.998910</td>\n",
              "      <td>-0.271607</td>\n",
              "      <td>-0.902124</td>\n",
              "      <td>-1.252973</td>\n",
              "      <td>0.363191</td>\n",
              "      <td>-0.551733</td>\n",
              "      <td>-0.188170</td>\n",
              "      <td>0.293802</td>\n",
              "    </tr>\n",
              "    <tr>\n",
              "      <th>913</th>\n",
              "      <td>0.516309</td>\n",
              "      <td>-0.516309</td>\n",
              "      <td>-0.229810</td>\n",
              "      <td>-0.482210</td>\n",
              "      <td>-0.531524</td>\n",
              "      <td>0.921298</td>\n",
              "      <td>0.815013</td>\n",
              "      <td>-0.490781</td>\n",
              "      <td>-0.507826</td>\n",
              "      <td>0.824310</td>\n",
              "      <td>-0.824310</td>\n",
              "      <td>-0.869888</td>\n",
              "      <td>0.998910</td>\n",
              "      <td>-0.271607</td>\n",
              "      <td>1.536257</td>\n",
              "      <td>0.636973</td>\n",
              "      <td>-0.968441</td>\n",
              "      <td>1.812470</td>\n",
              "      <td>0.165420</td>\n",
              "      <td>2.356860</td>\n",
              "    </tr>\n",
              "    <tr>\n",
              "      <th>914</th>\n",
              "      <td>0.516309</td>\n",
              "      <td>-0.516309</td>\n",
              "      <td>-0.229810</td>\n",
              "      <td>-0.482210</td>\n",
              "      <td>-0.531524</td>\n",
              "      <td>0.921298</td>\n",
              "      <td>0.815013</td>\n",
              "      <td>-0.490781</td>\n",
              "      <td>-0.507826</td>\n",
              "      <td>-1.213136</td>\n",
              "      <td>1.213136</td>\n",
              "      <td>-0.869888</td>\n",
              "      <td>0.998910</td>\n",
              "      <td>-0.271607</td>\n",
              "      <td>0.370075</td>\n",
              "      <td>-0.141240</td>\n",
              "      <td>-2.131275</td>\n",
              "      <td>-0.551733</td>\n",
              "      <td>-0.856061</td>\n",
              "      <td>0.293802</td>\n",
              "    </tr>\n",
              "    <tr>\n",
              "      <th>915</th>\n",
              "      <td>-1.936826</td>\n",
              "      <td>1.936826</td>\n",
              "      <td>-0.229810</td>\n",
              "      <td>2.073784</td>\n",
              "      <td>-0.531524</td>\n",
              "      <td>-1.085425</td>\n",
              "      <td>-1.226974</td>\n",
              "      <td>-0.490781</td>\n",
              "      <td>1.969177</td>\n",
              "      <td>0.824310</td>\n",
              "      <td>-0.824310</td>\n",
              "      <td>-0.869888</td>\n",
              "      <td>0.998910</td>\n",
              "      <td>-0.271607</td>\n",
              "      <td>0.370075</td>\n",
              "      <td>-0.141240</td>\n",
              "      <td>-0.161960</td>\n",
              "      <td>-0.551733</td>\n",
              "      <td>1.461915</td>\n",
              "      <td>-0.831502</td>\n",
              "    </tr>\n",
              "    <tr>\n",
              "      <th>916</th>\n",
              "      <td>0.516309</td>\n",
              "      <td>-0.516309</td>\n",
              "      <td>-0.229810</td>\n",
              "      <td>-0.482210</td>\n",
              "      <td>1.881384</td>\n",
              "      <td>-1.085425</td>\n",
              "      <td>0.815013</td>\n",
              "      <td>-0.490781</td>\n",
              "      <td>-0.507826</td>\n",
              "      <td>0.824310</td>\n",
              "      <td>-0.824310</td>\n",
              "      <td>1.149573</td>\n",
              "      <td>-1.001091</td>\n",
              "      <td>-0.271607</td>\n",
              "      <td>-1.644239</td>\n",
              "      <td>0.303453</td>\n",
              "      <td>-1.306038</td>\n",
              "      <td>-0.551733</td>\n",
              "      <td>1.422627</td>\n",
              "      <td>-0.831502</td>\n",
              "    </tr>\n",
              "  </tbody>\n",
              "</table>\n",
              "<p>917 rows × 20 columns</p>\n",
              "</div>\n",
              "      <button class=\"colab-df-convert\" onclick=\"convertToInteractive('df-6c1854c6-aa79-4e80-ba01-e3a947953bce')\"\n",
              "              title=\"Convert this dataframe to an interactive table.\"\n",
              "              style=\"display:none;\">\n",
              "        \n",
              "  <svg xmlns=\"http://www.w3.org/2000/svg\" height=\"24px\"viewBox=\"0 0 24 24\"\n",
              "       width=\"24px\">\n",
              "    <path d=\"M0 0h24v24H0V0z\" fill=\"none\"/>\n",
              "    <path d=\"M18.56 5.44l.94 2.06.94-2.06 2.06-.94-2.06-.94-.94-2.06-.94 2.06-2.06.94zm-11 1L8.5 8.5l.94-2.06 2.06-.94-2.06-.94L8.5 2.5l-.94 2.06-2.06.94zm10 10l.94 2.06.94-2.06 2.06-.94-2.06-.94-.94-2.06-.94 2.06-2.06.94z\"/><path d=\"M17.41 7.96l-1.37-1.37c-.4-.4-.92-.59-1.43-.59-.52 0-1.04.2-1.43.59L10.3 9.45l-7.72 7.72c-.78.78-.78 2.05 0 2.83L4 21.41c.39.39.9.59 1.41.59.51 0 1.02-.2 1.41-.59l7.78-7.78 2.81-2.81c.8-.78.8-2.07 0-2.86zM5.41 20L4 18.59l7.72-7.72 1.47 1.35L5.41 20z\"/>\n",
              "  </svg>\n",
              "      </button>\n",
              "      \n",
              "  <style>\n",
              "    .colab-df-container {\n",
              "      display:flex;\n",
              "      flex-wrap:wrap;\n",
              "      gap: 12px;\n",
              "    }\n",
              "\n",
              "    .colab-df-convert {\n",
              "      background-color: #E8F0FE;\n",
              "      border: none;\n",
              "      border-radius: 50%;\n",
              "      cursor: pointer;\n",
              "      display: none;\n",
              "      fill: #1967D2;\n",
              "      height: 32px;\n",
              "      padding: 0 0 0 0;\n",
              "      width: 32px;\n",
              "    }\n",
              "\n",
              "    .colab-df-convert:hover {\n",
              "      background-color: #E2EBFA;\n",
              "      box-shadow: 0px 1px 2px rgba(60, 64, 67, 0.3), 0px 1px 3px 1px rgba(60, 64, 67, 0.15);\n",
              "      fill: #174EA6;\n",
              "    }\n",
              "\n",
              "    [theme=dark] .colab-df-convert {\n",
              "      background-color: #3B4455;\n",
              "      fill: #D2E3FC;\n",
              "    }\n",
              "\n",
              "    [theme=dark] .colab-df-convert:hover {\n",
              "      background-color: #434B5C;\n",
              "      box-shadow: 0px 1px 3px 1px rgba(0, 0, 0, 0.15);\n",
              "      filter: drop-shadow(0px 1px 2px rgba(0, 0, 0, 0.3));\n",
              "      fill: #FFFFFF;\n",
              "    }\n",
              "  </style>\n",
              "\n",
              "      <script>\n",
              "        const buttonEl =\n",
              "          document.querySelector('#df-6c1854c6-aa79-4e80-ba01-e3a947953bce button.colab-df-convert');\n",
              "        buttonEl.style.display =\n",
              "          google.colab.kernel.accessAllowed ? 'block' : 'none';\n",
              "\n",
              "        async function convertToInteractive(key) {\n",
              "          const element = document.querySelector('#df-6c1854c6-aa79-4e80-ba01-e3a947953bce');\n",
              "          const dataTable =\n",
              "            await google.colab.kernel.invokeFunction('convertToInteractive',\n",
              "                                                     [key], {});\n",
              "          if (!dataTable) return;\n",
              "\n",
              "          const docLinkHtml = 'Like what you see? Visit the ' +\n",
              "            '<a target=\"_blank\" href=https://colab.research.google.com/notebooks/data_table.ipynb>data table notebook</a>'\n",
              "            + ' to learn more about interactive tables.';\n",
              "          element.innerHTML = '';\n",
              "          dataTable['output_type'] = 'display_data';\n",
              "          await google.colab.output.renderOutput(dataTable, element);\n",
              "          const docLink = document.createElement('div');\n",
              "          docLink.innerHTML = docLinkHtml;\n",
              "          element.appendChild(docLink);\n",
              "        }\n",
              "      </script>\n",
              "    </div>\n",
              "  </div>\n",
              "  "
            ]
          },
          "metadata": {},
          "execution_count": 454
        }
      ]
    },
    {
      "cell_type": "code",
      "source": [
        "previsores3df.describe()"
      ],
      "metadata": {
        "colab": {
          "base_uri": "https://localhost:8080/",
          "height": 451
        },
        "id": "PVXeCJIGqdt2",
        "outputId": "638e01f7-16e4-4a11-d491-6483127277fb"
      },
      "execution_count": 455,
      "outputs": [
        {
          "output_type": "execute_result",
          "data": {
            "text/plain": [
              "                 0             1             2             3             4   \\\n",
              "count  9.170000e+02  9.170000e+02  9.170000e+02  9.170000e+02  9.170000e+02   \n",
              "mean  -1.472226e-16  1.084798e-16  6.973702e-17 -3.874279e-17  3.874279e-17   \n",
              "std    1.000546e+00  1.000546e+00  1.000546e+00  1.000546e+00  1.000546e+00   \n",
              "min   -1.936826e+00 -5.163086e-01 -2.298105e-01 -4.822104e-01 -5.315237e-01   \n",
              "25%    5.163086e-01 -5.163086e-01 -2.298105e-01 -4.822104e-01 -5.315237e-01   \n",
              "50%    5.163086e-01 -5.163086e-01 -2.298105e-01 -4.822104e-01 -5.315237e-01   \n",
              "75%    5.163086e-01 -5.163086e-01 -2.298105e-01 -4.822104e-01 -5.315237e-01   \n",
              "max    5.163086e-01  1.936826e+00  4.351412e+00  2.073784e+00  1.881384e+00   \n",
              "\n",
              "                 5             6             7           8             9   \\\n",
              "count  9.170000e+02  9.170000e+02  9.170000e+02  917.000000  9.170000e+02   \n",
              "mean   1.937139e-17 -9.298269e-17  1.549712e-17    0.000000 -4.261707e-17   \n",
              "std    1.000546e+00  1.000546e+00  1.000546e+00    1.000546  1.000546e+00   \n",
              "min   -1.085425e+00 -1.226974e+00 -4.907810e-01   -0.507826 -1.213136e+00   \n",
              "25%   -1.085425e+00 -1.226974e+00 -4.907810e-01   -0.507826 -1.213136e+00   \n",
              "50%    9.212982e-01  8.150134e-01 -4.907810e-01   -0.507826  8.243101e-01   \n",
              "75%    9.212982e-01  8.150134e-01 -4.907810e-01   -0.507826  8.243101e-01   \n",
              "max    9.212982e-01  8.150134e-01  2.037569e+00    1.969177  8.243101e-01   \n",
              "\n",
              "                 10            11          12            13            14  \\\n",
              "count  9.170000e+02  9.170000e+02  917.000000  9.170000e+02  9.170000e+02   \n",
              "mean   4.261707e-17 -3.874279e-17    0.000000  8.523413e-17  1.859654e-16   \n",
              "std    1.000546e+00  1.000546e+00    1.000546  1.000546e+00  1.000546e+00   \n",
              "min   -8.243101e-01 -8.698879e-01   -1.001091 -2.716072e-01 -2.704405e+00   \n",
              "25%   -8.243101e-01 -8.698879e-01   -1.001091 -2.716072e-01 -6.900904e-01   \n",
              "50%   -8.243101e-01 -8.698879e-01    0.998910 -2.716072e-01  5.202558e-02   \n",
              "75%    1.213136e+00  1.149573e+00    0.998910 -2.716072e-01  6.881250e-01   \n",
              "max    1.213136e+00  1.149573e+00    0.998910  3.681787e+00  2.490407e+00   \n",
              "\n",
              "                 15            16            17            18            19  \n",
              "count  9.170000e+02  9.170000e+02  9.170000e+02  9.170000e+02  9.170000e+02  \n",
              "mean   7.884157e-16  3.014189e-15 -1.549712e-17 -5.114048e-16 -1.859654e-16  \n",
              "std    1.000546e+00  1.000546e+00  1.000546e+00  1.000546e+00  1.000546e+00  \n",
              "min   -2.920572e+00 -2.994023e+00 -5.517333e-01 -3.016886e+00 -3.269662e+00  \n",
              "25%   -6.971063e-01 -5.745784e-01 -5.517333e-01 -6.596226e-01 -8.315022e-01  \n",
              "50%   -1.412398e-01  3.198360e-15 -5.517333e-01  4.755658e-02 -2.688500e-01  \n",
              "75%    4.146267e-01  4.194568e-01 -5.517333e-01  7.547357e-01  5.751284e-01  \n",
              "max    3.749826e+00  6.721265e+00  1.812470e+00  2.561971e+00  4.982571e+00  "
            ],
            "text/html": [
              "\n",
              "  <div id=\"df-d059d806-ed72-4eeb-8c82-97d5ce0618bb\">\n",
              "    <div class=\"colab-df-container\">\n",
              "      <div>\n",
              "<style scoped>\n",
              "    .dataframe tbody tr th:only-of-type {\n",
              "        vertical-align: middle;\n",
              "    }\n",
              "\n",
              "    .dataframe tbody tr th {\n",
              "        vertical-align: top;\n",
              "    }\n",
              "\n",
              "    .dataframe thead th {\n",
              "        text-align: right;\n",
              "    }\n",
              "</style>\n",
              "<table border=\"1\" class=\"dataframe\">\n",
              "  <thead>\n",
              "    <tr style=\"text-align: right;\">\n",
              "      <th></th>\n",
              "      <th>0</th>\n",
              "      <th>1</th>\n",
              "      <th>2</th>\n",
              "      <th>3</th>\n",
              "      <th>4</th>\n",
              "      <th>5</th>\n",
              "      <th>6</th>\n",
              "      <th>7</th>\n",
              "      <th>8</th>\n",
              "      <th>9</th>\n",
              "      <th>10</th>\n",
              "      <th>11</th>\n",
              "      <th>12</th>\n",
              "      <th>13</th>\n",
              "      <th>14</th>\n",
              "      <th>15</th>\n",
              "      <th>16</th>\n",
              "      <th>17</th>\n",
              "      <th>18</th>\n",
              "      <th>19</th>\n",
              "    </tr>\n",
              "  </thead>\n",
              "  <tbody>\n",
              "    <tr>\n",
              "      <th>count</th>\n",
              "      <td>9.170000e+02</td>\n",
              "      <td>9.170000e+02</td>\n",
              "      <td>9.170000e+02</td>\n",
              "      <td>9.170000e+02</td>\n",
              "      <td>9.170000e+02</td>\n",
              "      <td>9.170000e+02</td>\n",
              "      <td>9.170000e+02</td>\n",
              "      <td>9.170000e+02</td>\n",
              "      <td>917.000000</td>\n",
              "      <td>9.170000e+02</td>\n",
              "      <td>9.170000e+02</td>\n",
              "      <td>9.170000e+02</td>\n",
              "      <td>917.000000</td>\n",
              "      <td>9.170000e+02</td>\n",
              "      <td>9.170000e+02</td>\n",
              "      <td>9.170000e+02</td>\n",
              "      <td>9.170000e+02</td>\n",
              "      <td>9.170000e+02</td>\n",
              "      <td>9.170000e+02</td>\n",
              "      <td>9.170000e+02</td>\n",
              "    </tr>\n",
              "    <tr>\n",
              "      <th>mean</th>\n",
              "      <td>-1.472226e-16</td>\n",
              "      <td>1.084798e-16</td>\n",
              "      <td>6.973702e-17</td>\n",
              "      <td>-3.874279e-17</td>\n",
              "      <td>3.874279e-17</td>\n",
              "      <td>1.937139e-17</td>\n",
              "      <td>-9.298269e-17</td>\n",
              "      <td>1.549712e-17</td>\n",
              "      <td>0.000000</td>\n",
              "      <td>-4.261707e-17</td>\n",
              "      <td>4.261707e-17</td>\n",
              "      <td>-3.874279e-17</td>\n",
              "      <td>0.000000</td>\n",
              "      <td>8.523413e-17</td>\n",
              "      <td>1.859654e-16</td>\n",
              "      <td>7.884157e-16</td>\n",
              "      <td>3.014189e-15</td>\n",
              "      <td>-1.549712e-17</td>\n",
              "      <td>-5.114048e-16</td>\n",
              "      <td>-1.859654e-16</td>\n",
              "    </tr>\n",
              "    <tr>\n",
              "      <th>std</th>\n",
              "      <td>1.000546e+00</td>\n",
              "      <td>1.000546e+00</td>\n",
              "      <td>1.000546e+00</td>\n",
              "      <td>1.000546e+00</td>\n",
              "      <td>1.000546e+00</td>\n",
              "      <td>1.000546e+00</td>\n",
              "      <td>1.000546e+00</td>\n",
              "      <td>1.000546e+00</td>\n",
              "      <td>1.000546</td>\n",
              "      <td>1.000546e+00</td>\n",
              "      <td>1.000546e+00</td>\n",
              "      <td>1.000546e+00</td>\n",
              "      <td>1.000546</td>\n",
              "      <td>1.000546e+00</td>\n",
              "      <td>1.000546e+00</td>\n",
              "      <td>1.000546e+00</td>\n",
              "      <td>1.000546e+00</td>\n",
              "      <td>1.000546e+00</td>\n",
              "      <td>1.000546e+00</td>\n",
              "      <td>1.000546e+00</td>\n",
              "    </tr>\n",
              "    <tr>\n",
              "      <th>min</th>\n",
              "      <td>-1.936826e+00</td>\n",
              "      <td>-5.163086e-01</td>\n",
              "      <td>-2.298105e-01</td>\n",
              "      <td>-4.822104e-01</td>\n",
              "      <td>-5.315237e-01</td>\n",
              "      <td>-1.085425e+00</td>\n",
              "      <td>-1.226974e+00</td>\n",
              "      <td>-4.907810e-01</td>\n",
              "      <td>-0.507826</td>\n",
              "      <td>-1.213136e+00</td>\n",
              "      <td>-8.243101e-01</td>\n",
              "      <td>-8.698879e-01</td>\n",
              "      <td>-1.001091</td>\n",
              "      <td>-2.716072e-01</td>\n",
              "      <td>-2.704405e+00</td>\n",
              "      <td>-2.920572e+00</td>\n",
              "      <td>-2.994023e+00</td>\n",
              "      <td>-5.517333e-01</td>\n",
              "      <td>-3.016886e+00</td>\n",
              "      <td>-3.269662e+00</td>\n",
              "    </tr>\n",
              "    <tr>\n",
              "      <th>25%</th>\n",
              "      <td>5.163086e-01</td>\n",
              "      <td>-5.163086e-01</td>\n",
              "      <td>-2.298105e-01</td>\n",
              "      <td>-4.822104e-01</td>\n",
              "      <td>-5.315237e-01</td>\n",
              "      <td>-1.085425e+00</td>\n",
              "      <td>-1.226974e+00</td>\n",
              "      <td>-4.907810e-01</td>\n",
              "      <td>-0.507826</td>\n",
              "      <td>-1.213136e+00</td>\n",
              "      <td>-8.243101e-01</td>\n",
              "      <td>-8.698879e-01</td>\n",
              "      <td>-1.001091</td>\n",
              "      <td>-2.716072e-01</td>\n",
              "      <td>-6.900904e-01</td>\n",
              "      <td>-6.971063e-01</td>\n",
              "      <td>-5.745784e-01</td>\n",
              "      <td>-5.517333e-01</td>\n",
              "      <td>-6.596226e-01</td>\n",
              "      <td>-8.315022e-01</td>\n",
              "    </tr>\n",
              "    <tr>\n",
              "      <th>50%</th>\n",
              "      <td>5.163086e-01</td>\n",
              "      <td>-5.163086e-01</td>\n",
              "      <td>-2.298105e-01</td>\n",
              "      <td>-4.822104e-01</td>\n",
              "      <td>-5.315237e-01</td>\n",
              "      <td>9.212982e-01</td>\n",
              "      <td>8.150134e-01</td>\n",
              "      <td>-4.907810e-01</td>\n",
              "      <td>-0.507826</td>\n",
              "      <td>8.243101e-01</td>\n",
              "      <td>-8.243101e-01</td>\n",
              "      <td>-8.698879e-01</td>\n",
              "      <td>0.998910</td>\n",
              "      <td>-2.716072e-01</td>\n",
              "      <td>5.202558e-02</td>\n",
              "      <td>-1.412398e-01</td>\n",
              "      <td>3.198360e-15</td>\n",
              "      <td>-5.517333e-01</td>\n",
              "      <td>4.755658e-02</td>\n",
              "      <td>-2.688500e-01</td>\n",
              "    </tr>\n",
              "    <tr>\n",
              "      <th>75%</th>\n",
              "      <td>5.163086e-01</td>\n",
              "      <td>-5.163086e-01</td>\n",
              "      <td>-2.298105e-01</td>\n",
              "      <td>-4.822104e-01</td>\n",
              "      <td>-5.315237e-01</td>\n",
              "      <td>9.212982e-01</td>\n",
              "      <td>8.150134e-01</td>\n",
              "      <td>-4.907810e-01</td>\n",
              "      <td>-0.507826</td>\n",
              "      <td>8.243101e-01</td>\n",
              "      <td>1.213136e+00</td>\n",
              "      <td>1.149573e+00</td>\n",
              "      <td>0.998910</td>\n",
              "      <td>-2.716072e-01</td>\n",
              "      <td>6.881250e-01</td>\n",
              "      <td>4.146267e-01</td>\n",
              "      <td>4.194568e-01</td>\n",
              "      <td>-5.517333e-01</td>\n",
              "      <td>7.547357e-01</td>\n",
              "      <td>5.751284e-01</td>\n",
              "    </tr>\n",
              "    <tr>\n",
              "      <th>max</th>\n",
              "      <td>5.163086e-01</td>\n",
              "      <td>1.936826e+00</td>\n",
              "      <td>4.351412e+00</td>\n",
              "      <td>2.073784e+00</td>\n",
              "      <td>1.881384e+00</td>\n",
              "      <td>9.212982e-01</td>\n",
              "      <td>8.150134e-01</td>\n",
              "      <td>2.037569e+00</td>\n",
              "      <td>1.969177</td>\n",
              "      <td>8.243101e-01</td>\n",
              "      <td>1.213136e+00</td>\n",
              "      <td>1.149573e+00</td>\n",
              "      <td>0.998910</td>\n",
              "      <td>3.681787e+00</td>\n",
              "      <td>2.490407e+00</td>\n",
              "      <td>3.749826e+00</td>\n",
              "      <td>6.721265e+00</td>\n",
              "      <td>1.812470e+00</td>\n",
              "      <td>2.561971e+00</td>\n",
              "      <td>4.982571e+00</td>\n",
              "    </tr>\n",
              "  </tbody>\n",
              "</table>\n",
              "</div>\n",
              "      <button class=\"colab-df-convert\" onclick=\"convertToInteractive('df-d059d806-ed72-4eeb-8c82-97d5ce0618bb')\"\n",
              "              title=\"Convert this dataframe to an interactive table.\"\n",
              "              style=\"display:none;\">\n",
              "        \n",
              "  <svg xmlns=\"http://www.w3.org/2000/svg\" height=\"24px\"viewBox=\"0 0 24 24\"\n",
              "       width=\"24px\">\n",
              "    <path d=\"M0 0h24v24H0V0z\" fill=\"none\"/>\n",
              "    <path d=\"M18.56 5.44l.94 2.06.94-2.06 2.06-.94-2.06-.94-.94-2.06-.94 2.06-2.06.94zm-11 1L8.5 8.5l.94-2.06 2.06-.94-2.06-.94L8.5 2.5l-.94 2.06-2.06.94zm10 10l.94 2.06.94-2.06 2.06-.94-2.06-.94-.94-2.06-.94 2.06-2.06.94z\"/><path d=\"M17.41 7.96l-1.37-1.37c-.4-.4-.92-.59-1.43-.59-.52 0-1.04.2-1.43.59L10.3 9.45l-7.72 7.72c-.78.78-.78 2.05 0 2.83L4 21.41c.39.39.9.59 1.41.59.51 0 1.02-.2 1.41-.59l7.78-7.78 2.81-2.81c.8-.78.8-2.07 0-2.86zM5.41 20L4 18.59l7.72-7.72 1.47 1.35L5.41 20z\"/>\n",
              "  </svg>\n",
              "      </button>\n",
              "      \n",
              "  <style>\n",
              "    .colab-df-container {\n",
              "      display:flex;\n",
              "      flex-wrap:wrap;\n",
              "      gap: 12px;\n",
              "    }\n",
              "\n",
              "    .colab-df-convert {\n",
              "      background-color: #E8F0FE;\n",
              "      border: none;\n",
              "      border-radius: 50%;\n",
              "      cursor: pointer;\n",
              "      display: none;\n",
              "      fill: #1967D2;\n",
              "      height: 32px;\n",
              "      padding: 0 0 0 0;\n",
              "      width: 32px;\n",
              "    }\n",
              "\n",
              "    .colab-df-convert:hover {\n",
              "      background-color: #E2EBFA;\n",
              "      box-shadow: 0px 1px 2px rgba(60, 64, 67, 0.3), 0px 1px 3px 1px rgba(60, 64, 67, 0.15);\n",
              "      fill: #174EA6;\n",
              "    }\n",
              "\n",
              "    [theme=dark] .colab-df-convert {\n",
              "      background-color: #3B4455;\n",
              "      fill: #D2E3FC;\n",
              "    }\n",
              "\n",
              "    [theme=dark] .colab-df-convert:hover {\n",
              "      background-color: #434B5C;\n",
              "      box-shadow: 0px 1px 3px 1px rgba(0, 0, 0, 0.15);\n",
              "      filter: drop-shadow(0px 1px 2px rgba(0, 0, 0, 0.3));\n",
              "      fill: #FFFFFF;\n",
              "    }\n",
              "  </style>\n",
              "\n",
              "      <script>\n",
              "        const buttonEl =\n",
              "          document.querySelector('#df-d059d806-ed72-4eeb-8c82-97d5ce0618bb button.colab-df-convert');\n",
              "        buttonEl.style.display =\n",
              "          google.colab.kernel.accessAllowed ? 'block' : 'none';\n",
              "\n",
              "        async function convertToInteractive(key) {\n",
              "          const element = document.querySelector('#df-d059d806-ed72-4eeb-8c82-97d5ce0618bb');\n",
              "          const dataTable =\n",
              "            await google.colab.kernel.invokeFunction('convertToInteractive',\n",
              "                                                     [key], {});\n",
              "          if (!dataTable) return;\n",
              "\n",
              "          const docLinkHtml = 'Like what you see? Visit the ' +\n",
              "            '<a target=\"_blank\" href=https://colab.research.google.com/notebooks/data_table.ipynb>data table notebook</a>'\n",
              "            + ' to learn more about interactive tables.';\n",
              "          element.innerHTML = '';\n",
              "          dataTable['output_type'] = 'display_data';\n",
              "          await google.colab.output.renderOutput(dataTable, element);\n",
              "          const docLink = document.createElement('div');\n",
              "          docLink.innerHTML = docLinkHtml;\n",
              "          element.appendChild(docLink);\n",
              "        }\n",
              "      </script>\n",
              "    </div>\n",
              "  </div>\n",
              "  "
            ]
          },
          "metadata": {},
          "execution_count": 455
        }
      ]
    },
    {
      "cell_type": "markdown",
      "source": [
        "## Redução de dimensionalidade"
      ],
      "metadata": {
        "id": "bVOR-pCI6-ht"
      }
    },
    {
      "cell_type": "markdown",
      "source": [
        "objetivo: selecionar os melhores componentes para treinamento do algoritmo, através da análise das correlações entre as variáveis"
      ],
      "metadata": {
        "id": "swzbpuob7Ttr"
      }
    },
    {
      "cell_type": "markdown",
      "source": [
        "### Análise dos componentes principais (PCA)"
      ],
      "metadata": {
        "id": "c4hC0t_e7qGL"
      }
    },
    {
      "cell_type": "markdown",
      "source": [
        "**Seleção de características:** seleciona os melhores atributos e utiliza sem transformações.\n",
        "\n",
        "**Extração de caracteríticas:** encontra os relacionamentos dos melhores atributos e cria novos atributos.\n",
        "\n",
        "É um algoritmo de aprendizagem não supervisionada.\n",
        "\n",
        "Aplica-se em dados linearmentes separaveis."
      ],
      "metadata": {
        "id": "FFZZjooI8Nsa"
      }
    },
    {
      "cell_type": "code",
      "source": [
        "from sklearn.decomposition import PCA"
      ],
      "metadata": {
        "id": "NWuXDVz37ENa"
      },
      "execution_count": 456,
      "outputs": []
    },
    {
      "cell_type": "code",
      "source": [
        "pca = PCA(n_components=4) #, svd_solver='arpack') #n_components: diminue os componentes. svd_solver: automatico"
      ],
      "metadata": {
        "id": "eK3VFbDl9lmk"
      },
      "execution_count": 457,
      "outputs": []
    },
    {
      "cell_type": "code",
      "source": [
        "previsores_pca = pca.fit_transform(previsores2) #técnica extremamente importante para caso precise reduzir as variáveis"
      ],
      "metadata": {
        "id": "6ku64PtW9t67"
      },
      "execution_count": 458,
      "outputs": []
    },
    {
      "cell_type": "code",
      "source": [
        "previsores_pca.shape"
      ],
      "metadata": {
        "colab": {
          "base_uri": "https://localhost:8080/"
        },
        "id": "buyHtNqX923T",
        "outputId": "c0f03fd2-f287-4093-924b-79d19fa07ec1"
      },
      "execution_count": 459,
      "outputs": [
        {
          "output_type": "execute_result",
          "data": {
            "text/plain": [
              "(917, 4)"
            ]
          },
          "metadata": {},
          "execution_count": 459
        }
      ]
    },
    {
      "cell_type": "code",
      "source": [
        "#componentes principais\n",
        "previsores_pca"
      ],
      "metadata": {
        "colab": {
          "base_uri": "https://localhost:8080/"
        },
        "id": "cRAsj6TF957b",
        "outputId": "1cb24b07-0e3f-491d-b3ac-4f52759b5983"
      },
      "execution_count": 460,
      "outputs": [
        {
          "output_type": "execute_result",
          "data": {
            "text/plain": [
              "array([[  44.01031323,  -36.16368188,   10.64655418,   -9.4858855 ],\n",
              "       [ -63.99070205,  -13.9285156 ,   31.68531903,   -5.3197523 ],\n",
              "       [  38.53828121,   33.89882653,  -12.48258193,  -21.52677046],\n",
              "       ...,\n",
              "       [-113.34768547,   23.48739283,   -2.51236375,    1.14310997],\n",
              "       [  -9.11479572,  -35.9101508 ,    4.82792119,    9.14499845],\n",
              "       [ -70.01231135,  -35.67713061,   12.10297998,  -10.53005398]])"
            ]
          },
          "metadata": {},
          "execution_count": 460
        }
      ]
    },
    {
      "cell_type": "code",
      "source": [
        "#razão das variáveis explicativas\n",
        "pca.explained_variance_ratio_"
      ],
      "metadata": {
        "colab": {
          "base_uri": "https://localhost:8080/"
        },
        "id": "7xIkXh1K-USS",
        "outputId": "051006fb-e924-4e64-8647-133f7ce104cf"
      },
      "execution_count": 461,
      "outputs": [
        {
          "output_type": "execute_result",
          "data": {
            "text/plain": [
              "array([0.72844082, 0.1718306 , 0.08121793, 0.01767869])"
            ]
          },
          "metadata": {},
          "execution_count": 461
        }
      ]
    },
    {
      "cell_type": "code",
      "source": [
        "pca.explained_variance_ratio_.sum()"
      ],
      "metadata": {
        "colab": {
          "base_uri": "https://localhost:8080/"
        },
        "id": "eo_38EBT-jKr",
        "outputId": "25cf5a2f-9633-4ae1-92b9-d918fdd2d182"
      },
      "execution_count": 462,
      "outputs": [
        {
          "output_type": "execute_result",
          "data": {
            "text/plain": [
              "0.9991680439746078"
            ]
          },
          "metadata": {},
          "execution_count": 462
        }
      ]
    },
    {
      "cell_type": "markdown",
      "source": [
        "### Kernel PCA"
      ],
      "metadata": {
        "id": "ZnzSsbQv-mBs"
      }
    },
    {
      "cell_type": "markdown",
      "source": [
        "É um algoritmo de aprendizagem não supervisionada.\n",
        "\n",
        "Aplica-se também a dados não linearmente separáveis."
      ],
      "metadata": {
        "id": "T83Ct76M_fpr"
      }
    },
    {
      "cell_type": "code",
      "source": [
        "from sklearn.decomposition import KernelPCA"
      ],
      "metadata": {
        "id": "gUO6BIeU-n_i"
      },
      "execution_count": 463,
      "outputs": []
    },
    {
      "cell_type": "code",
      "source": [
        "kpca = KernelPCA(n_components=4, kernel = 'rbf')"
      ],
      "metadata": {
        "id": "t4dAwcRK_CsC"
      },
      "execution_count": 464,
      "outputs": []
    },
    {
      "cell_type": "code",
      "source": [
        "previsores_kernel = kpca.fit_transform(previsores2)"
      ],
      "metadata": {
        "id": "jVTOqeoZ_QUC"
      },
      "execution_count": 465,
      "outputs": []
    },
    {
      "cell_type": "code",
      "source": [
        "previsores_kernel.shape"
      ],
      "metadata": {
        "colab": {
          "base_uri": "https://localhost:8080/"
        },
        "id": "QnkOMmLn_Yl6",
        "outputId": "805a2471-f357-4b52-b356-a792f26a4e89"
      },
      "execution_count": 466,
      "outputs": [
        {
          "output_type": "execute_result",
          "data": {
            "text/plain": [
              "(917, 4)"
            ]
          },
          "metadata": {},
          "execution_count": 466
        }
      ]
    },
    {
      "cell_type": "code",
      "source": [
        "previsores_kernel"
      ],
      "metadata": {
        "colab": {
          "base_uri": "https://localhost:8080/"
        },
        "id": "biBRuzIO_bSq",
        "outputId": "c0f8bc7b-f7c7-4bf9-9412-32b102560d22"
      },
      "execution_count": 467,
      "outputs": [
        {
          "output_type": "execute_result",
          "data": {
            "text/plain": [
              "array([[-0.00161313, -0.00266007, -0.00186814, -0.00263223],\n",
              "       [-0.00161382, -0.00266122, -0.00186901, -0.00263352],\n",
              "       [-0.0016132 , -0.00266017, -0.00186822, -0.00263235],\n",
              "       ...,\n",
              "       [-0.00161315, -0.00266009, -0.00186816, -0.00263225],\n",
              "       [-0.00161325, -0.00266026, -0.00186829, -0.00263245],\n",
              "       [-0.00161314, -0.00266007, -0.00186814, -0.00263224]])"
            ]
          },
          "metadata": {},
          "execution_count": 467
        }
      ]
    },
    {
      "cell_type": "markdown",
      "source": [
        "## Análise do Discriminante Linear (LDA: LINEAR DISCRIMINANT ANALYSIS)"
      ],
      "metadata": {
        "id": "DN6PNWPe7Uc_"
      }
    },
    {
      "cell_type": "markdown",
      "source": [
        "Algoritmo de aprendizagem supervisada, pois utiliza a classe como referência para seleção.\n",
        "\n",
        "Aplicado em situações com muitos atributos previsores e também com o tributo alvo com muitas classes."
      ],
      "metadata": {
        "id": "JTV6HHMh7k3f"
      }
    },
    {
      "cell_type": "code",
      "source": [
        "from sklearn.discriminant_analysis import LinearDiscriminantAnalysis\n",
        "lda = LinearDiscriminantAnalysis(n_components= 1) #número de classes|só há duas classes (0 ou 1)"
      ],
      "metadata": {
        "id": "0_v2CmBf7IcQ"
      },
      "execution_count": 468,
      "outputs": []
    },
    {
      "cell_type": "code",
      "source": [
        "previsores_lda = lda.fit_transform(previsores2, alvo) # "
      ],
      "metadata": {
        "id": "dtDG-fje8Kp_"
      },
      "execution_count": 469,
      "outputs": []
    },
    {
      "cell_type": "code",
      "source": [
        "previsores_lda"
      ],
      "metadata": {
        "colab": {
          "base_uri": "https://localhost:8080/"
        },
        "id": "lm0oKdvB8jNl",
        "outputId": "97ebec97-019b-4a64-c869-0267207a5e03"
      },
      "execution_count": 470,
      "outputs": [
        {
          "output_type": "execute_result",
          "data": {
            "text/plain": [
              "array([[-1.84039906e+00],\n",
              "       [-1.02850026e+00],\n",
              "       [-1.31942421e+00],\n",
              "       [ 5.44796136e-01],\n",
              "       [-1.07056148e+00],\n",
              "       [-1.33498689e+00],\n",
              "       [-2.65709986e+00],\n",
              "       [-1.71006712e+00],\n",
              "       [ 1.05406169e+00],\n",
              "       [-2.19691693e+00],\n",
              "       [-2.10336229e+00],\n",
              "       [ 5.60819162e-01],\n",
              "       [-1.82642106e+00],\n",
              "       [ 1.02429254e+00],\n",
              "       [-2.04219711e+00],\n",
              "       [-1.21482688e+00],\n",
              "       [-2.02616486e-01],\n",
              "       [-2.71291883e+00],\n",
              "       [ 4.99934678e-01],\n",
              "       [-4.11374508e-01],\n",
              "       [-2.98063459e+00],\n",
              "       [-7.04338045e-01],\n",
              "       [-2.65710181e+00],\n",
              "       [ 4.75746736e-01],\n",
              "       [-1.28657725e+00],\n",
              "       [-1.62448979e+00],\n",
              "       [ 1.63352464e+00],\n",
              "       [-1.39514243e+00],\n",
              "       [-1.90715060e+00],\n",
              "       [-1.76263888e+00],\n",
              "       [ 3.45010914e-01],\n",
              "       [-1.07924898e+00],\n",
              "       [ 6.51134898e-01],\n",
              "       [ 4.33824846e-01],\n",
              "       [-2.60569643e+00],\n",
              "       [-1.85455855e+00],\n",
              "       [ 2.39630035e+00],\n",
              "       [-2.47176887e+00],\n",
              "       [-1.92388552e+00],\n",
              "       [ 3.38017188e-01],\n",
              "       [-2.27325583e+00],\n",
              "       [ 8.73426311e-02],\n",
              "       [-1.87150626e+00],\n",
              "       [-1.33550917e+00],\n",
              "       [ 9.96326549e-01],\n",
              "       [ 9.27922312e-01],\n",
              "       [-1.09083347e+00],\n",
              "       [-1.88291142e+00],\n",
              "       [-3.72803870e-01],\n",
              "       [-5.03532224e-02],\n",
              "       [ 1.32452375e+00],\n",
              "       [ 6.51492054e-01],\n",
              "       [-8.89697929e-01],\n",
              "       [-2.52100827e+00],\n",
              "       [ 2.60070583e-01],\n",
              "       [-2.63939068e+00],\n",
              "       [ 9.15634004e-01],\n",
              "       [-2.35800647e-01],\n",
              "       [-2.36865345e-01],\n",
              "       [ 1.52940304e+00],\n",
              "       [-1.92333679e+00],\n",
              "       [-2.20061041e+00],\n",
              "       [-8.19942991e-01],\n",
              "       [ 1.15672101e+00],\n",
              "       [-2.52975400e+00],\n",
              "       [-2.38970352e+00],\n",
              "       [-1.46583740e+00],\n",
              "       [-2.14767368e+00],\n",
              "       [ 2.05770693e+00],\n",
              "       [-6.78382687e-01],\n",
              "       [ 2.21683868e-01],\n",
              "       [-1.68081091e+00],\n",
              "       [ 6.87619732e-03],\n",
              "       [-1.39842000e+00],\n",
              "       [ 1.29959968e+00],\n",
              "       [-1.13654590e+00],\n",
              "       [ 6.17375347e-01],\n",
              "       [-1.79220870e+00],\n",
              "       [-1.16113335e+00],\n",
              "       [-1.05185445e-01],\n",
              "       [-1.27383571e+00],\n",
              "       [-1.73097883e+00],\n",
              "       [ 4.67374051e-01],\n",
              "       [-1.83243179e+00],\n",
              "       [ 1.81985414e+00],\n",
              "       [ 1.32183078e+00],\n",
              "       [ 2.26987983e+00],\n",
              "       [-4.72591559e-01],\n",
              "       [-1.22243494e+00],\n",
              "       [ 1.19721579e+00],\n",
              "       [-2.63868508e+00],\n",
              "       [-7.04341843e-01],\n",
              "       [-2.50755980e+00],\n",
              "       [ 1.66073913e+00],\n",
              "       [-2.44407390e+00],\n",
              "       [ 1.28960138e+00],\n",
              "       [-1.70378134e+00],\n",
              "       [-8.71445317e-01],\n",
              "       [-9.89013879e-01],\n",
              "       [-1.68375177e+00],\n",
              "       [ 1.39118009e+00],\n",
              "       [-5.43690689e-01],\n",
              "       [ 6.91868604e-02],\n",
              "       [ 1.89514823e+00],\n",
              "       [ 1.63755797e-01],\n",
              "       [-8.79010681e-01],\n",
              "       [-1.27074346e+00],\n",
              "       [-1.95076279e+00],\n",
              "       [-8.82809512e-01],\n",
              "       [-1.35129372e+00],\n",
              "       [-1.20076624e+00],\n",
              "       [ 1.83200531e+00],\n",
              "       [ 7.50276436e-01],\n",
              "       [-1.67546895e+00],\n",
              "       [-1.96027121e+00],\n",
              "       [ 3.25395309e-02],\n",
              "       [-6.63393029e-02],\n",
              "       [ 1.32648317e+00],\n",
              "       [-3.41933406e+00],\n",
              "       [-1.68711815e+00],\n",
              "       [-5.86957215e-01],\n",
              "       [-1.87957254e+00],\n",
              "       [-7.91600967e-01],\n",
              "       [ 7.36479139e-03],\n",
              "       [-1.67025119e+00],\n",
              "       [-1.38731127e+00],\n",
              "       [-3.01512029e+00],\n",
              "       [-1.61156161e+00],\n",
              "       [-1.74483914e+00],\n",
              "       [ 4.81958644e-01],\n",
              "       [-1.08136521e+00],\n",
              "       [ 6.52609322e-01],\n",
              "       [ 1.70993327e+00],\n",
              "       [ 1.30194693e+00],\n",
              "       [ 5.99909266e-01],\n",
              "       [-5.10048655e-01],\n",
              "       [-2.74908130e+00],\n",
              "       [-1.41603621e+00],\n",
              "       [ 9.36159090e-01],\n",
              "       [ 1.26678742e+00],\n",
              "       [ 1.84649862e+00],\n",
              "       [ 1.59826767e+00],\n",
              "       [ 1.36202046e+00],\n",
              "       [-8.14004401e-01],\n",
              "       [-1.27535066e+00],\n",
              "       [-7.37295388e-01],\n",
              "       [-1.89101502e+00],\n",
              "       [-2.69754416e+00],\n",
              "       [-1.92518241e+00],\n",
              "       [ 2.44925724e+00],\n",
              "       [-1.60300826e+00],\n",
              "       [-1.53884139e+00],\n",
              "       [-1.71675808e+00],\n",
              "       [-6.74734189e-01],\n",
              "       [-1.75946428e+00],\n",
              "       [ 2.20408473e+00],\n",
              "       [ 7.45959644e-01],\n",
              "       [-7.55029769e-01],\n",
              "       [ 1.53933732e+00],\n",
              "       [-1.37393694e+00],\n",
              "       [ 1.81658404e+00],\n",
              "       [ 1.12596469e+00],\n",
              "       [-1.81817993e+00],\n",
              "       [-1.85701276e+00],\n",
              "       [-2.38767562e+00],\n",
              "       [-3.71801076e-01],\n",
              "       [ 1.71880646e+00],\n",
              "       [-1.46882558e+00],\n",
              "       [-4.12092029e-01],\n",
              "       [-1.37239254e+00],\n",
              "       [-1.94037509e+00],\n",
              "       [-1.60965932e+00],\n",
              "       [-1.62161018e+00],\n",
              "       [-1.51076079e+00],\n",
              "       [ 1.31517443e+00],\n",
              "       [ 1.28355792e+00],\n",
              "       [ 7.05280034e-01],\n",
              "       [-1.54742081e+00],\n",
              "       [-1.43375054e+00],\n",
              "       [-1.16001210e+00],\n",
              "       [ 1.33197741e+00],\n",
              "       [-1.72913879e+00],\n",
              "       [ 1.62972472e+00],\n",
              "       [ 9.74122683e-01],\n",
              "       [-2.11394381e+00],\n",
              "       [ 8.25493572e-01],\n",
              "       [-1.33399233e+00],\n",
              "       [ 1.60940333e+00],\n",
              "       [ 6.26303218e-01],\n",
              "       [ 1.45746842e+00],\n",
              "       [-4.53668904e-01],\n",
              "       [-1.42503675e+00],\n",
              "       [-1.78840020e+00],\n",
              "       [-1.07356040e+00],\n",
              "       [-2.86023744e+00],\n",
              "       [-2.60464811e+00],\n",
              "       [ 4.90259320e-01],\n",
              "       [-1.57625284e+00],\n",
              "       [ 1.04924267e+00],\n",
              "       [-1.25581344e+00],\n",
              "       [-2.19172686e+00],\n",
              "       [-1.32586770e+00],\n",
              "       [-1.39993083e+00],\n",
              "       [-2.67173544e+00],\n",
              "       [-1.38921941e+00],\n",
              "       [-8.45325271e-02],\n",
              "       [-1.90691336e+00],\n",
              "       [-8.11441763e-01],\n",
              "       [-2.28149562e+00],\n",
              "       [ 1.63176631e-01],\n",
              "       [ 1.05008307e+00],\n",
              "       [-2.48109062e-01],\n",
              "       [-1.55853899e-01],\n",
              "       [-2.10831964e+00],\n",
              "       [ 1.41307213e+00],\n",
              "       [-3.12313852e+00],\n",
              "       [ 7.00709510e-02],\n",
              "       [-1.19561000e+00],\n",
              "       [-1.73311569e+00],\n",
              "       [-1.94671877e+00],\n",
              "       [ 3.36528340e-01],\n",
              "       [ 3.57785777e-01],\n",
              "       [-1.94450110e+00],\n",
              "       [-1.56014270e+00],\n",
              "       [-9.11200446e-01],\n",
              "       [ 1.77750370e-01],\n",
              "       [-1.26321638e+00],\n",
              "       [ 9.63009993e-01],\n",
              "       [-1.84194846e+00],\n",
              "       [-2.02523169e+00],\n",
              "       [-8.39209603e-01],\n",
              "       [-1.38933901e+00],\n",
              "       [-2.34924070e+00],\n",
              "       [-8.34941602e-01],\n",
              "       [-2.21350335e+00],\n",
              "       [-1.76594087e-01],\n",
              "       [ 1.61616144e+00],\n",
              "       [-9.70592911e-01],\n",
              "       [ 1.73820652e+00],\n",
              "       [ 1.60403081e+00],\n",
              "       [-1.53640925e+00],\n",
              "       [ 1.25264240e+00],\n",
              "       [ 1.11287229e+00],\n",
              "       [-2.24780087e+00],\n",
              "       [ 1.38759438e+00],\n",
              "       [-1.82514909e+00],\n",
              "       [ 5.95666405e-01],\n",
              "       [ 2.75148033e+00],\n",
              "       [ 1.04304035e+00],\n",
              "       [ 1.34302841e+00],\n",
              "       [ 6.25814181e-01],\n",
              "       [ 7.16087966e-01],\n",
              "       [ 2.84827251e-01],\n",
              "       [-1.39983791e+00],\n",
              "       [ 1.59797331e+00],\n",
              "       [-1.81019149e+00],\n",
              "       [-2.13640914e+00],\n",
              "       [-1.63071474e+00],\n",
              "       [-1.74196086e+00],\n",
              "       [-2.34487723e+00],\n",
              "       [-1.10120115e+00],\n",
              "       [-2.23008343e+00],\n",
              "       [ 9.82223872e-01],\n",
              "       [ 1.62431238e-01],\n",
              "       [ 4.57367702e-01],\n",
              "       [-1.70428272e+00],\n",
              "       [ 1.36409258e+00],\n",
              "       [-1.90800668e+00],\n",
              "       [ 1.42311587e+00],\n",
              "       [-7.45653274e-01],\n",
              "       [-8.22107998e-01],\n",
              "       [-2.81970573e+00],\n",
              "       [ 1.42265135e+00],\n",
              "       [-1.13203280e+00],\n",
              "       [-2.54664495e+00],\n",
              "       [-7.88977270e-01],\n",
              "       [-1.18090983e-01],\n",
              "       [ 1.26650749e+00],\n",
              "       [ 6.70049598e-01],\n",
              "       [-2.44009739e+00],\n",
              "       [-1.05976401e+00],\n",
              "       [ 6.55392160e-01],\n",
              "       [-1.11705077e+00],\n",
              "       [-2.34653120e+00],\n",
              "       [-8.02928668e-01],\n",
              "       [-1.91187514e+00],\n",
              "       [-7.88515936e-01],\n",
              "       [-1.67197987e+00],\n",
              "       [-2.04940364e+00],\n",
              "       [-2.17549417e+00],\n",
              "       [-1.27200875e+00],\n",
              "       [-2.15968317e+00],\n",
              "       [-8.84390798e-01],\n",
              "       [ 1.29387862e+00],\n",
              "       [-1.38330305e+00],\n",
              "       [ 1.10026225e+00],\n",
              "       [ 1.66896143e+00],\n",
              "       [ 9.21163083e-01],\n",
              "       [ 1.18065592e+00],\n",
              "       [ 1.66221951e-01],\n",
              "       [ 9.68297192e-01],\n",
              "       [-1.60027749e+00],\n",
              "       [ 3.34304578e-01],\n",
              "       [ 2.18471469e+00],\n",
              "       [ 1.27349221e+00],\n",
              "       [ 1.69928457e-01],\n",
              "       [ 7.61599737e-01],\n",
              "       [ 5.38815039e-01],\n",
              "       [ 4.74969122e-02],\n",
              "       [ 1.57107328e+00],\n",
              "       [-5.25587867e-01],\n",
              "       [ 2.20312694e-01],\n",
              "       [-1.51546202e-01],\n",
              "       [-2.89479590e-01],\n",
              "       [ 2.06101868e+00],\n",
              "       [-4.17156437e-01],\n",
              "       [ 4.00472667e-01],\n",
              "       [ 1.09336198e+00],\n",
              "       [ 1.82015341e+00],\n",
              "       [ 4.03005021e-01],\n",
              "       [ 6.35871980e-01],\n",
              "       [ 9.66771337e-01],\n",
              "       [-6.86842467e-01],\n",
              "       [ 3.01904113e+00],\n",
              "       [ 3.95373579e-01],\n",
              "       [ 2.18529575e+00],\n",
              "       [-1.25134062e+00],\n",
              "       [ 9.51092340e-01],\n",
              "       [ 2.04227740e+00],\n",
              "       [ 2.79268153e+00],\n",
              "       [-9.83435777e-02],\n",
              "       [ 2.13475487e-01],\n",
              "       [-1.79362379e+00],\n",
              "       [-2.26301554e-01],\n",
              "       [-4.18896378e-01],\n",
              "       [-4.80975508e-01],\n",
              "       [ 4.47563554e-01],\n",
              "       [ 5.78625711e-01],\n",
              "       [ 3.25354173e-01],\n",
              "       [ 1.20560098e+00],\n",
              "       [ 2.06796372e+00],\n",
              "       [ 2.92585315e+00],\n",
              "       [ 1.32991667e+00],\n",
              "       [ 1.01160275e+00],\n",
              "       [ 1.10765707e+00],\n",
              "       [ 4.08649120e-01],\n",
              "       [ 4.26419440e-01],\n",
              "       [ 8.98535159e-01],\n",
              "       [ 1.56220771e+00],\n",
              "       [ 1.66853242e+00],\n",
              "       [ 1.00158654e+00],\n",
              "       [ 7.80365665e-04],\n",
              "       [ 1.96258718e+00],\n",
              "       [ 1.40241393e+00],\n",
              "       [-2.93662175e-01],\n",
              "       [-8.55072115e-01],\n",
              "       [ 1.26678728e+00],\n",
              "       [-3.54058957e-01],\n",
              "       [ 4.00183364e-01],\n",
              "       [-8.49529321e-02],\n",
              "       [ 1.06231616e+00],\n",
              "       [ 1.01313000e+00],\n",
              "       [ 1.54921399e-01],\n",
              "       [ 1.72792935e-01],\n",
              "       [ 9.61398159e-02],\n",
              "       [ 4.89178501e-01],\n",
              "       [ 1.48475379e+00],\n",
              "       [ 2.30526978e-01],\n",
              "       [ 1.41763119e+00],\n",
              "       [ 1.73094576e+00],\n",
              "       [ 6.72654620e-01],\n",
              "       [ 1.58682986e+00],\n",
              "       [ 4.31017165e-01],\n",
              "       [ 1.29090462e+00],\n",
              "       [ 2.12330425e+00],\n",
              "       [-1.57299297e+00],\n",
              "       [ 7.74793354e-01],\n",
              "       [ 1.35542571e+00],\n",
              "       [ 1.88452190e+00],\n",
              "       [-1.89339471e-01],\n",
              "       [ 1.38978921e+00],\n",
              "       [ 1.07244023e+00],\n",
              "       [ 1.09096588e+00],\n",
              "       [-8.02311779e-01],\n",
              "       [ 9.20000168e-02],\n",
              "       [ 1.23553383e+00],\n",
              "       [ 1.14047135e+00],\n",
              "       [ 1.11994891e+00],\n",
              "       [ 6.72441527e-01],\n",
              "       [ 1.12142876e+00],\n",
              "       [ 8.17128060e-01],\n",
              "       [ 1.35047479e+00],\n",
              "       [ 4.86167917e-01],\n",
              "       [ 1.73674394e+00],\n",
              "       [ 2.27058875e+00],\n",
              "       [ 6.98284256e-01],\n",
              "       [-1.16693197e+00],\n",
              "       [ 1.91730930e+00],\n",
              "       [ 9.64857356e-01],\n",
              "       [ 1.13731643e+00],\n",
              "       [ 3.64437782e-01],\n",
              "       [ 6.96875398e-01],\n",
              "       [ 1.65744717e+00],\n",
              "       [ 1.96876750e+00],\n",
              "       [ 1.16817918e+00],\n",
              "       [ 1.67498983e+00],\n",
              "       [ 1.88255850e+00],\n",
              "       [ 1.99989744e+00],\n",
              "       [ 1.22106051e+00],\n",
              "       [ 1.30839707e+00],\n",
              "       [ 1.78315365e+00],\n",
              "       [ 1.13967504e+00],\n",
              "       [ 1.99731824e+00],\n",
              "       [ 4.12143505e-01],\n",
              "       [ 2.27863457e+00],\n",
              "       [ 6.16655429e-01],\n",
              "       [ 1.72987258e+00],\n",
              "       [-7.27957621e-01],\n",
              "       [ 2.08851896e+00],\n",
              "       [ 3.30082007e-01],\n",
              "       [ 1.65162130e+00],\n",
              "       [-1.00743273e+00],\n",
              "       [ 1.91690535e+00],\n",
              "       [ 8.41541355e-01],\n",
              "       [ 5.26779457e-01],\n",
              "       [ 8.97740695e-02],\n",
              "       [-1.71256610e+00],\n",
              "       [ 1.29886466e+00],\n",
              "       [ 1.14706170e+00],\n",
              "       [ 8.62282634e-01],\n",
              "       [ 1.68653177e+00],\n",
              "       [-2.93869112e-01],\n",
              "       [ 2.67729711e+00],\n",
              "       [ 1.23817440e+00],\n",
              "       [ 1.62577714e+00],\n",
              "       [ 2.18921264e-01],\n",
              "       [-4.15277652e-01],\n",
              "       [ 1.53632221e+00],\n",
              "       [ 7.40595669e-01],\n",
              "       [-7.87339435e-01],\n",
              "       [-9.46988657e-01],\n",
              "       [ 1.24592084e+00],\n",
              "       [ 1.85128561e+00],\n",
              "       [ 1.58405757e+00],\n",
              "       [ 1.04091458e+00],\n",
              "       [ 8.40375653e-01],\n",
              "       [ 1.31513445e+00],\n",
              "       [ 5.60471448e-01],\n",
              "       [ 2.06467981e+00],\n",
              "       [ 1.91317216e+00],\n",
              "       [ 1.30278768e+00],\n",
              "       [ 1.44622147e+00],\n",
              "       [ 3.76967064e-01],\n",
              "       [ 1.84152949e+00],\n",
              "       [ 3.72320241e-01],\n",
              "       [ 9.27670212e-01],\n",
              "       [ 5.82768160e-01],\n",
              "       [ 1.60437510e+00],\n",
              "       [-6.10985237e-01],\n",
              "       [ 2.13882910e+00],\n",
              "       [ 1.38305961e+00],\n",
              "       [ 2.21468587e+00],\n",
              "       [-4.85584774e-01],\n",
              "       [ 1.84197975e+00],\n",
              "       [-1.38743531e+00],\n",
              "       [ 9.87280567e-01],\n",
              "       [-2.19906148e+00],\n",
              "       [ 5.02390396e-01],\n",
              "       [ 1.36342777e-01],\n",
              "       [ 4.62492407e-01],\n",
              "       [ 1.58504070e+00],\n",
              "       [ 1.84762927e+00],\n",
              "       [ 1.72239196e+00],\n",
              "       [-1.44859248e+00],\n",
              "       [ 1.83984149e+00],\n",
              "       [-6.47872269e-02],\n",
              "       [ 3.06875566e+00],\n",
              "       [ 1.97472428e+00],\n",
              "       [ 1.10837702e+00],\n",
              "       [ 1.24114448e+00],\n",
              "       [ 2.08538125e+00],\n",
              "       [-6.97059472e-01],\n",
              "       [ 2.36989495e+00],\n",
              "       [ 1.37019924e+00],\n",
              "       [ 9.93713992e-01],\n",
              "       [-1.24103413e+00],\n",
              "       [ 1.19904181e+00],\n",
              "       [-1.84776090e+00],\n",
              "       [ 1.36698988e+00],\n",
              "       [ 9.55338140e-01],\n",
              "       [ 1.27075405e+00],\n",
              "       [-6.60760101e-01],\n",
              "       [ 9.87088319e-01],\n",
              "       [ 1.55181368e+00],\n",
              "       [ 4.45379932e-01],\n",
              "       [ 2.90893209e+00],\n",
              "       [ 2.33902371e+00],\n",
              "       [ 2.01728402e+00],\n",
              "       [ 1.29017077e+00],\n",
              "       [ 2.59147334e+00],\n",
              "       [ 1.41734353e+00],\n",
              "       [ 1.30169590e+00],\n",
              "       [-3.91878429e-02],\n",
              "       [ 3.23645905e+00],\n",
              "       [ 1.40378291e+00],\n",
              "       [ 1.73094010e+00],\n",
              "       [-1.79626888e-01],\n",
              "       [ 2.05816970e+00],\n",
              "       [ 3.59059221e-01],\n",
              "       [-5.87422495e-01],\n",
              "       [ 2.44039404e+00],\n",
              "       [-1.54171651e+00],\n",
              "       [-2.34298259e-01],\n",
              "       [-5.63788046e-01],\n",
              "       [ 8.66775216e-01],\n",
              "       [ 5.35738817e-01],\n",
              "       [ 1.38844703e+00],\n",
              "       [ 2.35068159e+00],\n",
              "       [ 3.96729448e-01],\n",
              "       [ 4.42252522e-01],\n",
              "       [ 2.64765776e+00],\n",
              "       [ 4.86396969e-01],\n",
              "       [ 1.11033300e+00],\n",
              "       [-8.75368601e-01],\n",
              "       [-1.24350642e+00],\n",
              "       [ 1.62731294e+00],\n",
              "       [-1.37891309e+00],\n",
              "       [ 5.87120601e-01],\n",
              "       [ 1.44887559e+00],\n",
              "       [ 1.09847601e+00],\n",
              "       [ 2.24995325e+00],\n",
              "       [ 1.05624269e+00],\n",
              "       [ 1.28572295e+00],\n",
              "       [ 2.26925596e+00],\n",
              "       [ 1.23815615e+00],\n",
              "       [ 1.53647723e+00],\n",
              "       [ 3.43848807e+00],\n",
              "       [ 2.02003984e+00],\n",
              "       [-4.75814237e-01],\n",
              "       [ 7.97722251e-01],\n",
              "       [ 1.35919695e+00],\n",
              "       [ 7.13001111e-01],\n",
              "       [ 2.51380775e+00],\n",
              "       [-7.25030081e-01],\n",
              "       [-6.43512720e-01],\n",
              "       [ 1.99796887e-01],\n",
              "       [ 1.03237512e+00],\n",
              "       [-3.73375834e-01],\n",
              "       [-1.30024550e+00],\n",
              "       [ 1.16743659e+00],\n",
              "       [-7.23805177e-01],\n",
              "       [ 1.09191878e+00],\n",
              "       [ 8.11101235e-01],\n",
              "       [-6.69006999e-01],\n",
              "       [ 6.42881389e-01],\n",
              "       [ 3.33390732e+00],\n",
              "       [ 1.51736279e+00],\n",
              "       [ 8.35871656e-01],\n",
              "       [ 2.90937485e+00],\n",
              "       [-1.14949906e+00],\n",
              "       [-1.67900759e+00],\n",
              "       [ 1.22763557e+00],\n",
              "       [ 1.79583560e+00],\n",
              "       [ 1.83731589e+00],\n",
              "       [ 1.53033922e+00],\n",
              "       [ 1.05118478e+00],\n",
              "       [ 1.16938945e+00],\n",
              "       [ 2.27003134e+00],\n",
              "       [ 1.54603319e+00],\n",
              "       [ 2.30491041e+00],\n",
              "       [ 1.91880614e+00],\n",
              "       [ 1.04107654e+00],\n",
              "       [ 1.19810191e+00],\n",
              "       [ 2.08781286e+00],\n",
              "       [ 1.94405287e+00],\n",
              "       [ 1.50503324e+00],\n",
              "       [ 1.77095665e+00],\n",
              "       [ 2.45651561e+00],\n",
              "       [ 2.29592160e+00],\n",
              "       [ 1.63861970e+00],\n",
              "       [-1.55098257e-02],\n",
              "       [ 2.03431794e+00],\n",
              "       [-7.98441709e-01],\n",
              "       [ 2.08054956e+00],\n",
              "       [ 4.62321380e-01],\n",
              "       [ 1.34499980e+00],\n",
              "       [-3.57975706e-01],\n",
              "       [ 1.44185494e+00],\n",
              "       [ 9.18074131e-01],\n",
              "       [-1.56251109e+00],\n",
              "       [-5.47479775e-01],\n",
              "       [ 2.99200641e+00],\n",
              "       [ 1.07190849e+00],\n",
              "       [ 1.11407849e+00],\n",
              "       [ 1.59853724e+00],\n",
              "       [ 5.90964034e-01],\n",
              "       [-1.16633208e+00],\n",
              "       [ 2.19328860e+00],\n",
              "       [ 1.38626938e+00],\n",
              "       [ 1.36012542e+00],\n",
              "       [ 9.28068421e-01],\n",
              "       [ 9.53128103e-01],\n",
              "       [ 2.57953521e+00],\n",
              "       [ 2.08041067e-01],\n",
              "       [-3.10013599e-01],\n",
              "       [ 2.43057936e+00],\n",
              "       [ 2.01675425e+00],\n",
              "       [ 8.93572190e-01],\n",
              "       [ 3.91164222e-01],\n",
              "       [ 1.74355315e-01],\n",
              "       [-2.09066716e+00],\n",
              "       [ 1.14563769e+00],\n",
              "       [ 3.51082799e-01],\n",
              "       [ 4.37963012e-01],\n",
              "       [ 1.13477095e+00],\n",
              "       [-2.12652314e-01],\n",
              "       [-1.51518802e+00],\n",
              "       [ 1.28483889e+00],\n",
              "       [-1.31805335e+00],\n",
              "       [-6.99129337e-01],\n",
              "       [ 1.24992898e+00],\n",
              "       [ 1.09928067e+00],\n",
              "       [ 3.71430113e-01],\n",
              "       [ 4.42729512e-01],\n",
              "       [ 1.73386930e-01],\n",
              "       [ 1.88099403e-01],\n",
              "       [-1.49304316e+00],\n",
              "       [-6.71669266e-01],\n",
              "       [-1.46256932e+00],\n",
              "       [-2.32796398e-01],\n",
              "       [ 1.42277259e+00],\n",
              "       [ 2.85512826e+00],\n",
              "       [-1.61201739e-01],\n",
              "       [-1.57913961e+00],\n",
              "       [ 1.48909912e+00],\n",
              "       [-9.45302145e-01],\n",
              "       [ 1.17324166e-01],\n",
              "       [-8.63799659e-01],\n",
              "       [-1.06775863e+00],\n",
              "       [-1.85967488e+00],\n",
              "       [ 2.61106014e-02],\n",
              "       [-1.85923554e+00],\n",
              "       [ 1.42776214e-02],\n",
              "       [-1.03497351e+00],\n",
              "       [-2.10971189e-01],\n",
              "       [-1.69744242e-01],\n",
              "       [-2.32321636e+00],\n",
              "       [ 2.67016332e+00],\n",
              "       [ 1.09589160e+00],\n",
              "       [ 5.47121143e-01],\n",
              "       [ 3.26955060e-01],\n",
              "       [-1.76592983e+00],\n",
              "       [-1.42343632e+00],\n",
              "       [-1.11896389e+00],\n",
              "       [-1.11328519e+00],\n",
              "       [-1.65686945e+00],\n",
              "       [-7.97593936e-01],\n",
              "       [-1.25054824e+00],\n",
              "       [ 8.30781614e-01],\n",
              "       [-6.71160621e-01],\n",
              "       [-1.10461635e+00],\n",
              "       [-1.14294118e+00],\n",
              "       [ 2.88209515e-01],\n",
              "       [-6.83582673e-02],\n",
              "       [ 1.35776936e+00],\n",
              "       [-1.35923159e+00],\n",
              "       [-8.28489510e-01],\n",
              "       [-2.65589826e+00],\n",
              "       [-1.63895446e+00],\n",
              "       [-2.77987178e+00],\n",
              "       [ 1.56822265e+00],\n",
              "       [-1.01938426e+00],\n",
              "       [ 2.26025107e-01],\n",
              "       [-2.21912560e-02],\n",
              "       [-8.63727612e-01],\n",
              "       [ 4.04312210e-01],\n",
              "       [-1.48906526e+00],\n",
              "       [-2.81343444e+00],\n",
              "       [ 8.83997810e-01],\n",
              "       [ 1.34053552e+00],\n",
              "       [-3.30490004e-01],\n",
              "       [-1.59649193e+00],\n",
              "       [-1.09286637e+00],\n",
              "       [-1.33169081e+00],\n",
              "       [ 1.55955254e+00],\n",
              "       [-6.75270183e-01],\n",
              "       [-1.43564659e+00],\n",
              "       [-5.14673357e-01],\n",
              "       [-1.42016572e+00],\n",
              "       [ 9.37116291e-01],\n",
              "       [ 1.19862635e+00],\n",
              "       [-2.44864741e+00],\n",
              "       [-1.39137536e+00],\n",
              "       [-1.76481768e+00],\n",
              "       [ 8.31403893e-01],\n",
              "       [ 1.00766386e+00],\n",
              "       [ 4.48331563e-01],\n",
              "       [-2.07997207e-01],\n",
              "       [ 1.16128872e+00],\n",
              "       [-2.21589108e+00],\n",
              "       [-9.26042776e-01],\n",
              "       [ 6.81933460e-01],\n",
              "       [-2.51930827e+00],\n",
              "       [ 7.84514921e-01],\n",
              "       [-1.09744701e+00],\n",
              "       [-1.45955502e+00],\n",
              "       [ 1.55216716e+00],\n",
              "       [ 1.05869586e+00],\n",
              "       [-8.28017506e-01],\n",
              "       [ 1.22465629e+00],\n",
              "       [ 4.01461344e-01],\n",
              "       [-8.53308034e-01],\n",
              "       [-1.62099867e+00],\n",
              "       [-2.38076796e+00],\n",
              "       [-1.42916163e+00],\n",
              "       [ 9.67914394e-01],\n",
              "       [-1.63254691e+00],\n",
              "       [ 1.35110284e+00],\n",
              "       [ 5.13848960e-01],\n",
              "       [ 1.39519064e-01],\n",
              "       [ 5.16559602e-01],\n",
              "       [-9.66392241e-02],\n",
              "       [-2.70020114e-01],\n",
              "       [-1.65132309e+00],\n",
              "       [ 1.12983786e+00],\n",
              "       [-1.83564916e+00],\n",
              "       [-1.40249226e+00],\n",
              "       [-1.37137944e+00],\n",
              "       [-1.77506458e+00],\n",
              "       [-1.57351304e+00],\n",
              "       [-6.38870699e-01],\n",
              "       [ 2.68354766e+00],\n",
              "       [-2.20455086e-01],\n",
              "       [ 3.13322744e+00],\n",
              "       [-2.62913045e-02],\n",
              "       [ 1.70061885e+00],\n",
              "       [ 1.59311832e+00],\n",
              "       [-1.50279206e+00],\n",
              "       [ 7.71657978e-01],\n",
              "       [-2.10958372e+00],\n",
              "       [ 1.58067994e+00],\n",
              "       [-1.24170143e+00],\n",
              "       [-1.67966759e+00],\n",
              "       [ 6.96550735e-01],\n",
              "       [ 2.87014474e-01],\n",
              "       [ 6.25506469e-02],\n",
              "       [-1.09207164e+00],\n",
              "       [ 2.60746533e+00],\n",
              "       [-1.02831659e+00],\n",
              "       [ 5.81453044e-01],\n",
              "       [-1.96862054e+00],\n",
              "       [ 1.76047870e+00],\n",
              "       [-2.84665739e+00],\n",
              "       [-2.90303694e-01],\n",
              "       [ 6.87434055e-01],\n",
              "       [-9.00636205e-01],\n",
              "       [-3.24645507e-01],\n",
              "       [-1.07788412e+00],\n",
              "       [-1.80920989e+00],\n",
              "       [ 1.61338259e+00],\n",
              "       [-9.28407983e-01],\n",
              "       [ 1.18823188e+00],\n",
              "       [-8.33634300e-01],\n",
              "       [-1.53358673e+00],\n",
              "       [-1.55667037e+00],\n",
              "       [-9.34866837e-01],\n",
              "       [-2.08410315e+00],\n",
              "       [ 1.06923690e-01],\n",
              "       [-1.86700669e+00],\n",
              "       [-2.76481258e+00],\n",
              "       [ 2.96386398e+00],\n",
              "       [-1.74916838e+00],\n",
              "       [-1.01835381e+00],\n",
              "       [ 9.03689028e-01],\n",
              "       [-2.64176535e-01],\n",
              "       [ 3.52426723e-01],\n",
              "       [-1.67293925e+00],\n",
              "       [ 1.55275679e+00],\n",
              "       [-1.03459835e+00],\n",
              "       [-6.09801084e-01],\n",
              "       [-1.62660808e+00],\n",
              "       [ 1.41414331e+00],\n",
              "       [ 4.09485582e-02],\n",
              "       [-2.91558410e-01],\n",
              "       [-2.08102297e-01],\n",
              "       [ 2.37162350e-01],\n",
              "       [ 1.31844910e+00],\n",
              "       [-4.89835064e-01],\n",
              "       [-2.53543780e+00],\n",
              "       [ 8.48150224e-01],\n",
              "       [ 1.82682434e+00],\n",
              "       [ 2.89783424e-01],\n",
              "       [ 8.34889565e-01],\n",
              "       [-1.43939039e+00],\n",
              "       [ 9.84114640e-01],\n",
              "       [ 7.13984233e-01],\n",
              "       [-1.06471607e+00],\n",
              "       [-3.67273815e-01],\n",
              "       [-7.21913940e-01],\n",
              "       [-9.49857904e-01],\n",
              "       [ 1.45021852e+00],\n",
              "       [-1.61395501e-01],\n",
              "       [-1.01014299e-01],\n",
              "       [ 1.35199655e+00],\n",
              "       [-6.48004182e-01],\n",
              "       [ 2.38787243e+00],\n",
              "       [-1.64302446e+00],\n",
              "       [-2.03686300e-01],\n",
              "       [-7.95022895e-01],\n",
              "       [-1.29286830e+00],\n",
              "       [-2.21557127e-01],\n",
              "       [-9.32791299e-01],\n",
              "       [-2.46727177e+00],\n",
              "       [ 7.86682474e-02],\n",
              "       [-9.33233076e-01],\n",
              "       [-7.96787875e-01],\n",
              "       [ 1.44342668e+00],\n",
              "       [ 7.52894612e-02],\n",
              "       [ 1.15278119e+00],\n",
              "       [-4.22932978e-01],\n",
              "       [-1.94066818e+00],\n",
              "       [ 4.49519444e-01],\n",
              "       [ 9.91666781e-01],\n",
              "       [ 8.39937994e-01],\n",
              "       [-1.01373629e+00],\n",
              "       [ 6.43608474e-01],\n",
              "       [-1.28024249e+00],\n",
              "       [ 1.33493989e+00],\n",
              "       [-2.27697628e+00],\n",
              "       [-2.49071198e+00],\n",
              "       [-2.03956327e+00],\n",
              "       [-7.00985243e-01],\n",
              "       [-1.72460796e-01],\n",
              "       [-1.95139337e+00],\n",
              "       [ 1.42694638e+00],\n",
              "       [ 9.23478301e-01],\n",
              "       [-1.21507674e+00],\n",
              "       [ 1.21961984e+00],\n",
              "       [-1.77024377e+00],\n",
              "       [-7.61341878e-01],\n",
              "       [-3.69080240e-01],\n",
              "       [ 1.44817050e+00],\n",
              "       [-1.98506531e+00],\n",
              "       [-1.59365269e+00],\n",
              "       [ 4.67502186e-01],\n",
              "       [ 2.56157917e-01],\n",
              "       [-1.07812320e+00],\n",
              "       [-1.95897410e-01],\n",
              "       [ 6.89429176e-02],\n",
              "       [ 1.40149142e+00],\n",
              "       [-1.60062140e+00],\n",
              "       [ 1.28312786e+00],\n",
              "       [-1.25758238e+00],\n",
              "       [-1.69476787e+00],\n",
              "       [ 1.55859566e+00],\n",
              "       [-1.39333816e+00],\n",
              "       [-4.36719005e-01],\n",
              "       [ 9.94847797e-01],\n",
              "       [-1.53773752e+00],\n",
              "       [ 2.24238324e-01],\n",
              "       [-6.64830738e-01],\n",
              "       [-1.67573446e+00],\n",
              "       [ 1.57168284e-01],\n",
              "       [ 1.51148247e+00],\n",
              "       [ 5.45866802e-01],\n",
              "       [-2.04213879e+00],\n",
              "       [-7.98204232e-01],\n",
              "       [-1.09956839e+00],\n",
              "       [-3.43231862e-01],\n",
              "       [-2.18559934e+00],\n",
              "       [ 1.37220773e+00],\n",
              "       [ 1.35277380e+00],\n",
              "       [-1.04500368e+00],\n",
              "       [-7.24911696e-01],\n",
              "       [-1.97576600e+00],\n",
              "       [ 1.36123522e+00],\n",
              "       [-4.04059886e-01],\n",
              "       [-1.72571151e+00],\n",
              "       [ 1.19802484e-01],\n",
              "       [-6.01016354e-01],\n",
              "       [-1.89921998e+00],\n",
              "       [-1.15807766e+00],\n",
              "       [ 1.75562920e-01],\n",
              "       [ 1.62668300e+00],\n",
              "       [-1.75595733e+00],\n",
              "       [-1.40838656e+00],\n",
              "       [ 1.49980586e+00],\n",
              "       [ 1.50691827e+00],\n",
              "       [-2.10038422e+00],\n",
              "       [-9.87213592e-01],\n",
              "       [-8.74992930e-01],\n",
              "       [-1.20516286e+00],\n",
              "       [-1.70901570e+00],\n",
              "       [-4.23529432e-01],\n",
              "       [ 1.52089998e+00],\n",
              "       [-1.47942286e+00],\n",
              "       [ 4.95080325e-01],\n",
              "       [-2.08891851e+00],\n",
              "       [-8.59476697e-01],\n",
              "       [ 2.04008746e+00],\n",
              "       [ 1.30614013e+00],\n",
              "       [-6.53160566e-01],\n",
              "       [-1.76820092e+00],\n",
              "       [ 3.41614935e-02],\n",
              "       [-6.27550220e-02],\n",
              "       [-2.16868830e+00],\n",
              "       [ 2.04831982e+00],\n",
              "       [ 6.17226533e-01],\n",
              "       [ 1.31200028e-01],\n",
              "       [-2.17148865e+00],\n",
              "       [ 1.42189072e+00],\n",
              "       [ 3.24503695e-01],\n",
              "       [-9.11005558e-01],\n",
              "       [ 1.47563409e+00],\n",
              "       [ 1.10520362e+00],\n",
              "       [-1.64664310e+00],\n",
              "       [-1.61864611e+00]])"
            ]
          },
          "metadata": {},
          "execution_count": 470
        }
      ]
    },
    {
      "cell_type": "code",
      "source": [
        "lda.explained_variance_ratio_"
      ],
      "metadata": {
        "colab": {
          "base_uri": "https://localhost:8080/"
        },
        "id": "k6VN9AQO8mAW",
        "outputId": "52555450-df88-417d-f857-bf56505b693a"
      },
      "execution_count": 471,
      "outputs": [
        {
          "output_type": "execute_result",
          "data": {
            "text/plain": [
              "array([1.])"
            ]
          },
          "metadata": {},
          "execution_count": 471
        }
      ]
    },
    {
      "cell_type": "markdown",
      "source": [
        "bom para usar com uma base de dados maior."
      ],
      "metadata": {
        "id": "F4jej4b-jtQP"
      }
    },
    {
      "cell_type": "markdown",
      "source": [
        "## Salvando as variáveis"
      ],
      "metadata": {
        "id": "rO7BLUl7jQzR"
      }
    },
    {
      "cell_type": "code",
      "source": [
        "import pickle "
      ],
      "metadata": {
        "id": "OUuGVohh8tVe"
      },
      "execution_count": 472,
      "outputs": []
    },
    {
      "cell_type": "code",
      "source": [
        "# criando arquivo\n",
        "arq1 = open('heart.pkl', 'wb')"
      ],
      "metadata": {
        "id": "bUcVdUiekH5k"
      },
      "execution_count": 473,
      "outputs": []
    },
    {
      "cell_type": "code",
      "source": [
        "# salvando a variável no arquivo\n",
        "pickle.dump(alvo, arq1)"
      ],
      "metadata": {
        "id": "44kHkHvakPri"
      },
      "execution_count": 474,
      "outputs": []
    },
    {
      "cell_type": "code",
      "source": [
        "# fechando arquivo\n",
        "arq1.close"
      ],
      "metadata": {
        "colab": {
          "base_uri": "https://localhost:8080/"
        },
        "id": "eDqtXFamklQU",
        "outputId": "84fff39d-04b8-4943-b2a6-866575292120"
      },
      "execution_count": 475,
      "outputs": [
        {
          "output_type": "execute_result",
          "data": {
            "text/plain": [
              "<function BufferedWriter.close>"
            ]
          },
          "metadata": {},
          "execution_count": 475
        }
      ]
    },
    {
      "cell_type": "code",
      "source": [
        "# lendo arquivo\n",
        "arq1 = open('heart.pkl', 'rb') "
      ],
      "metadata": {
        "id": "scqo3MwckvRY"
      },
      "execution_count": 476,
      "outputs": []
    },
    {
      "cell_type": "code",
      "source": [
        "# chamando a variável alvo\n",
        "alvo = pickle.load(arq1)"
      ],
      "metadata": {
        "id": "WDMJfozfk0b5"
      },
      "execution_count": 477,
      "outputs": []
    },
    {
      "cell_type": "code",
      "source": [
        "# espiando a variável\n",
        "alvo"
      ],
      "metadata": {
        "colab": {
          "base_uri": "https://localhost:8080/"
        },
        "id": "Rhu44ML5lcx2",
        "outputId": "b83c4b7e-ea2a-4de9-8a9b-21e329c2838d"
      },
      "execution_count": 478,
      "outputs": [
        {
          "output_type": "execute_result",
          "data": {
            "text/plain": [
              "array([0, 1, 0, 1, 0, 0, 0, 0, 1, 0, 0, 1, 0, 1, 0, 0, 1, 0, 1, 1, 0, 0,\n",
              "       0, 1, 0, 0, 0, 0, 0, 0, 1, 0, 1, 1, 0, 0, 1, 0, 0, 0, 0, 1, 0, 0,\n",
              "       1, 0, 0, 0, 0, 1, 1, 1, 0, 0, 0, 0, 1, 1, 0, 1, 0, 0, 0, 1, 0, 0,\n",
              "       0, 0, 1, 0, 1, 0, 1, 0, 1, 0, 1, 0, 0, 1, 0, 0, 1, 0, 1, 1, 1, 0,\n",
              "       1, 0, 0, 0, 0, 1, 0, 1, 0, 0, 0, 0, 1, 0, 1, 1, 1, 0, 0, 0, 0, 0,\n",
              "       0, 1, 0, 0, 0, 1, 1, 1, 0, 1, 1, 0, 0, 1, 0, 0, 0, 0, 0, 0, 0, 1,\n",
              "       1, 1, 0, 1, 0, 0, 1, 1, 1, 1, 1, 0, 1, 0, 0, 0, 0, 1, 0, 0, 0, 0,\n",
              "       0, 1, 1, 0, 1, 0, 1, 1, 0, 0, 0, 1, 1, 0, 0, 0, 0, 0, 0, 0, 1, 1,\n",
              "       1, 0, 0, 0, 1, 0, 1, 0, 0, 1, 0, 1, 0, 1, 0, 0, 0, 0, 0, 0, 0, 0,\n",
              "       1, 0, 0, 0, 0, 0, 0, 0, 0, 1, 0, 1, 1, 1, 0, 0, 1, 0, 1, 0, 0, 0,\n",
              "       1, 1, 0, 0, 0, 1, 0, 1, 0, 0, 0, 0, 0, 0, 0, 0, 1, 1, 1, 1, 0, 1,\n",
              "       1, 0, 1, 0, 1, 1, 1, 1, 1, 1, 0, 0, 1, 0, 0, 0, 0, 0, 0, 0, 1, 1,\n",
              "       1, 0, 1, 0, 1, 0, 0, 0, 1, 0, 0, 0, 1, 1, 0, 0, 0, 1, 0, 0, 0, 0,\n",
              "       0, 0, 0, 0, 0, 0, 0, 1, 1, 1, 1, 1, 1, 1, 1, 0, 1, 1, 1, 1, 1, 0,\n",
              "       1, 1, 0, 1, 1, 1, 0, 1, 1, 1, 1, 1, 1, 1, 1, 1, 1, 1, 0, 1, 1, 1,\n",
              "       1, 1, 0, 1, 1, 1, 0, 1, 1, 1, 1, 1, 1, 1, 1, 1, 1, 1, 1, 1, 1, 1,\n",
              "       1, 1, 1, 1, 1, 1, 1, 1, 1, 1, 1, 1, 0, 1, 1, 1, 1, 1, 1, 1, 1, 1,\n",
              "       1, 1, 1, 1, 1, 1, 1, 1, 1, 1, 1, 1, 1, 1, 1, 1, 1, 1, 1, 1, 1, 1,\n",
              "       1, 1, 1, 1, 1, 1, 1, 1, 1, 1, 1, 1, 1, 1, 1, 1, 1, 1, 1, 1, 1, 0,\n",
              "       1, 1, 0, 0, 1, 0, 1, 1, 0, 1, 1, 1, 1, 0, 1, 1, 0, 0, 1, 1, 1, 0,\n",
              "       1, 1, 1, 1, 1, 1, 1, 1, 1, 1, 1, 1, 0, 1, 0, 1, 1, 1, 0, 1, 1, 1,\n",
              "       0, 1, 0, 1, 0, 1, 0, 1, 1, 1, 1, 0, 1, 0, 1, 1, 1, 1, 1, 1, 1, 1,\n",
              "       1, 0, 1, 0, 1, 1, 1, 1, 1, 1, 1, 0, 1, 1, 1, 1, 1, 1, 0, 1, 1, 1,\n",
              "       0, 1, 1, 0, 1, 0, 1, 1, 0, 1, 1, 1, 1, 0, 1, 1, 1, 0, 0, 1, 0, 1,\n",
              "       1, 1, 1, 1, 1, 1, 1, 1, 1, 1, 0, 1, 1, 1, 1, 0, 0, 1, 1, 1, 0, 1,\n",
              "       0, 1, 1, 0, 1, 0, 1, 1, 1, 0, 0, 0, 1, 1, 1, 0, 1, 1, 1, 1, 1, 1,\n",
              "       1, 1, 1, 1, 1, 1, 1, 1, 1, 1, 0, 1, 1, 1, 0, 1, 1, 0, 0, 1, 1, 1,\n",
              "       1, 1, 0, 1, 1, 0, 1, 1, 1, 0, 0, 1, 1, 1, 1, 1, 0, 1, 0, 1, 1, 0,\n",
              "       1, 0, 0, 0, 1, 1, 1, 1, 0, 0, 0, 1, 0, 0, 1, 1, 0, 0, 1, 0, 0, 0,\n",
              "       0, 0, 0, 0, 1, 0, 1, 0, 0, 1, 1, 1, 1, 1, 0, 0, 1, 0, 0, 0, 1, 0,\n",
              "       1, 1, 1, 1, 1, 0, 0, 0, 0, 0, 1, 0, 1, 1, 0, 1, 0, 0, 0, 1, 0, 1,\n",
              "       0, 1, 1, 0, 0, 0, 0, 1, 0, 0, 0, 0, 1, 1, 1, 0, 0, 0, 0, 0, 0, 1,\n",
              "       0, 1, 1, 1, 1, 1, 0, 1, 0, 0, 0, 1, 0, 1, 1, 1, 0, 1, 1, 0, 1, 0,\n",
              "       1, 0, 0, 0, 1, 1, 0, 1, 1, 1, 1, 0, 0, 0, 1, 0, 0, 1, 1, 1, 0, 1,\n",
              "       0, 0, 0, 1, 0, 0, 1, 0, 1, 0, 1, 1, 1, 1, 1, 0, 0, 0, 0, 0, 0, 0,\n",
              "       1, 0, 0, 1, 1, 1, 0, 1, 0, 0, 0, 0, 0, 1, 0, 1, 1, 0, 0, 1, 1, 1,\n",
              "       1, 0, 0, 1, 1, 0, 0, 0, 1, 0, 0, 1, 0, 1, 0, 1, 0, 0, 0, 0, 0, 1,\n",
              "       0, 1, 1, 1, 1, 0, 0, 0, 1, 0, 1, 0, 0, 1, 0, 0, 0, 0, 0, 0, 1, 1,\n",
              "       0, 1, 0, 0, 1, 1, 0, 0, 1, 1, 0, 1, 0, 1, 0, 1, 0, 0, 1, 0, 0, 1,\n",
              "       0, 1, 1, 0, 1, 1, 1, 0, 1, 0, 0, 0, 0, 1, 1, 0, 0, 1, 1, 0, 1, 0,\n",
              "       0, 0, 0, 1, 0, 0, 1, 1, 1, 0, 0, 0, 1, 0, 1, 0, 1, 0, 1, 1, 1, 0,\n",
              "       0, 0, 1, 0, 1, 1, 1, 0, 1, 1, 1, 1, 1, 1, 0])"
            ]
          },
          "metadata": {},
          "execution_count": 478
        }
      ]
    },
    {
      "cell_type": "code",
      "source": [
        "# criando vários arquivos e salvando variávies\n",
        "arq2 = open('heart2.pkl', 'wb')\n",
        "pickle.dump(previsores, arq2)\n",
        "arq3 = open('heart3.pkl', 'wb')\n",
        "pickle.dump(previsores_esc, arq3)\n",
        "arq4 = open('heart4.pkl', 'wb')\n",
        "pickle.dump(previsores2, arq4)\n",
        "arq5 = open('heart5.pkl', 'wb')\n",
        "pickle.dump(previsores3, arq5)\n",
        "arq6 = open('heart6.pkl', 'wb')\n",
        "pickle.dump(previsores3_esc, arq6)"
      ],
      "metadata": {
        "id": "lNRMFQKClgj2"
      },
      "execution_count": 479,
      "outputs": []
    },
    {
      "cell_type": "code",
      "source": [
        "arq2 = open('heart2.pkl', 'rb')"
      ],
      "metadata": {
        "id": "2Av4NWKYmXYn"
      },
      "execution_count": 480,
      "outputs": []
    },
    {
      "cell_type": "code",
      "source": [
        "previsores = pickle.load(arq2)"
      ],
      "metadata": {
        "id": "GMTSMsdJmbfW"
      },
      "execution_count": 481,
      "outputs": []
    },
    {
      "cell_type": "code",
      "source": [
        "previsores"
      ],
      "metadata": {
        "colab": {
          "base_uri": "https://localhost:8080/"
        },
        "id": "Q2bImw9Dmh-6",
        "outputId": "0f4dbd05-de40-42dc-af17-7622ae291261"
      },
      "execution_count": 482,
      "outputs": [
        {
          "output_type": "execute_result",
          "data": {
            "text/plain": [
              "array([[40. ,  0. ,  1. , ...,  0. ,  0. ,  0. ],\n",
              "       [49. ,  1. ,  2. , ...,  0. ,  1. ,  1. ],\n",
              "       [37. ,  0. ,  1. , ...,  0. ,  0. ,  0. ],\n",
              "       ...,\n",
              "       [57. ,  0. ,  3. , ...,  1. ,  1.2,  1. ],\n",
              "       [57. ,  1. ,  1. , ...,  0. ,  0. ,  1. ],\n",
              "       [38. ,  0. ,  2. , ...,  0. ,  0. ,  0. ]])"
            ]
          },
          "metadata": {},
          "execution_count": 482
        }
      ]
    },
    {
      "cell_type": "markdown",
      "source": [
        "### BASE DE TREINO E TESTE"
      ],
      "metadata": {
        "id": "Wd2HbUCVpPYF"
      }
    },
    {
      "cell_type": "code",
      "source": [
        "from sklearn.model_selection import train_test_split"
      ],
      "metadata": {
        "id": "7IRc54LzpSj_"
      },
      "execution_count": 483,
      "outputs": []
    },
    {
      "cell_type": "code",
      "source": [
        "x_treino, x_teste, y_treino, y_teste = train_test_split(previsores3_esc, alvo, test_size = 0.3, random_state = 0) \n",
        "#\"test_size = 0.3\": separando 30% para teste; \"random_state = 0\": nomeação de um estado aleatório"
      ],
      "metadata": {
        "id": "KcQHLkFOpedN"
      },
      "execution_count": 583,
      "outputs": []
    },
    {
      "cell_type": "code",
      "source": [
        "x_treino.shape"
      ],
      "metadata": {
        "colab": {
          "base_uri": "https://localhost:8080/"
        },
        "id": "W7L6LwObrcEi",
        "outputId": "9c2119d3-22bd-43a3-bc67-3d79e9f16a15"
      },
      "execution_count": 584,
      "outputs": [
        {
          "output_type": "execute_result",
          "data": {
            "text/plain": [
              "(641, 20)"
            ]
          },
          "metadata": {},
          "execution_count": 584
        }
      ]
    },
    {
      "cell_type": "code",
      "source": [
        "x_teste.shape"
      ],
      "metadata": {
        "colab": {
          "base_uri": "https://localhost:8080/"
        },
        "id": "Fvc9PWT2reay",
        "outputId": "367985da-534c-4db4-dd87-83a0d9d560f0"
      },
      "execution_count": 585,
      "outputs": [
        {
          "output_type": "execute_result",
          "data": {
            "text/plain": [
              "(276, 20)"
            ]
          },
          "metadata": {},
          "execution_count": 585
        }
      ]
    },
    {
      "cell_type": "code",
      "source": [
        "y_treino.shape"
      ],
      "metadata": {
        "colab": {
          "base_uri": "https://localhost:8080/"
        },
        "id": "WKcchLQargGS",
        "outputId": "4cfba617-db34-4030-875d-02144f62237b"
      },
      "execution_count": 586,
      "outputs": [
        {
          "output_type": "execute_result",
          "data": {
            "text/plain": [
              "(641,)"
            ]
          },
          "metadata": {},
          "execution_count": 586
        }
      ]
    },
    {
      "cell_type": "code",
      "source": [
        "y_teste.shape"
      ],
      "metadata": {
        "colab": {
          "base_uri": "https://localhost:8080/"
        },
        "id": "YqX4R1sNrhSE",
        "outputId": "58d638ff-8b79-4f9e-daa9-652315d2dc1b"
      },
      "execution_count": 587,
      "outputs": [
        {
          "output_type": "execute_result",
          "data": {
            "text/plain": [
              "(276,)"
            ]
          },
          "metadata": {},
          "execution_count": 587
        }
      ]
    },
    {
      "cell_type": "markdown",
      "source": [
        "# NAIVE BAYES"
      ],
      "metadata": {
        "id": "7H1Fual1tUcv"
      }
    },
    {
      "cell_type": "markdown",
      "source": [
        "treinamento de algoritmo"
      ],
      "metadata": {
        "id": "QwVzUtl68kUC"
      }
    },
    {
      "cell_type": "code",
      "source": [
        "from sklearn.naive_bayes import GaussianNB"
      ],
      "metadata": {
        "id": "avyyus6rtQ5H"
      },
      "execution_count": 571,
      "outputs": []
    },
    {
      "cell_type": "code",
      "source": [
        "naive = GaussianNB()\n",
        "naive.fit(x_treino, y_treino)"
      ],
      "metadata": {
        "id": "DvGS5ZGWtS32",
        "colab": {
          "base_uri": "https://localhost:8080/"
        },
        "outputId": "a2126c15-5b1b-40ab-9f13-22d805587ccd"
      },
      "execution_count": 588,
      "outputs": [
        {
          "output_type": "execute_result",
          "data": {
            "text/plain": [
              "GaussianNB()"
            ]
          },
          "metadata": {},
          "execution_count": 588
        }
      ]
    },
    {
      "cell_type": "markdown",
      "source": [
        "avaliação do algoritmo"
      ],
      "metadata": {
        "id": "2aKHZzQ1-XOV"
      }
    },
    {
      "cell_type": "code",
      "source": [
        "previsoes_naive = naive.predict(x_teste) \n",
        "previsoes_naive"
      ],
      "metadata": {
        "colab": {
          "base_uri": "https://localhost:8080/"
        },
        "id": "SmPDccWR-ZSz",
        "outputId": "d726d924-0940-4eb6-b40e-87b6beb41fc4"
      },
      "execution_count": 589,
      "outputs": [
        {
          "output_type": "execute_result",
          "data": {
            "text/plain": [
              "array([1, 1, 1, 0, 0, 0, 1, 0, 0, 0, 1, 1, 1, 1, 0, 1, 1, 1, 1, 0, 1, 1,\n",
              "       1, 0, 0, 0, 1, 1, 0, 1, 1, 0, 0, 0, 1, 0, 0, 0, 1, 0, 0, 1, 1, 1,\n",
              "       1, 0, 0, 1, 0, 1, 1, 0, 0, 1, 1, 0, 0, 0, 0, 0, 1, 1, 1, 0, 1, 1,\n",
              "       1, 0, 1, 0, 1, 1, 0, 1, 1, 1, 1, 1, 1, 1, 1, 1, 0, 0, 1, 1, 1, 1,\n",
              "       1, 0, 1, 0, 0, 0, 0, 0, 1, 0, 0, 0, 0, 0, 1, 1, 0, 1, 1, 0, 0, 1,\n",
              "       0, 1, 1, 1, 1, 1, 1, 1, 1, 1, 1, 1, 1, 0, 1, 1, 0, 1, 0, 1, 0, 1,\n",
              "       1, 1, 0, 1, 1, 1, 1, 0, 0, 1, 0, 1, 0, 0, 1, 1, 1, 0, 0, 1, 1, 0,\n",
              "       1, 0, 1, 0, 1, 0, 1, 1, 1, 0, 1, 0, 1, 0, 1, 0, 1, 1, 0, 0, 1, 1,\n",
              "       1, 0, 0, 1, 1, 1, 0, 1, 1, 1, 0, 1, 1, 0, 1, 0, 1, 0, 1, 1, 0, 0,\n",
              "       1, 0, 1, 1, 0, 1, 1, 0, 0, 0, 1, 0, 1, 1, 0, 0, 0, 0, 1, 0, 1, 1,\n",
              "       1, 0, 0, 1, 1, 1, 0, 1, 0, 1, 0, 1, 1, 1, 0, 1, 1, 1, 0, 1, 1, 0,\n",
              "       1, 0, 0, 0, 0, 0, 1, 0, 1, 0, 1, 0, 0, 0, 1, 0, 0, 1, 0, 1, 1, 0,\n",
              "       0, 0, 0, 0, 1, 0, 0, 1, 1, 1, 1, 1])"
            ]
          },
          "metadata": {},
          "execution_count": 589
        }
      ]
    },
    {
      "cell_type": "markdown",
      "source": [
        "1 = a pessoa tem tendência a doença cardíaca; 0 = a pessoa não tem tendência a doença cardíaca"
      ],
      "metadata": {
        "id": "sC2CTlSx-rul"
      }
    },
    {
      "cell_type": "code",
      "source": [
        "y_teste #comparar o y_teste com previsões_naive"
      ],
      "metadata": {
        "colab": {
          "base_uri": "https://localhost:8080/"
        },
        "id": "6228OW7--WI8",
        "outputId": "d1cbe6ab-9a9b-4457-9793-5d1b521cc4e2"
      },
      "execution_count": 590,
      "outputs": [
        {
          "output_type": "execute_result",
          "data": {
            "text/plain": [
              "array([1, 0, 1, 0, 0, 0, 0, 0, 0, 0, 1, 0, 1, 1, 0, 1, 1, 1, 1, 0, 1, 1,\n",
              "       1, 0, 0, 0, 1, 1, 0, 0, 1, 0, 0, 0, 1, 0, 1, 0, 1, 0, 0, 1, 1, 1,\n",
              "       1, 0, 0, 1, 1, 1, 1, 0, 0, 1, 1, 0, 0, 0, 1, 0, 1, 1, 1, 0, 1, 1,\n",
              "       1, 0, 1, 0, 1, 1, 1, 1, 1, 1, 1, 1, 1, 0, 0, 1, 0, 0, 1, 1, 0, 1,\n",
              "       1, 0, 1, 0, 0, 1, 1, 0, 1, 0, 0, 0, 0, 1, 1, 1, 0, 1, 0, 0, 0, 1,\n",
              "       0, 1, 1, 1, 0, 1, 1, 1, 1, 1, 1, 1, 1, 0, 0, 1, 0, 1, 0, 1, 0, 1,\n",
              "       0, 1, 0, 0, 0, 1, 1, 0, 1, 1, 0, 1, 0, 0, 1, 1, 1, 0, 1, 1, 0, 0,\n",
              "       0, 0, 1, 1, 1, 0, 1, 1, 1, 0, 1, 0, 1, 0, 1, 0, 1, 1, 0, 0, 1, 0,\n",
              "       0, 1, 0, 1, 1, 1, 0, 1, 1, 1, 0, 1, 1, 0, 0, 0, 1, 1, 1, 1, 1, 0,\n",
              "       1, 0, 1, 1, 0, 1, 1, 0, 0, 0, 1, 0, 1, 1, 0, 1, 0, 1, 1, 1, 1, 1,\n",
              "       1, 1, 0, 0, 0, 1, 0, 1, 1, 1, 0, 1, 0, 1, 1, 1, 1, 1, 0, 1, 1, 0,\n",
              "       1, 0, 1, 0, 0, 0, 1, 0, 1, 0, 1, 1, 0, 0, 1, 0, 0, 1, 0, 1, 1, 0,\n",
              "       0, 0, 0, 0, 1, 0, 0, 1, 1, 1, 1, 1])"
            ]
          },
          "metadata": {},
          "execution_count": 590
        }
      ]
    },
    {
      "cell_type": "code",
      "source": [
        "from sklearn.metrics import accuracy_score, confusion_matrix, classification_report"
      ],
      "metadata": {
        "id": "Sl9yeZMs-mWF"
      },
      "execution_count": 575,
      "outputs": []
    },
    {
      "cell_type": "code",
      "source": [
        "accuracy_score(y_teste, previsoes_naive)"
      ],
      "metadata": {
        "colab": {
          "base_uri": "https://localhost:8080/"
        },
        "id": "HRBq1CT4_Tdm",
        "outputId": "709f4d36-637f-423b-f328-cb62346a58f8"
      },
      "execution_count": 591,
      "outputs": [
        {
          "output_type": "execute_result",
          "data": {
            "text/plain": [
              "0.8478260869565217"
            ]
          },
          "metadata": {},
          "execution_count": 591
        }
      ]
    },
    {
      "cell_type": "code",
      "source": [
        "print(\"Acurácia: %.2f%%\" % (accuracy_score(y_teste, previsoes_naive) * 100.0))"
      ],
      "metadata": {
        "colab": {
          "base_uri": "https://localhost:8080/"
        },
        "id": "I812CBap_a3N",
        "outputId": "cf6db393-c542-4d91-c5fe-1654a3fe8c4d"
      },
      "execution_count": 592,
      "outputs": [
        {
          "output_type": "stream",
          "name": "stdout",
          "text": [
            "Acurácia: 84.78%\n"
          ]
        }
      ]
    },
    {
      "cell_type": "code",
      "source": [
        "confusion_matrix(y_teste, previsoes_naive)"
      ],
      "metadata": {
        "colab": {
          "base_uri": "https://localhost:8080/"
        },
        "id": "1_kYGHZZAguX",
        "outputId": "dac8dfb9-5b4c-4d43-abac-e0feee2613e3"
      },
      "execution_count": 593,
      "outputs": [
        {
          "output_type": "execute_result",
          "data": {
            "text/plain": [
              "array([[100,  21],\n",
              "       [ 21, 134]])"
            ]
          },
          "metadata": {},
          "execution_count": 593
        }
      ]
    },
    {
      "cell_type": "markdown",
      "source": [
        "diagonal principal = acertos"
      ],
      "metadata": {
        "id": "E-Q_BO4sAyZ3"
      }
    },
    {
      "cell_type": "code",
      "source": [
        "print(classification_report(y_teste, previsoes_naive))"
      ],
      "metadata": {
        "colab": {
          "base_uri": "https://localhost:8080/"
        },
        "id": "1OOhYgLtAu2W",
        "outputId": "f4f8bcb2-6002-420a-e0c6-acf29a8868d4"
      },
      "execution_count": 594,
      "outputs": [
        {
          "output_type": "stream",
          "name": "stdout",
          "text": [
            "              precision    recall  f1-score   support\n",
            "\n",
            "           0       0.83      0.83      0.83       121\n",
            "           1       0.86      0.86      0.86       155\n",
            "\n",
            "    accuracy                           0.85       276\n",
            "   macro avg       0.85      0.85      0.85       276\n",
            "weighted avg       0.85      0.85      0.85       276\n",
            "\n"
          ]
        }
      ]
    },
    {
      "cell_type": "markdown",
      "source": [
        "**analise dados\n",
        " de treino**"
      ],
      "metadata": {
        "id": "NY1rEE3TCbJk"
      }
    },
    {
      "cell_type": "code",
      "source": [
        "previsoes_treino = naive.predict(x_treino)\n",
        "previsoes_treino"
      ],
      "metadata": {
        "colab": {
          "base_uri": "https://localhost:8080/"
        },
        "id": "P3rJbN0NAmru",
        "outputId": "d64dd090-6cf0-4608-9472-618ee5eccc8d"
      },
      "execution_count": 595,
      "outputs": [
        {
          "output_type": "execute_result",
          "data": {
            "text/plain": [
              "array([1, 0, 1, 1, 1, 1, 0, 0, 0, 0, 1, 0, 1, 1, 1, 0, 0, 0, 0, 1, 0, 1,\n",
              "       1, 1, 1, 0, 0, 1, 0, 1, 1, 0, 1, 1, 0, 0, 1, 1, 0, 1, 0, 1, 0, 0,\n",
              "       1, 1, 0, 1, 1, 1, 0, 0, 1, 0, 1, 0, 1, 0, 1, 0, 0, 0, 0, 0, 1, 1,\n",
              "       0, 1, 1, 0, 1, 1, 1, 1, 0, 0, 1, 1, 1, 1, 1, 1, 1, 1, 0, 1, 1, 1,\n",
              "       1, 1, 0, 1, 0, 0, 1, 1, 1, 1, 1, 1, 1, 1, 0, 1, 1, 1, 1, 0, 0, 1,\n",
              "       0, 0, 1, 0, 1, 0, 1, 0, 1, 0, 0, 0, 0, 1, 0, 1, 0, 0, 1, 1, 1, 0,\n",
              "       1, 1, 0, 0, 1, 0, 1, 1, 0, 1, 1, 1, 1, 1, 1, 0, 0, 1, 1, 0, 1, 0,\n",
              "       1, 0, 1, 1, 1, 1, 1, 0, 0, 0, 0, 0, 1, 0, 0, 0, 0, 1, 1, 0, 1, 0,\n",
              "       0, 1, 1, 0, 0, 0, 0, 0, 0, 1, 1, 1, 1, 1, 0, 0, 1, 0, 0, 1, 1, 0,\n",
              "       0, 1, 0, 0, 0, 1, 1, 1, 1, 1, 1, 0, 0, 0, 1, 1, 1, 1, 1, 0, 0, 1,\n",
              "       1, 0, 0, 1, 1, 1, 1, 1, 1, 1, 0, 1, 0, 1, 1, 0, 1, 0, 1, 0, 1, 0,\n",
              "       1, 1, 0, 1, 1, 1, 1, 0, 1, 1, 0, 0, 0, 0, 0, 0, 0, 0, 0, 1, 1, 0,\n",
              "       1, 0, 1, 0, 1, 0, 1, 1, 0, 0, 0, 1, 1, 0, 0, 0, 1, 0, 0, 0, 1, 1,\n",
              "       0, 1, 1, 1, 1, 0, 1, 1, 0, 1, 0, 1, 0, 1, 1, 0, 0, 1, 0, 0, 1, 1,\n",
              "       1, 0, 1, 0, 1, 0, 1, 0, 1, 0, 1, 0, 1, 1, 1, 0, 0, 1, 1, 1, 1, 0,\n",
              "       0, 0, 1, 0, 0, 0, 1, 1, 0, 1, 1, 1, 1, 1, 1, 0, 1, 1, 0, 1, 0, 1,\n",
              "       0, 0, 0, 0, 0, 0, 1, 0, 0, 1, 0, 1, 1, 0, 0, 0, 0, 0, 1, 1, 0, 1,\n",
              "       0, 1, 1, 1, 0, 1, 1, 1, 0, 1, 0, 1, 0, 0, 0, 1, 0, 1, 1, 0, 1, 1,\n",
              "       0, 0, 0, 1, 1, 1, 1, 0, 1, 0, 1, 1, 1, 0, 0, 1, 0, 1, 1, 1, 0, 0,\n",
              "       0, 1, 1, 0, 0, 1, 1, 0, 1, 0, 0, 0, 0, 1, 1, 1, 1, 1, 1, 0, 1, 1,\n",
              "       0, 0, 1, 1, 1, 1, 0, 1, 0, 0, 1, 0, 0, 1, 1, 1, 0, 0, 0, 1, 0, 1,\n",
              "       1, 1, 1, 1, 1, 0, 1, 1, 1, 1, 1, 1, 0, 1, 1, 0, 0, 0, 1, 0, 0, 0,\n",
              "       0, 0, 1, 0, 1, 1, 0, 0, 0, 1, 1, 0, 0, 1, 1, 0, 1, 1, 0, 0, 1, 1,\n",
              "       1, 1, 0, 0, 1, 0, 1, 1, 0, 1, 0, 0, 1, 0, 1, 1, 1, 0, 0, 1, 1, 0,\n",
              "       1, 0, 1, 0, 1, 0, 1, 0, 1, 0, 1, 1, 0, 1, 1, 1, 1, 0, 0, 1, 1, 0,\n",
              "       0, 1, 1, 0, 1, 0, 1, 1, 1, 0, 1, 1, 0, 0, 0, 0, 1, 0, 0, 1, 0, 1,\n",
              "       1, 1, 0, 0, 1, 0, 0, 0, 0, 0, 0, 1, 1, 1, 1, 0, 1, 0, 0, 0, 0, 0,\n",
              "       0, 0, 1, 0, 0, 0, 0, 0, 0, 0, 1, 0, 1, 1, 0, 1, 1, 1, 1, 1, 0, 1,\n",
              "       1, 1, 0, 1, 1, 0, 1, 0, 1, 1, 1, 1, 0, 1, 1, 0, 0, 0, 1, 0, 1, 0,\n",
              "       0, 0, 1])"
            ]
          },
          "metadata": {},
          "execution_count": 595
        }
      ]
    },
    {
      "cell_type": "code",
      "source": [
        "accuracy_score(y_treino, previsoes_treino)"
      ],
      "metadata": {
        "colab": {
          "base_uri": "https://localhost:8080/"
        },
        "id": "ahL4bts6Cttf",
        "outputId": "bbfeade2-53a1-4cdf-c84d-483d43490e17"
      },
      "execution_count": 596,
      "outputs": [
        {
          "output_type": "execute_result",
          "data": {
            "text/plain": [
              "0.8611544461778471"
            ]
          },
          "metadata": {},
          "execution_count": 596
        }
      ]
    },
    {
      "cell_type": "code",
      "source": [
        "confusion_matrix(y_treino, previsoes_treino)"
      ],
      "metadata": {
        "colab": {
          "base_uri": "https://localhost:8080/"
        },
        "id": "AR724riACzMY",
        "outputId": "cd6aa210-cfbf-46b6-f759-26b4698e3d6f"
      },
      "execution_count": 597,
      "outputs": [
        {
          "output_type": "execute_result",
          "data": {
            "text/plain": [
              "array([[248,  41],\n",
              "       [ 48, 304]])"
            ]
          },
          "metadata": {},
          "execution_count": 597
        }
      ]
    },
    {
      "cell_type": "markdown",
      "source": [
        "### Validação cruzada"
      ],
      "metadata": {
        "id": "E0zOt4dSDKwT"
      }
    },
    {
      "cell_type": "markdown",
      "source": [
        "mistura dados de treino e teste"
      ],
      "metadata": {
        "id": "cWSb1ohfErYy"
      }
    },
    {
      "cell_type": "code",
      "source": [
        "from sklearn.model_selection import KFold\n",
        "from sklearn.model_selection import cross_val_score"
      ],
      "metadata": {
        "id": "TU_8sSP9DGl8"
      },
      "execution_count": 598,
      "outputs": []
    },
    {
      "cell_type": "code",
      "source": [
        "#separando os dados em folds\n",
        "kfold = KFold(n_splits = 30, shuffle = True, random_state = 5) #shuffle = embaralhamento"
      ],
      "metadata": {
        "id": "bMryW6NGE8v1"
      },
      "execution_count": 599,
      "outputs": []
    },
    {
      "cell_type": "code",
      "source": [
        "#criando o modelo\n",
        "modelo = GaussianNB()\n",
        "resultado = cross_val_score(modelo, previsores3_esc, alvo, cv = kfold)\n",
        "\n",
        "#usando a média e o desvio padrão\n",
        "print(\"Acurácia: %.2f%%\" % (resultado.mean() * 100.0))"
      ],
      "metadata": {
        "colab": {
          "base_uri": "https://localhost:8080/"
        },
        "id": "Rd-zd664Fqfh",
        "outputId": "d3bda554-b210-4c34-a05f-af6a4dd52464"
      },
      "execution_count": 601,
      "outputs": [
        {
          "output_type": "stream",
          "name": "stdout",
          "text": [
            "Acurácia: 85.17%\n"
          ]
        }
      ]
    },
    {
      "cell_type": "markdown",
      "source": [
        "Em Naive Bayes tivemos 84,72% nos dados de treino e teste - 234 acertos e 85,17% na validação cruzada utilizando o previsores3_esc"
      ],
      "metadata": {
        "id": "AfiAJugQGSF_"
      }
    }
  ]
}