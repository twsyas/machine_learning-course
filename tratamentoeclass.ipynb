{
  "nbformat": 4,
  "nbformat_minor": 0,
  "metadata": {
    "colab": {
      "provenance": [],
      "toc_visible": true,
      "authorship_tag": "ABX9TyO7EI+DTq0sgNyXFRUNhxa7",
      "include_colab_link": true
    },
    "kernelspec": {
      "name": "python3",
      "display_name": "Python 3"
    },
    "language_info": {
      "name": "python"
    }
  },
  "cells": [
    {
      "cell_type": "markdown",
      "metadata": {
        "id": "view-in-github",
        "colab_type": "text"
      },
      "source": [
        "<a href=\"https://colab.research.google.com/github/twsyas/machine_learning-course/blob/main/tratamentoeclass.ipynb\" target=\"_parent\"><img src=\"https://colab.research.google.com/assets/colab-badge.svg\" alt=\"Open In Colab\"/></a>"
      ]
    },
    {
      "cell_type": "markdown",
      "source": [
        "# Exploração análise e tratamento dos dados: projeto previsão de doenças cardíacas"
      ],
      "metadata": {
        "id": "QqaM_17iT6ul"
      }
    },
    {
      "cell_type": "markdown",
      "source": [
        "Objetivo: desenvolver um algoritmo de Machine Learning para prever a tendência de uma pessoa de desenvolver algum tipo de doença cardíaca com base nos fatores clínicos e laboratoriais de referência."
      ],
      "metadata": {
        "id": "kC0sjpWoU9dI"
      }
    },
    {
      "cell_type": "markdown",
      "source": [
        "## Importanto bibliotecas e lendo os dados"
      ],
      "metadata": {
        "id": "DKf33fybUKmm"
      }
    },
    {
      "cell_type": "code",
      "source": [
        "import numpy as np\n",
        "import pandas as pd"
      ],
      "metadata": {
        "id": "HMJDu3nWT6T9"
      },
      "execution_count": 2,
      "outputs": []
    },
    {
      "cell_type": "code",
      "execution_count": 9,
      "metadata": {
        "id": "ydtk4NJ3T2-X"
      },
      "outputs": [],
      "source": [
        "data = pd.read_csv('/content/heart.csv',\n",
        "                   sep = ',',\n",
        "                   encoding = 'iso-8859-1') #codificação de caracteres, normalmente utiliza-se o iso-8859-1, utf-8, latin-1)"
      ]
    },
    {
      "cell_type": "markdown",
      "source": [
        "## Explorando os dados"
      ],
      "metadata": {
        "id": "oOuUv8d8VUJY"
      }
    },
    {
      "cell_type": "code",
      "source": [
        "data.head()"
      ],
      "metadata": {
        "colab": {
          "base_uri": "https://localhost:8080/",
          "height": 206
        },
        "id": "VX17a834VWHZ",
        "outputId": "5cf67615-c447-411d-da0f-19f29905c6b0"
      },
      "execution_count": 6,
      "outputs": [
        {
          "output_type": "execute_result",
          "data": {
            "text/plain": [
              "   Age Sex ChestPainType  RestingBP  Cholesterol  FastingBS RestingECG  MaxHR  \\\n",
              "0   40   M           ATA        140          289          0     Normal    172   \n",
              "1   49   F           NAP        160          180          0     Normal    156   \n",
              "2   37   M           ATA        130          283          0         ST     98   \n",
              "3   48   F           ASY        138          214          0     Normal    108   \n",
              "4   54   M           NAP        150          195          0     Normal    122   \n",
              "\n",
              "  ExerciseAngina  Oldpeak ST_Slope  HeartDisease  \n",
              "0              N      0.0       Up             0  \n",
              "1              N      1.0     Flat             1  \n",
              "2              N      0.0       Up             0  \n",
              "3              Y      1.5     Flat             1  \n",
              "4              N      0.0       Up             0  "
            ],
            "text/html": [
              "\n",
              "  <div id=\"df-c1916203-5ffb-4c08-8f66-ee8f856f1850\">\n",
              "    <div class=\"colab-df-container\">\n",
              "      <div>\n",
              "<style scoped>\n",
              "    .dataframe tbody tr th:only-of-type {\n",
              "        vertical-align: middle;\n",
              "    }\n",
              "\n",
              "    .dataframe tbody tr th {\n",
              "        vertical-align: top;\n",
              "    }\n",
              "\n",
              "    .dataframe thead th {\n",
              "        text-align: right;\n",
              "    }\n",
              "</style>\n",
              "<table border=\"1\" class=\"dataframe\">\n",
              "  <thead>\n",
              "    <tr style=\"text-align: right;\">\n",
              "      <th></th>\n",
              "      <th>Age</th>\n",
              "      <th>Sex</th>\n",
              "      <th>ChestPainType</th>\n",
              "      <th>RestingBP</th>\n",
              "      <th>Cholesterol</th>\n",
              "      <th>FastingBS</th>\n",
              "      <th>RestingECG</th>\n",
              "      <th>MaxHR</th>\n",
              "      <th>ExerciseAngina</th>\n",
              "      <th>Oldpeak</th>\n",
              "      <th>ST_Slope</th>\n",
              "      <th>HeartDisease</th>\n",
              "    </tr>\n",
              "  </thead>\n",
              "  <tbody>\n",
              "    <tr>\n",
              "      <th>0</th>\n",
              "      <td>40</td>\n",
              "      <td>M</td>\n",
              "      <td>ATA</td>\n",
              "      <td>140</td>\n",
              "      <td>289</td>\n",
              "      <td>0</td>\n",
              "      <td>Normal</td>\n",
              "      <td>172</td>\n",
              "      <td>N</td>\n",
              "      <td>0.0</td>\n",
              "      <td>Up</td>\n",
              "      <td>0</td>\n",
              "    </tr>\n",
              "    <tr>\n",
              "      <th>1</th>\n",
              "      <td>49</td>\n",
              "      <td>F</td>\n",
              "      <td>NAP</td>\n",
              "      <td>160</td>\n",
              "      <td>180</td>\n",
              "      <td>0</td>\n",
              "      <td>Normal</td>\n",
              "      <td>156</td>\n",
              "      <td>N</td>\n",
              "      <td>1.0</td>\n",
              "      <td>Flat</td>\n",
              "      <td>1</td>\n",
              "    </tr>\n",
              "    <tr>\n",
              "      <th>2</th>\n",
              "      <td>37</td>\n",
              "      <td>M</td>\n",
              "      <td>ATA</td>\n",
              "      <td>130</td>\n",
              "      <td>283</td>\n",
              "      <td>0</td>\n",
              "      <td>ST</td>\n",
              "      <td>98</td>\n",
              "      <td>N</td>\n",
              "      <td>0.0</td>\n",
              "      <td>Up</td>\n",
              "      <td>0</td>\n",
              "    </tr>\n",
              "    <tr>\n",
              "      <th>3</th>\n",
              "      <td>48</td>\n",
              "      <td>F</td>\n",
              "      <td>ASY</td>\n",
              "      <td>138</td>\n",
              "      <td>214</td>\n",
              "      <td>0</td>\n",
              "      <td>Normal</td>\n",
              "      <td>108</td>\n",
              "      <td>Y</td>\n",
              "      <td>1.5</td>\n",
              "      <td>Flat</td>\n",
              "      <td>1</td>\n",
              "    </tr>\n",
              "    <tr>\n",
              "      <th>4</th>\n",
              "      <td>54</td>\n",
              "      <td>M</td>\n",
              "      <td>NAP</td>\n",
              "      <td>150</td>\n",
              "      <td>195</td>\n",
              "      <td>0</td>\n",
              "      <td>Normal</td>\n",
              "      <td>122</td>\n",
              "      <td>N</td>\n",
              "      <td>0.0</td>\n",
              "      <td>Up</td>\n",
              "      <td>0</td>\n",
              "    </tr>\n",
              "  </tbody>\n",
              "</table>\n",
              "</div>\n",
              "      <button class=\"colab-df-convert\" onclick=\"convertToInteractive('df-c1916203-5ffb-4c08-8f66-ee8f856f1850')\"\n",
              "              title=\"Convert this dataframe to an interactive table.\"\n",
              "              style=\"display:none;\">\n",
              "        \n",
              "  <svg xmlns=\"http://www.w3.org/2000/svg\" height=\"24px\"viewBox=\"0 0 24 24\"\n",
              "       width=\"24px\">\n",
              "    <path d=\"M0 0h24v24H0V0z\" fill=\"none\"/>\n",
              "    <path d=\"M18.56 5.44l.94 2.06.94-2.06 2.06-.94-2.06-.94-.94-2.06-.94 2.06-2.06.94zm-11 1L8.5 8.5l.94-2.06 2.06-.94-2.06-.94L8.5 2.5l-.94 2.06-2.06.94zm10 10l.94 2.06.94-2.06 2.06-.94-2.06-.94-.94-2.06-.94 2.06-2.06.94z\"/><path d=\"M17.41 7.96l-1.37-1.37c-.4-.4-.92-.59-1.43-.59-.52 0-1.04.2-1.43.59L10.3 9.45l-7.72 7.72c-.78.78-.78 2.05 0 2.83L4 21.41c.39.39.9.59 1.41.59.51 0 1.02-.2 1.41-.59l7.78-7.78 2.81-2.81c.8-.78.8-2.07 0-2.86zM5.41 20L4 18.59l7.72-7.72 1.47 1.35L5.41 20z\"/>\n",
              "  </svg>\n",
              "      </button>\n",
              "      \n",
              "  <style>\n",
              "    .colab-df-container {\n",
              "      display:flex;\n",
              "      flex-wrap:wrap;\n",
              "      gap: 12px;\n",
              "    }\n",
              "\n",
              "    .colab-df-convert {\n",
              "      background-color: #E8F0FE;\n",
              "      border: none;\n",
              "      border-radius: 50%;\n",
              "      cursor: pointer;\n",
              "      display: none;\n",
              "      fill: #1967D2;\n",
              "      height: 32px;\n",
              "      padding: 0 0 0 0;\n",
              "      width: 32px;\n",
              "    }\n",
              "\n",
              "    .colab-df-convert:hover {\n",
              "      background-color: #E2EBFA;\n",
              "      box-shadow: 0px 1px 2px rgba(60, 64, 67, 0.3), 0px 1px 3px 1px rgba(60, 64, 67, 0.15);\n",
              "      fill: #174EA6;\n",
              "    }\n",
              "\n",
              "    [theme=dark] .colab-df-convert {\n",
              "      background-color: #3B4455;\n",
              "      fill: #D2E3FC;\n",
              "    }\n",
              "\n",
              "    [theme=dark] .colab-df-convert:hover {\n",
              "      background-color: #434B5C;\n",
              "      box-shadow: 0px 1px 3px 1px rgba(0, 0, 0, 0.15);\n",
              "      filter: drop-shadow(0px 1px 2px rgba(0, 0, 0, 0.3));\n",
              "      fill: #FFFFFF;\n",
              "    }\n",
              "  </style>\n",
              "\n",
              "      <script>\n",
              "        const buttonEl =\n",
              "          document.querySelector('#df-c1916203-5ffb-4c08-8f66-ee8f856f1850 button.colab-df-convert');\n",
              "        buttonEl.style.display =\n",
              "          google.colab.kernel.accessAllowed ? 'block' : 'none';\n",
              "\n",
              "        async function convertToInteractive(key) {\n",
              "          const element = document.querySelector('#df-c1916203-5ffb-4c08-8f66-ee8f856f1850');\n",
              "          const dataTable =\n",
              "            await google.colab.kernel.invokeFunction('convertToInteractive',\n",
              "                                                     [key], {});\n",
              "          if (!dataTable) return;\n",
              "\n",
              "          const docLinkHtml = 'Like what you see? Visit the ' +\n",
              "            '<a target=\"_blank\" href=https://colab.research.google.com/notebooks/data_table.ipynb>data table notebook</a>'\n",
              "            + ' to learn more about interactive tables.';\n",
              "          element.innerHTML = '';\n",
              "          dataTable['output_type'] = 'display_data';\n",
              "          await google.colab.output.renderOutput(dataTable, element);\n",
              "          const docLink = document.createElement('div');\n",
              "          docLink.innerHTML = docLinkHtml;\n",
              "          element.appendChild(docLink);\n",
              "        }\n",
              "      </script>\n",
              "    </div>\n",
              "  </div>\n",
              "  "
            ]
          },
          "metadata": {},
          "execution_count": 6
        }
      ]
    },
    {
      "cell_type": "code",
      "source": [
        "data.tail()"
      ],
      "metadata": {
        "colab": {
          "base_uri": "https://localhost:8080/",
          "height": 206
        },
        "id": "dHYwOcBBXCAg",
        "outputId": "c33fe93c-e6f9-44e1-83b7-a06f19e997dd"
      },
      "execution_count": 7,
      "outputs": [
        {
          "output_type": "execute_result",
          "data": {
            "text/plain": [
              "     Age Sex ChestPainType  RestingBP  Cholesterol  FastingBS RestingECG  \\\n",
              "913   45   M            TA        110          264          0     Normal   \n",
              "914   68   M           ASY        144          193          1     Normal   \n",
              "915   57   M           ASY        130          131          0     Normal   \n",
              "916   57   F           ATA        130          236          0        LVH   \n",
              "917   38   M           NAP        138          175          0     Normal   \n",
              "\n",
              "     MaxHR ExerciseAngina  Oldpeak ST_Slope  HeartDisease  \n",
              "913    132              N      1.2     Flat             1  \n",
              "914    141              N      3.4     Flat             1  \n",
              "915    115              Y      1.2     Flat             1  \n",
              "916    174              N      0.0     Flat             1  \n",
              "917    173              N      0.0       Up             0  "
            ],
            "text/html": [
              "\n",
              "  <div id=\"df-a22c6158-49a6-48cd-9e92-8a6f957297cd\">\n",
              "    <div class=\"colab-df-container\">\n",
              "      <div>\n",
              "<style scoped>\n",
              "    .dataframe tbody tr th:only-of-type {\n",
              "        vertical-align: middle;\n",
              "    }\n",
              "\n",
              "    .dataframe tbody tr th {\n",
              "        vertical-align: top;\n",
              "    }\n",
              "\n",
              "    .dataframe thead th {\n",
              "        text-align: right;\n",
              "    }\n",
              "</style>\n",
              "<table border=\"1\" class=\"dataframe\">\n",
              "  <thead>\n",
              "    <tr style=\"text-align: right;\">\n",
              "      <th></th>\n",
              "      <th>Age</th>\n",
              "      <th>Sex</th>\n",
              "      <th>ChestPainType</th>\n",
              "      <th>RestingBP</th>\n",
              "      <th>Cholesterol</th>\n",
              "      <th>FastingBS</th>\n",
              "      <th>RestingECG</th>\n",
              "      <th>MaxHR</th>\n",
              "      <th>ExerciseAngina</th>\n",
              "      <th>Oldpeak</th>\n",
              "      <th>ST_Slope</th>\n",
              "      <th>HeartDisease</th>\n",
              "    </tr>\n",
              "  </thead>\n",
              "  <tbody>\n",
              "    <tr>\n",
              "      <th>913</th>\n",
              "      <td>45</td>\n",
              "      <td>M</td>\n",
              "      <td>TA</td>\n",
              "      <td>110</td>\n",
              "      <td>264</td>\n",
              "      <td>0</td>\n",
              "      <td>Normal</td>\n",
              "      <td>132</td>\n",
              "      <td>N</td>\n",
              "      <td>1.2</td>\n",
              "      <td>Flat</td>\n",
              "      <td>1</td>\n",
              "    </tr>\n",
              "    <tr>\n",
              "      <th>914</th>\n",
              "      <td>68</td>\n",
              "      <td>M</td>\n",
              "      <td>ASY</td>\n",
              "      <td>144</td>\n",
              "      <td>193</td>\n",
              "      <td>1</td>\n",
              "      <td>Normal</td>\n",
              "      <td>141</td>\n",
              "      <td>N</td>\n",
              "      <td>3.4</td>\n",
              "      <td>Flat</td>\n",
              "      <td>1</td>\n",
              "    </tr>\n",
              "    <tr>\n",
              "      <th>915</th>\n",
              "      <td>57</td>\n",
              "      <td>M</td>\n",
              "      <td>ASY</td>\n",
              "      <td>130</td>\n",
              "      <td>131</td>\n",
              "      <td>0</td>\n",
              "      <td>Normal</td>\n",
              "      <td>115</td>\n",
              "      <td>Y</td>\n",
              "      <td>1.2</td>\n",
              "      <td>Flat</td>\n",
              "      <td>1</td>\n",
              "    </tr>\n",
              "    <tr>\n",
              "      <th>916</th>\n",
              "      <td>57</td>\n",
              "      <td>F</td>\n",
              "      <td>ATA</td>\n",
              "      <td>130</td>\n",
              "      <td>236</td>\n",
              "      <td>0</td>\n",
              "      <td>LVH</td>\n",
              "      <td>174</td>\n",
              "      <td>N</td>\n",
              "      <td>0.0</td>\n",
              "      <td>Flat</td>\n",
              "      <td>1</td>\n",
              "    </tr>\n",
              "    <tr>\n",
              "      <th>917</th>\n",
              "      <td>38</td>\n",
              "      <td>M</td>\n",
              "      <td>NAP</td>\n",
              "      <td>138</td>\n",
              "      <td>175</td>\n",
              "      <td>0</td>\n",
              "      <td>Normal</td>\n",
              "      <td>173</td>\n",
              "      <td>N</td>\n",
              "      <td>0.0</td>\n",
              "      <td>Up</td>\n",
              "      <td>0</td>\n",
              "    </tr>\n",
              "  </tbody>\n",
              "</table>\n",
              "</div>\n",
              "      <button class=\"colab-df-convert\" onclick=\"convertToInteractive('df-a22c6158-49a6-48cd-9e92-8a6f957297cd')\"\n",
              "              title=\"Convert this dataframe to an interactive table.\"\n",
              "              style=\"display:none;\">\n",
              "        \n",
              "  <svg xmlns=\"http://www.w3.org/2000/svg\" height=\"24px\"viewBox=\"0 0 24 24\"\n",
              "       width=\"24px\">\n",
              "    <path d=\"M0 0h24v24H0V0z\" fill=\"none\"/>\n",
              "    <path d=\"M18.56 5.44l.94 2.06.94-2.06 2.06-.94-2.06-.94-.94-2.06-.94 2.06-2.06.94zm-11 1L8.5 8.5l.94-2.06 2.06-.94-2.06-.94L8.5 2.5l-.94 2.06-2.06.94zm10 10l.94 2.06.94-2.06 2.06-.94-2.06-.94-.94-2.06-.94 2.06-2.06.94z\"/><path d=\"M17.41 7.96l-1.37-1.37c-.4-.4-.92-.59-1.43-.59-.52 0-1.04.2-1.43.59L10.3 9.45l-7.72 7.72c-.78.78-.78 2.05 0 2.83L4 21.41c.39.39.9.59 1.41.59.51 0 1.02-.2 1.41-.59l7.78-7.78 2.81-2.81c.8-.78.8-2.07 0-2.86zM5.41 20L4 18.59l7.72-7.72 1.47 1.35L5.41 20z\"/>\n",
              "  </svg>\n",
              "      </button>\n",
              "      \n",
              "  <style>\n",
              "    .colab-df-container {\n",
              "      display:flex;\n",
              "      flex-wrap:wrap;\n",
              "      gap: 12px;\n",
              "    }\n",
              "\n",
              "    .colab-df-convert {\n",
              "      background-color: #E8F0FE;\n",
              "      border: none;\n",
              "      border-radius: 50%;\n",
              "      cursor: pointer;\n",
              "      display: none;\n",
              "      fill: #1967D2;\n",
              "      height: 32px;\n",
              "      padding: 0 0 0 0;\n",
              "      width: 32px;\n",
              "    }\n",
              "\n",
              "    .colab-df-convert:hover {\n",
              "      background-color: #E2EBFA;\n",
              "      box-shadow: 0px 1px 2px rgba(60, 64, 67, 0.3), 0px 1px 3px 1px rgba(60, 64, 67, 0.15);\n",
              "      fill: #174EA6;\n",
              "    }\n",
              "\n",
              "    [theme=dark] .colab-df-convert {\n",
              "      background-color: #3B4455;\n",
              "      fill: #D2E3FC;\n",
              "    }\n",
              "\n",
              "    [theme=dark] .colab-df-convert:hover {\n",
              "      background-color: #434B5C;\n",
              "      box-shadow: 0px 1px 3px 1px rgba(0, 0, 0, 0.15);\n",
              "      filter: drop-shadow(0px 1px 2px rgba(0, 0, 0, 0.3));\n",
              "      fill: #FFFFFF;\n",
              "    }\n",
              "  </style>\n",
              "\n",
              "      <script>\n",
              "        const buttonEl =\n",
              "          document.querySelector('#df-a22c6158-49a6-48cd-9e92-8a6f957297cd button.colab-df-convert');\n",
              "        buttonEl.style.display =\n",
              "          google.colab.kernel.accessAllowed ? 'block' : 'none';\n",
              "\n",
              "        async function convertToInteractive(key) {\n",
              "          const element = document.querySelector('#df-a22c6158-49a6-48cd-9e92-8a6f957297cd');\n",
              "          const dataTable =\n",
              "            await google.colab.kernel.invokeFunction('convertToInteractive',\n",
              "                                                     [key], {});\n",
              "          if (!dataTable) return;\n",
              "\n",
              "          const docLinkHtml = 'Like what you see? Visit the ' +\n",
              "            '<a target=\"_blank\" href=https://colab.research.google.com/notebooks/data_table.ipynb>data table notebook</a>'\n",
              "            + ' to learn more about interactive tables.';\n",
              "          element.innerHTML = '';\n",
              "          dataTable['output_type'] = 'display_data';\n",
              "          await google.colab.output.renderOutput(dataTable, element);\n",
              "          const docLink = document.createElement('div');\n",
              "          docLink.innerHTML = docLinkHtml;\n",
              "          element.appendChild(docLink);\n",
              "        }\n",
              "      </script>\n",
              "    </div>\n",
              "  </div>\n",
              "  "
            ]
          },
          "metadata": {},
          "execution_count": 7
        }
      ]
    },
    {
      "cell_type": "code",
      "source": [
        "data.shape"
      ],
      "metadata": {
        "colab": {
          "base_uri": "https://localhost:8080/"
        },
        "id": "VkIJmi-DXKrX",
        "outputId": "5fe7c518-3ce5-4d0f-ed24-89dc95cf3bda"
      },
      "execution_count": 11,
      "outputs": [
        {
          "output_type": "execute_result",
          "data": {
            "text/plain": [
              "(918, 12)"
            ]
          },
          "metadata": {},
          "execution_count": 11
        }
      ]
    },
    {
      "cell_type": "markdown",
      "source": [
        "## Análise das variáveis"
      ],
      "metadata": {
        "id": "P11hzCp9Xg3v"
      }
    },
    {
      "cell_type": "markdown",
      "source": [
        "### por idade"
      ],
      "metadata": {
        "id": "SpFg9KBCdTse"
      }
    },
    {
      "cell_type": "code",
      "source": [
        "data['Age'].value_counts()"
      ],
      "metadata": {
        "colab": {
          "base_uri": "https://localhost:8080/"
        },
        "id": "mom42Vg-XgjW",
        "outputId": "1c0cfc60-5f15-4418-d743-57111d682688"
      },
      "execution_count": 12,
      "outputs": [
        {
          "output_type": "execute_result",
          "data": {
            "text/plain": [
              "54    51\n",
              "58    42\n",
              "55    41\n",
              "56    38\n",
              "57    38\n",
              "52    36\n",
              "51    35\n",
              "59    35\n",
              "62    35\n",
              "53    33\n",
              "60    32\n",
              "48    31\n",
              "61    31\n",
              "63    30\n",
              "50    25\n",
              "46    24\n",
              "41    24\n",
              "43    24\n",
              "64    22\n",
              "65    21\n",
              "49    21\n",
              "47    19\n",
              "44    19\n",
              "42    18\n",
              "45    18\n",
              "38    16\n",
              "67    15\n",
              "39    15\n",
              "66    13\n",
              "69    13\n",
              "40    13\n",
              "35    11\n",
              "37    11\n",
              "68    10\n",
              "34     7\n",
              "74     7\n",
              "70     7\n",
              "36     6\n",
              "71     5\n",
              "32     5\n",
              "72     4\n",
              "29     3\n",
              "75     3\n",
              "33     2\n",
              "77     2\n",
              "76     2\n",
              "31     2\n",
              "30     1\n",
              "28     1\n",
              "73     1\n",
              "Name: Age, dtype: int64"
            ]
          },
          "metadata": {},
          "execution_count": 12
        }
      ]
    },
    {
      "cell_type": "code",
      "source": [
        "data['Age'].value_counts().sort_index() #colocar em ordem crescente"
      ],
      "metadata": {
        "colab": {
          "base_uri": "https://localhost:8080/"
        },
        "id": "Smjt6hlxbSb6",
        "outputId": "0f6bd24c-a4d2-4c48-e010-d68f4d6ed53e"
      },
      "execution_count": 14,
      "outputs": [
        {
          "output_type": "execute_result",
          "data": {
            "text/plain": [
              "28     1\n",
              "29     3\n",
              "30     1\n",
              "31     2\n",
              "32     5\n",
              "33     2\n",
              "34     7\n",
              "35    11\n",
              "36     6\n",
              "37    11\n",
              "38    16\n",
              "39    15\n",
              "40    13\n",
              "41    24\n",
              "42    18\n",
              "43    24\n",
              "44    19\n",
              "45    18\n",
              "46    24\n",
              "47    19\n",
              "48    31\n",
              "49    21\n",
              "50    25\n",
              "51    35\n",
              "52    36\n",
              "53    33\n",
              "54    51\n",
              "55    41\n",
              "56    38\n",
              "57    38\n",
              "58    42\n",
              "59    35\n",
              "60    32\n",
              "61    31\n",
              "62    35\n",
              "63    30\n",
              "64    22\n",
              "65    21\n",
              "66    13\n",
              "67    15\n",
              "68    10\n",
              "69    13\n",
              "70     7\n",
              "71     5\n",
              "72     4\n",
              "73     1\n",
              "74     7\n",
              "75     3\n",
              "76     2\n",
              "77     2\n",
              "Name: Age, dtype: int64"
            ]
          },
          "metadata": {},
          "execution_count": 14
        }
      ]
    },
    {
      "cell_type": "code",
      "source": [
        "import plotly.express as px"
      ],
      "metadata": {
        "id": "_UPh37HZbbXa"
      },
      "execution_count": 15,
      "outputs": []
    },
    {
      "cell_type": "code",
      "source": [
        "hist1 = px.histogram(data, x = 'Age', nbins = 60) #nbins = largura das colunas\n",
        "hist1.update_layout(width = 800, height = 500, title_text = 'Distribuição das idades')\n",
        "hist1.show()"
      ],
      "metadata": {
        "colab": {
          "base_uri": "https://localhost:8080/",
          "height": 517
        },
        "id": "DWvRqFkoblJ4",
        "outputId": "d221b42f-8c88-4b10-b169-1f825a999af7"
      },
      "execution_count": 17,
      "outputs": [
        {
          "output_type": "display_data",
          "data": {
            "text/html": [
              "<html>\n",
              "<head><meta charset=\"utf-8\" /></head>\n",
              "<body>\n",
              "    <div>            <script src=\"https://cdnjs.cloudflare.com/ajax/libs/mathjax/2.7.5/MathJax.js?config=TeX-AMS-MML_SVG\"></script><script type=\"text/javascript\">if (window.MathJax) {MathJax.Hub.Config({SVG: {font: \"STIX-Web\"}});}</script>                <script type=\"text/javascript\">window.PlotlyConfig = {MathJaxConfig: 'local'};</script>\n",
              "        <script src=\"https://cdn.plot.ly/plotly-2.8.3.min.js\"></script>                <div id=\"3cadbf39-5177-4019-a79b-a8e971fdd299\" class=\"plotly-graph-div\" style=\"height:500px; width:800px;\"></div>            <script type=\"text/javascript\">                                    window.PLOTLYENV=window.PLOTLYENV || {};                                    if (document.getElementById(\"3cadbf39-5177-4019-a79b-a8e971fdd299\")) {                    Plotly.newPlot(                        \"3cadbf39-5177-4019-a79b-a8e971fdd299\",                        [{\"alignmentgroup\":\"True\",\"bingroup\":\"x\",\"hovertemplate\":\"Age=%{x}<br>count=%{y}<extra></extra>\",\"legendgroup\":\"\",\"marker\":{\"color\":\"#636efa\",\"pattern\":{\"shape\":\"\"}},\"name\":\"\",\"nbinsx\":60,\"offsetgroup\":\"\",\"orientation\":\"v\",\"showlegend\":false,\"x\":[40,49,37,48,54,39,45,54,37,48,37,58,39,49,42,54,38,43,60,36,43,44,49,44,40,36,53,52,53,51,53,56,54,41,43,32,65,41,48,48,54,54,35,52,43,59,37,50,36,41,50,47,45,41,52,51,31,58,54,52,49,43,45,46,50,37,45,32,52,44,57,44,52,44,55,46,32,35,52,49,55,54,63,52,56,66,65,53,43,55,49,39,52,48,39,58,43,39,56,41,65,51,40,40,46,57,48,34,50,39,59,57,47,38,49,33,38,59,35,34,47,52,46,58,58,54,34,48,54,42,38,46,56,56,61,49,43,39,54,43,52,50,47,53,56,39,42,43,50,54,39,48,40,55,41,56,38,49,44,54,59,49,47,42,52,46,50,48,58,58,29,40,53,49,52,43,54,59,37,46,52,51,52,46,54,58,58,41,50,53,46,50,48,45,41,62,49,42,53,57,47,46,42,31,56,50,35,35,28,54,48,50,56,56,47,30,39,54,55,29,46,51,48,33,55,50,53,38,41,37,37,40,38,41,54,39,41,55,48,48,55,54,55,43,48,54,54,48,45,49,44,48,61,62,55,53,55,36,51,55,46,54,46,59,47,54,52,34,54,47,45,32,55,55,45,59,51,52,57,54,60,49,51,55,42,51,59,53,48,36,48,47,53,65,32,61,50,57,51,47,60,55,53,62,51,51,55,53,58,57,65,60,41,34,53,74,57,56,61,68,59,63,38,62,46,42,45,59,52,60,60,56,38,40,51,62,72,63,63,64,43,64,61,52,51,69,59,48,69,36,53,43,56,58,55,67,46,53,38,53,62,47,56,56,56,64,61,68,57,63,60,66,63,59,61,73,47,65,70,50,60,50,43,38,54,61,42,53,55,61,51,70,61,38,57,38,62,58,52,61,50,51,65,52,47,35,57,62,59,53,62,54,56,56,54,66,63,44,60,55,66,66,65,60,60,60,56,59,62,63,57,62,63,46,63,60,58,64,63,74,52,69,51,60,56,55,54,77,63,55,52,64,60,60,58,59,61,40,61,41,57,63,59,51,59,42,55,63,62,56,53,68,53,60,62,59,51,61,57,56,58,69,67,58,65,63,55,57,65,54,72,75,49,51,60,64,58,61,67,62,65,63,69,51,62,55,75,40,67,58,60,63,35,62,43,63,68,65,48,63,64,61,50,59,55,45,65,61,49,72,50,64,55,63,59,56,62,74,54,57,62,76,54,70,61,48,48,61,66,68,55,62,71,74,53,58,75,56,58,64,54,54,59,55,57,61,41,71,38,55,56,69,64,72,69,56,62,67,57,69,51,48,69,69,64,57,53,37,67,74,63,58,61,64,58,60,57,55,55,56,57,61,61,74,68,51,62,53,62,46,54,62,55,58,62,70,67,57,64,74,65,56,59,60,63,59,53,44,61,57,71,46,53,64,40,67,48,43,47,54,48,46,51,58,71,57,66,37,59,50,48,61,59,42,48,40,62,44,46,59,58,49,44,66,65,42,52,65,63,45,41,61,60,59,62,57,51,44,60,63,57,51,58,44,47,61,57,70,76,67,45,45,39,42,56,58,35,58,41,57,42,62,59,41,50,59,61,54,54,52,47,66,58,64,50,44,67,49,57,63,48,51,60,59,45,55,41,60,54,42,49,46,56,66,56,49,54,57,65,54,54,62,52,52,60,63,66,42,64,54,46,67,56,34,57,64,59,50,51,54,53,52,40,58,41,41,50,54,64,51,46,55,45,56,66,38,62,55,58,43,64,50,53,45,65,69,69,67,68,34,62,51,46,67,50,42,56,41,42,53,43,56,52,62,70,54,70,54,35,48,55,58,54,69,77,68,58,60,51,55,52,60,58,64,37,59,51,43,58,29,41,63,51,54,44,54,65,57,63,35,41,62,43,58,52,61,39,45,52,62,62,53,43,47,52,68,39,53,62,51,60,65,65,60,60,54,44,44,51,59,71,61,55,64,43,58,60,58,49,48,52,44,56,57,67,53,52,43,52,59,64,66,39,57,58,57,47,55,35,61,58,58,58,56,56,67,55,44,63,63,41,59,57,45,68,57,57,38],\"xaxis\":\"x\",\"yaxis\":\"y\",\"type\":\"histogram\"}],                        {\"template\":{\"data\":{\"bar\":[{\"error_x\":{\"color\":\"#2a3f5f\"},\"error_y\":{\"color\":\"#2a3f5f\"},\"marker\":{\"line\":{\"color\":\"#E5ECF6\",\"width\":0.5},\"pattern\":{\"fillmode\":\"overlay\",\"size\":10,\"solidity\":0.2}},\"type\":\"bar\"}],\"barpolar\":[{\"marker\":{\"line\":{\"color\":\"#E5ECF6\",\"width\":0.5},\"pattern\":{\"fillmode\":\"overlay\",\"size\":10,\"solidity\":0.2}},\"type\":\"barpolar\"}],\"carpet\":[{\"aaxis\":{\"endlinecolor\":\"#2a3f5f\",\"gridcolor\":\"white\",\"linecolor\":\"white\",\"minorgridcolor\":\"white\",\"startlinecolor\":\"#2a3f5f\"},\"baxis\":{\"endlinecolor\":\"#2a3f5f\",\"gridcolor\":\"white\",\"linecolor\":\"white\",\"minorgridcolor\":\"white\",\"startlinecolor\":\"#2a3f5f\"},\"type\":\"carpet\"}],\"choropleth\":[{\"colorbar\":{\"outlinewidth\":0,\"ticks\":\"\"},\"type\":\"choropleth\"}],\"contour\":[{\"colorbar\":{\"outlinewidth\":0,\"ticks\":\"\"},\"colorscale\":[[0.0,\"#0d0887\"],[0.1111111111111111,\"#46039f\"],[0.2222222222222222,\"#7201a8\"],[0.3333333333333333,\"#9c179e\"],[0.4444444444444444,\"#bd3786\"],[0.5555555555555556,\"#d8576b\"],[0.6666666666666666,\"#ed7953\"],[0.7777777777777778,\"#fb9f3a\"],[0.8888888888888888,\"#fdca26\"],[1.0,\"#f0f921\"]],\"type\":\"contour\"}],\"contourcarpet\":[{\"colorbar\":{\"outlinewidth\":0,\"ticks\":\"\"},\"type\":\"contourcarpet\"}],\"heatmap\":[{\"colorbar\":{\"outlinewidth\":0,\"ticks\":\"\"},\"colorscale\":[[0.0,\"#0d0887\"],[0.1111111111111111,\"#46039f\"],[0.2222222222222222,\"#7201a8\"],[0.3333333333333333,\"#9c179e\"],[0.4444444444444444,\"#bd3786\"],[0.5555555555555556,\"#d8576b\"],[0.6666666666666666,\"#ed7953\"],[0.7777777777777778,\"#fb9f3a\"],[0.8888888888888888,\"#fdca26\"],[1.0,\"#f0f921\"]],\"type\":\"heatmap\"}],\"heatmapgl\":[{\"colorbar\":{\"outlinewidth\":0,\"ticks\":\"\"},\"colorscale\":[[0.0,\"#0d0887\"],[0.1111111111111111,\"#46039f\"],[0.2222222222222222,\"#7201a8\"],[0.3333333333333333,\"#9c179e\"],[0.4444444444444444,\"#bd3786\"],[0.5555555555555556,\"#d8576b\"],[0.6666666666666666,\"#ed7953\"],[0.7777777777777778,\"#fb9f3a\"],[0.8888888888888888,\"#fdca26\"],[1.0,\"#f0f921\"]],\"type\":\"heatmapgl\"}],\"histogram\":[{\"marker\":{\"pattern\":{\"fillmode\":\"overlay\",\"size\":10,\"solidity\":0.2}},\"type\":\"histogram\"}],\"histogram2d\":[{\"colorbar\":{\"outlinewidth\":0,\"ticks\":\"\"},\"colorscale\":[[0.0,\"#0d0887\"],[0.1111111111111111,\"#46039f\"],[0.2222222222222222,\"#7201a8\"],[0.3333333333333333,\"#9c179e\"],[0.4444444444444444,\"#bd3786\"],[0.5555555555555556,\"#d8576b\"],[0.6666666666666666,\"#ed7953\"],[0.7777777777777778,\"#fb9f3a\"],[0.8888888888888888,\"#fdca26\"],[1.0,\"#f0f921\"]],\"type\":\"histogram2d\"}],\"histogram2dcontour\":[{\"colorbar\":{\"outlinewidth\":0,\"ticks\":\"\"},\"colorscale\":[[0.0,\"#0d0887\"],[0.1111111111111111,\"#46039f\"],[0.2222222222222222,\"#7201a8\"],[0.3333333333333333,\"#9c179e\"],[0.4444444444444444,\"#bd3786\"],[0.5555555555555556,\"#d8576b\"],[0.6666666666666666,\"#ed7953\"],[0.7777777777777778,\"#fb9f3a\"],[0.8888888888888888,\"#fdca26\"],[1.0,\"#f0f921\"]],\"type\":\"histogram2dcontour\"}],\"mesh3d\":[{\"colorbar\":{\"outlinewidth\":0,\"ticks\":\"\"},\"type\":\"mesh3d\"}],\"parcoords\":[{\"line\":{\"colorbar\":{\"outlinewidth\":0,\"ticks\":\"\"}},\"type\":\"parcoords\"}],\"pie\":[{\"automargin\":true,\"type\":\"pie\"}],\"scatter\":[{\"marker\":{\"colorbar\":{\"outlinewidth\":0,\"ticks\":\"\"}},\"type\":\"scatter\"}],\"scatter3d\":[{\"line\":{\"colorbar\":{\"outlinewidth\":0,\"ticks\":\"\"}},\"marker\":{\"colorbar\":{\"outlinewidth\":0,\"ticks\":\"\"}},\"type\":\"scatter3d\"}],\"scattercarpet\":[{\"marker\":{\"colorbar\":{\"outlinewidth\":0,\"ticks\":\"\"}},\"type\":\"scattercarpet\"}],\"scattergeo\":[{\"marker\":{\"colorbar\":{\"outlinewidth\":0,\"ticks\":\"\"}},\"type\":\"scattergeo\"}],\"scattergl\":[{\"marker\":{\"colorbar\":{\"outlinewidth\":0,\"ticks\":\"\"}},\"type\":\"scattergl\"}],\"scattermapbox\":[{\"marker\":{\"colorbar\":{\"outlinewidth\":0,\"ticks\":\"\"}},\"type\":\"scattermapbox\"}],\"scatterpolar\":[{\"marker\":{\"colorbar\":{\"outlinewidth\":0,\"ticks\":\"\"}},\"type\":\"scatterpolar\"}],\"scatterpolargl\":[{\"marker\":{\"colorbar\":{\"outlinewidth\":0,\"ticks\":\"\"}},\"type\":\"scatterpolargl\"}],\"scatterternary\":[{\"marker\":{\"colorbar\":{\"outlinewidth\":0,\"ticks\":\"\"}},\"type\":\"scatterternary\"}],\"surface\":[{\"colorbar\":{\"outlinewidth\":0,\"ticks\":\"\"},\"colorscale\":[[0.0,\"#0d0887\"],[0.1111111111111111,\"#46039f\"],[0.2222222222222222,\"#7201a8\"],[0.3333333333333333,\"#9c179e\"],[0.4444444444444444,\"#bd3786\"],[0.5555555555555556,\"#d8576b\"],[0.6666666666666666,\"#ed7953\"],[0.7777777777777778,\"#fb9f3a\"],[0.8888888888888888,\"#fdca26\"],[1.0,\"#f0f921\"]],\"type\":\"surface\"}],\"table\":[{\"cells\":{\"fill\":{\"color\":\"#EBF0F8\"},\"line\":{\"color\":\"white\"}},\"header\":{\"fill\":{\"color\":\"#C8D4E3\"},\"line\":{\"color\":\"white\"}},\"type\":\"table\"}]},\"layout\":{\"annotationdefaults\":{\"arrowcolor\":\"#2a3f5f\",\"arrowhead\":0,\"arrowwidth\":1},\"autotypenumbers\":\"strict\",\"coloraxis\":{\"colorbar\":{\"outlinewidth\":0,\"ticks\":\"\"}},\"colorscale\":{\"diverging\":[[0,\"#8e0152\"],[0.1,\"#c51b7d\"],[0.2,\"#de77ae\"],[0.3,\"#f1b6da\"],[0.4,\"#fde0ef\"],[0.5,\"#f7f7f7\"],[0.6,\"#e6f5d0\"],[0.7,\"#b8e186\"],[0.8,\"#7fbc41\"],[0.9,\"#4d9221\"],[1,\"#276419\"]],\"sequential\":[[0.0,\"#0d0887\"],[0.1111111111111111,\"#46039f\"],[0.2222222222222222,\"#7201a8\"],[0.3333333333333333,\"#9c179e\"],[0.4444444444444444,\"#bd3786\"],[0.5555555555555556,\"#d8576b\"],[0.6666666666666666,\"#ed7953\"],[0.7777777777777778,\"#fb9f3a\"],[0.8888888888888888,\"#fdca26\"],[1.0,\"#f0f921\"]],\"sequentialminus\":[[0.0,\"#0d0887\"],[0.1111111111111111,\"#46039f\"],[0.2222222222222222,\"#7201a8\"],[0.3333333333333333,\"#9c179e\"],[0.4444444444444444,\"#bd3786\"],[0.5555555555555556,\"#d8576b\"],[0.6666666666666666,\"#ed7953\"],[0.7777777777777778,\"#fb9f3a\"],[0.8888888888888888,\"#fdca26\"],[1.0,\"#f0f921\"]]},\"colorway\":[\"#636efa\",\"#EF553B\",\"#00cc96\",\"#ab63fa\",\"#FFA15A\",\"#19d3f3\",\"#FF6692\",\"#B6E880\",\"#FF97FF\",\"#FECB52\"],\"font\":{\"color\":\"#2a3f5f\"},\"geo\":{\"bgcolor\":\"white\",\"lakecolor\":\"white\",\"landcolor\":\"#E5ECF6\",\"showlakes\":true,\"showland\":true,\"subunitcolor\":\"white\"},\"hoverlabel\":{\"align\":\"left\"},\"hovermode\":\"closest\",\"mapbox\":{\"style\":\"light\"},\"paper_bgcolor\":\"white\",\"plot_bgcolor\":\"#E5ECF6\",\"polar\":{\"angularaxis\":{\"gridcolor\":\"white\",\"linecolor\":\"white\",\"ticks\":\"\"},\"bgcolor\":\"#E5ECF6\",\"radialaxis\":{\"gridcolor\":\"white\",\"linecolor\":\"white\",\"ticks\":\"\"}},\"scene\":{\"xaxis\":{\"backgroundcolor\":\"#E5ECF6\",\"gridcolor\":\"white\",\"gridwidth\":2,\"linecolor\":\"white\",\"showbackground\":true,\"ticks\":\"\",\"zerolinecolor\":\"white\"},\"yaxis\":{\"backgroundcolor\":\"#E5ECF6\",\"gridcolor\":\"white\",\"gridwidth\":2,\"linecolor\":\"white\",\"showbackground\":true,\"ticks\":\"\",\"zerolinecolor\":\"white\"},\"zaxis\":{\"backgroundcolor\":\"#E5ECF6\",\"gridcolor\":\"white\",\"gridwidth\":2,\"linecolor\":\"white\",\"showbackground\":true,\"ticks\":\"\",\"zerolinecolor\":\"white\"}},\"shapedefaults\":{\"line\":{\"color\":\"#2a3f5f\"}},\"ternary\":{\"aaxis\":{\"gridcolor\":\"white\",\"linecolor\":\"white\",\"ticks\":\"\"},\"baxis\":{\"gridcolor\":\"white\",\"linecolor\":\"white\",\"ticks\":\"\"},\"bgcolor\":\"#E5ECF6\",\"caxis\":{\"gridcolor\":\"white\",\"linecolor\":\"white\",\"ticks\":\"\"}},\"title\":{\"x\":0.05},\"xaxis\":{\"automargin\":true,\"gridcolor\":\"white\",\"linecolor\":\"white\",\"ticks\":\"\",\"title\":{\"standoff\":15},\"zerolinecolor\":\"white\",\"zerolinewidth\":2},\"yaxis\":{\"automargin\":true,\"gridcolor\":\"white\",\"linecolor\":\"white\",\"ticks\":\"\",\"title\":{\"standoff\":15},\"zerolinecolor\":\"white\",\"zerolinewidth\":2}}},\"xaxis\":{\"anchor\":\"y\",\"domain\":[0.0,1.0],\"title\":{\"text\":\"Age\"}},\"yaxis\":{\"anchor\":\"x\",\"domain\":[0.0,1.0],\"title\":{\"text\":\"count\"}},\"legend\":{\"tracegroupgap\":0},\"margin\":{\"t\":60},\"barmode\":\"relative\",\"title\":{\"text\":\"Distribui\\u00e7\\u00e3o das idades\"},\"width\":800,\"height\":500},                        {\"responsive\": true}                    ).then(function(){\n",
              "                            \n",
              "var gd = document.getElementById('3cadbf39-5177-4019-a79b-a8e971fdd299');\n",
              "var x = new MutationObserver(function (mutations, observer) {{\n",
              "        var display = window.getComputedStyle(gd).display;\n",
              "        if (!display || display === 'none') {{\n",
              "            console.log([gd, 'removed!']);\n",
              "            Plotly.purge(gd);\n",
              "            observer.disconnect();\n",
              "        }}\n",
              "}});\n",
              "\n",
              "// Listen for the removal of the full notebook cells\n",
              "var notebookContainer = gd.closest('#notebook-container');\n",
              "if (notebookContainer) {{\n",
              "    x.observe(notebookContainer, {childList: true});\n",
              "}}\n",
              "\n",
              "// Listen for the clearing of the current output cell\n",
              "var outputEl = gd.closest('.output');\n",
              "if (outputEl) {{\n",
              "    x.observe(outputEl, {childList: true});\n",
              "}}\n",
              "\n",
              "                        })                };                            </script>        </div>\n",
              "</body>\n",
              "</html>"
            ]
          },
          "metadata": {}
        }
      ]
    },
    {
      "cell_type": "code",
      "source": [
        "import seaborn as sns"
      ],
      "metadata": {
        "id": "ybkGyCW8cDFl"
      },
      "execution_count": 18,
      "outputs": []
    },
    {
      "cell_type": "code",
      "source": [
        "sns.histplot(data, x = 'Age', bins = 30, color = 'purple', kde = True, stat = \"count\") #bins = largura da coluna; kde = linha;"
      ],
      "metadata": {
        "colab": {
          "base_uri": "https://localhost:8080/",
          "height": 297
        },
        "id": "5hbqdU_HcF0F",
        "outputId": "ed7f1083-e41d-4530-f740-d711bdec7085"
      },
      "execution_count": 37,
      "outputs": [
        {
          "output_type": "execute_result",
          "data": {
            "text/plain": [
              "<matplotlib.axes._subplots.AxesSubplot at 0x7f0fb7221ac0>"
            ]
          },
          "metadata": {},
          "execution_count": 37
        },
        {
          "output_type": "display_data",
          "data": {
            "text/plain": [
              "<Figure size 432x288 with 1 Axes>"
            ],
            "image/png": "[encoded data removed]"
          },
          "metadata": {
            "needs_background": "light"
          }
        }
      ]
    },
    {
      "cell_type": "markdown",
      "source": [
        "### por sexo"
      ],
      "metadata": {
        "id": "XiPbGGMfdWYP"
      }
    },
    {
      "cell_type": "code",
      "source": [
        "data['Sex'].value_counts().sort_index()"
      ],
      "metadata": {
        "colab": {
          "base_uri": "https://localhost:8080/"
        },
        "id": "sN-Yrcx8daYf",
        "outputId": "d26ff300-a189-4780-9925-944c3215393c"
      },
      "execution_count": 22,
      "outputs": [
        {
          "output_type": "execute_result",
          "data": {
            "text/plain": [
              "F    193\n",
              "M    725\n",
              "Name: Sex, dtype: int64"
            ]
          },
          "metadata": {},
          "execution_count": 22
        }
      ]
    },
    {
      "cell_type": "code",
      "source": [
        "hist2 = px.histogram(data, x = 'Sex', nbins = 60) #nbins = largura das colunas\n",
        "hist2.update_layout(width = 800, height = 500, title_text = 'Distribuição dos sexos')\n",
        "hist2.show()"
      ],
      "metadata": {
        "colab": {
          "base_uri": "https://localhost:8080/",
          "height": 517
        },
        "id": "hwVnFbQadaVW",
        "outputId": "ced3eb6c-3ca9-45b8-99f4-fe93138e3387"
      },
      "execution_count": 23,
      "outputs": [
        {
          "output_type": "display_data",
          "data": {
            "text/html": [
              "<html>\n",
              "<head><meta charset=\"utf-8\" /></head>\n",
              "<body>\n",
              "    <div>            <script src=\"https://cdnjs.cloudflare.com/ajax/libs/mathjax/2.7.5/MathJax.js?config=TeX-AMS-MML_SVG\"></script><script type=\"text/javascript\">if (window.MathJax) {MathJax.Hub.Config({SVG: {font: \"STIX-Web\"}});}</script>                <script type=\"text/javascript\">window.PlotlyConfig = {MathJaxConfig: 'local'};</script>\n",
              "        <script src=\"https://cdn.plot.ly/plotly-2.8.3.min.js\"></script>                <div id=\"10b2831e-ba7d-4543-9a00-4979e85c7f27\" class=\"plotly-graph-div\" style=\"height:500px; width:800px;\"></div>            <script type=\"text/javascript\">                                    window.PLOTLYENV=window.PLOTLYENV || {};                                    if (document.getElementById(\"10b2831e-ba7d-4543-9a00-4979e85c7f27\")) {                    Plotly.newPlot(                        \"10b2831e-ba7d-4543-9a00-4979e85c7f27\",                        [{\"alignmentgroup\":\"True\",\"bingroup\":\"x\",\"hovertemplate\":\"Sex=%{x}<br>count=%{y}<extra></extra>\",\"legendgroup\":\"\",\"marker\":{\"color\":\"#636efa\",\"pattern\":{\"shape\":\"\"}},\"name\":\"\",\"nbinsx\":60,\"offsetgroup\":\"\",\"orientation\":\"v\",\"showlegend\":false,\"x\":[\"M\",\"F\",\"M\",\"F\",\"M\",\"M\",\"F\",\"M\",\"M\",\"F\",\"F\",\"M\",\"M\",\"M\",\"F\",\"F\",\"M\",\"F\",\"M\",\"M\",\"F\",\"M\",\"F\",\"M\",\"M\",\"M\",\"M\",\"M\",\"F\",\"M\",\"M\",\"M\",\"M\",\"M\",\"F\",\"M\",\"M\",\"F\",\"F\",\"F\",\"F\",\"F\",\"M\",\"M\",\"M\",\"M\",\"M\",\"M\",\"M\",\"M\",\"M\",\"F\",\"M\",\"F\",\"F\",\"F\",\"M\",\"M\",\"M\",\"M\",\"M\",\"F\",\"M\",\"M\",\"F\",\"F\",\"F\",\"M\",\"M\",\"M\",\"M\",\"M\",\"M\",\"F\",\"M\",\"M\",\"M\",\"F\",\"M\",\"M\",\"M\",\"M\",\"M\",\"M\",\"M\",\"M\",\"M\",\"F\",\"M\",\"M\",\"F\",\"M\",\"F\",\"M\",\"F\",\"M\",\"M\",\"M\",\"M\",\"M\",\"M\",\"M\",\"F\",\"M\",\"M\",\"M\",\"F\",\"M\",\"M\",\"M\",\"F\",\"M\",\"M\",\"M\",\"F\",\"F\",\"M\",\"F\",\"F\",\"M\",\"F\",\"F\",\"M\",\"F\",\"M\",\"M\",\"F\",\"F\",\"F\",\"M\",\"M\",\"M\",\"M\",\"M\",\"F\",\"M\",\"F\",\"M\",\"M\",\"M\",\"M\",\"M\",\"M\",\"M\",\"F\",\"M\",\"M\",\"F\",\"M\",\"M\",\"M\",\"M\",\"M\",\"M\",\"M\",\"M\",\"M\",\"M\",\"M\",\"M\",\"M\",\"M\",\"M\",\"M\",\"F\",\"M\",\"M\",\"M\",\"M\",\"M\",\"M\",\"M\",\"M\",\"M\",\"M\",\"M\",\"M\",\"M\",\"M\",\"F\",\"M\",\"M\",\"M\",\"M\",\"F\",\"M\",\"M\",\"M\",\"F\",\"M\",\"M\",\"M\",\"M\",\"M\",\"F\",\"F\",\"M\",\"M\",\"M\",\"F\",\"M\",\"M\",\"M\",\"F\",\"M\",\"M\",\"M\",\"M\",\"M\",\"M\",\"M\",\"F\",\"M\",\"F\",\"M\",\"F\",\"M\",\"M\",\"M\",\"M\",\"M\",\"F\",\"F\",\"M\",\"M\",\"M\",\"M\",\"M\",\"M\",\"F\",\"M\",\"M\",\"F\",\"M\",\"F\",\"M\",\"M\",\"M\",\"M\",\"M\",\"M\",\"M\",\"M\",\"F\",\"M\",\"M\",\"M\",\"M\",\"M\",\"M\",\"M\",\"M\",\"M\",\"M\",\"M\",\"F\",\"F\",\"M\",\"F\",\"F\",\"M\",\"F\",\"M\",\"M\",\"M\",\"M\",\"M\",\"M\",\"M\",\"F\",\"M\",\"F\",\"M\",\"M\",\"F\",\"M\",\"M\",\"M\",\"F\",\"F\",\"M\",\"M\",\"F\",\"F\",\"M\",\"F\",\"M\",\"M\",\"F\",\"M\",\"M\",\"F\",\"M\",\"M\",\"M\",\"M\",\"M\",\"M\",\"M\",\"M\",\"M\",\"M\",\"M\",\"F\",\"M\",\"F\",\"M\",\"M\",\"M\",\"M\",\"M\",\"M\",\"M\",\"M\",\"M\",\"M\",\"M\",\"M\",\"M\",\"M\",\"M\",\"M\",\"F\",\"M\",\"M\",\"M\",\"M\",\"M\",\"M\",\"M\",\"M\",\"M\",\"M\",\"M\",\"M\",\"M\",\"M\",\"M\",\"M\",\"F\",\"M\",\"M\",\"M\",\"M\",\"M\",\"M\",\"M\",\"M\",\"M\",\"M\",\"M\",\"M\",\"M\",\"M\",\"M\",\"M\",\"M\",\"M\",\"M\",\"M\",\"M\",\"M\",\"M\",\"M\",\"M\",\"F\",\"M\",\"M\",\"M\",\"M\",\"M\",\"M\",\"M\",\"M\",\"M\",\"F\",\"M\",\"M\",\"M\",\"M\",\"M\",\"M\",\"M\",\"F\",\"M\",\"M\",\"M\",\"M\",\"M\",\"M\",\"M\",\"M\",\"M\",\"M\",\"M\",\"M\",\"F\",\"M\",\"M\",\"M\",\"F\",\"M\",\"M\",\"M\",\"M\",\"M\",\"M\",\"M\",\"M\",\"M\",\"M\",\"M\",\"M\",\"M\",\"M\",\"F\",\"M\",\"M\",\"M\",\"M\",\"M\",\"M\",\"M\",\"M\",\"M\",\"M\",\"M\",\"M\",\"M\",\"M\",\"M\",\"M\",\"M\",\"M\",\"M\",\"M\",\"M\",\"M\",\"M\",\"M\",\"M\",\"M\",\"M\",\"M\",\"M\",\"M\",\"M\",\"M\",\"M\",\"M\",\"M\",\"M\",\"M\",\"M\",\"M\",\"M\",\"M\",\"M\",\"M\",\"M\",\"M\",\"M\",\"M\",\"M\",\"M\",\"M\",\"M\",\"F\",\"M\",\"M\",\"M\",\"M\",\"M\",\"M\",\"M\",\"M\",\"M\",\"M\",\"M\",\"M\",\"M\",\"M\",\"M\",\"M\",\"M\",\"M\",\"M\",\"M\",\"M\",\"M\",\"M\",\"M\",\"M\",\"M\",\"M\",\"F\",\"M\",\"M\",\"M\",\"M\",\"M\",\"M\",\"M\",\"M\",\"M\",\"M\",\"M\",\"M\",\"M\",\"M\",\"M\",\"M\",\"M\",\"M\",\"M\",\"M\",\"M\",\"M\",\"M\",\"M\",\"M\",\"M\",\"M\",\"M\",\"M\",\"M\",\"M\",\"M\",\"M\",\"M\",\"M\",\"M\",\"M\",\"M\",\"M\",\"M\",\"M\",\"M\",\"M\",\"M\",\"M\",\"M\",\"F\",\"M\",\"F\",\"M\",\"M\",\"M\",\"M\",\"M\",\"M\",\"M\",\"M\",\"M\",\"M\",\"M\",\"M\",\"M\",\"M\",\"M\",\"M\",\"M\",\"M\",\"M\",\"M\",\"M\",\"M\",\"M\",\"M\",\"M\",\"M\",\"M\",\"M\",\"M\",\"M\",\"M\",\"M\",\"M\",\"M\",\"M\",\"M\",\"M\",\"M\",\"M\",\"M\",\"M\",\"M\",\"M\",\"M\",\"M\",\"M\",\"M\",\"M\",\"M\",\"M\",\"M\",\"M\",\"M\",\"M\",\"M\",\"M\",\"M\",\"M\",\"M\",\"M\",\"F\",\"M\",\"M\",\"M\",\"M\",\"F\",\"M\",\"M\",\"M\",\"M\",\"M\",\"F\",\"M\",\"M\",\"F\",\"M\",\"M\",\"M\",\"M\",\"F\",\"M\",\"M\",\"M\",\"M\",\"F\",\"F\",\"M\",\"M\",\"M\",\"M\",\"M\",\"M\",\"M\",\"M\",\"F\",\"F\",\"F\",\"F\",\"M\",\"F\",\"M\",\"M\",\"F\",\"M\",\"M\",\"M\",\"M\",\"M\",\"M\",\"M\",\"M\",\"F\",\"M\",\"M\",\"M\",\"M\",\"M\",\"M\",\"M\",\"F\",\"M\",\"M\",\"F\",\"F\",\"F\",\"F\",\"M\",\"F\",\"F\",\"M\",\"M\",\"F\",\"M\",\"F\",\"M\",\"M\",\"M\",\"F\",\"F\",\"M\",\"M\",\"F\",\"M\",\"F\",\"F\",\"M\",\"M\",\"F\",\"F\",\"M\",\"M\",\"M\",\"M\",\"M\",\"M\",\"M\",\"M\",\"M\",\"F\",\"M\",\"M\",\"F\",\"M\",\"M\",\"M\",\"M\",\"M\",\"M\",\"F\",\"F\",\"F\",\"M\",\"F\",\"M\",\"M\",\"M\",\"M\",\"F\",\"M\",\"F\",\"F\",\"M\",\"F\",\"F\",\"M\",\"F\",\"M\",\"F\",\"F\",\"M\",\"M\",\"M\",\"M\",\"F\",\"M\",\"F\",\"M\",\"F\",\"M\",\"M\",\"F\",\"M\",\"M\",\"M\",\"M\",\"F\",\"F\",\"M\",\"F\",\"M\",\"M\",\"M\",\"M\",\"M\",\"M\",\"M\",\"M\",\"M\",\"M\",\"F\",\"M\",\"F\",\"F\",\"F\",\"F\",\"F\",\"M\",\"M\",\"M\",\"F\",\"M\",\"F\",\"M\",\"M\",\"M\",\"F\",\"F\",\"M\",\"F\",\"M\",\"M\",\"M\",\"M\",\"F\",\"M\",\"F\",\"M\",\"M\",\"M\",\"M\",\"M\",\"F\",\"M\",\"F\",\"M\",\"M\",\"M\",\"M\",\"F\",\"M\",\"M\",\"M\",\"M\",\"M\",\"M\",\"F\",\"F\",\"F\",\"F\",\"M\",\"M\",\"M\",\"M\",\"M\",\"M\",\"M\",\"F\",\"M\",\"M\",\"M\",\"M\",\"M\",\"F\",\"M\",\"M\",\"F\",\"F\",\"M\",\"M\",\"M\",\"M\",\"M\",\"M\",\"M\",\"F\",\"M\",\"F\",\"F\",\"F\",\"M\",\"F\",\"M\",\"M\",\"M\",\"M\",\"F\",\"F\",\"M\",\"M\",\"M\",\"M\",\"M\",\"F\",\"F\",\"F\",\"M\",\"M\",\"F\",\"M\",\"M\",\"M\",\"M\",\"M\",\"M\",\"M\",\"F\",\"M\",\"M\",\"M\",\"M\",\"F\",\"M\",\"M\",\"M\",\"M\",\"M\",\"M\",\"F\",\"M\",\"M\",\"F\",\"M\",\"M\",\"M\",\"M\",\"M\",\"F\",\"F\",\"M\",\"F\",\"M\",\"M\",\"F\",\"M\",\"M\",\"M\",\"F\",\"M\",\"M\",\"M\",\"M\",\"F\",\"M\",\"M\",\"F\",\"M\",\"M\",\"F\",\"M\",\"M\",\"M\",\"F\",\"M\"],\"xaxis\":\"x\",\"yaxis\":\"y\",\"type\":\"histogram\"}],                        {\"template\":{\"data\":{\"bar\":[{\"error_x\":{\"color\":\"#2a3f5f\"},\"error_y\":{\"color\":\"#2a3f5f\"},\"marker\":{\"line\":{\"color\":\"#E5ECF6\",\"width\":0.5},\"pattern\":{\"fillmode\":\"overlay\",\"size\":10,\"solidity\":0.2}},\"type\":\"bar\"}],\"barpolar\":[{\"marker\":{\"line\":{\"color\":\"#E5ECF6\",\"width\":0.5},\"pattern\":{\"fillmode\":\"overlay\",\"size\":10,\"solidity\":0.2}},\"type\":\"barpolar\"}],\"carpet\":[{\"aaxis\":{\"endlinecolor\":\"#2a3f5f\",\"gridcolor\":\"white\",\"linecolor\":\"white\",\"minorgridcolor\":\"white\",\"startlinecolor\":\"#2a3f5f\"},\"baxis\":{\"endlinecolor\":\"#2a3f5f\",\"gridcolor\":\"white\",\"linecolor\":\"white\",\"minorgridcolor\":\"white\",\"startlinecolor\":\"#2a3f5f\"},\"type\":\"carpet\"}],\"choropleth\":[{\"colorbar\":{\"outlinewidth\":0,\"ticks\":\"\"},\"type\":\"choropleth\"}],\"contour\":[{\"colorbar\":{\"outlinewidth\":0,\"ticks\":\"\"},\"colorscale\":[[0.0,\"#0d0887\"],[0.1111111111111111,\"#46039f\"],[0.2222222222222222,\"#7201a8\"],[0.3333333333333333,\"#9c179e\"],[0.4444444444444444,\"#bd3786\"],[0.5555555555555556,\"#d8576b\"],[0.6666666666666666,\"#ed7953\"],[0.7777777777777778,\"#fb9f3a\"],[0.8888888888888888,\"#fdca26\"],[1.0,\"#f0f921\"]],\"type\":\"contour\"}],\"contourcarpet\":[{\"colorbar\":{\"outlinewidth\":0,\"ticks\":\"\"},\"type\":\"contourcarpet\"}],\"heatmap\":[{\"colorbar\":{\"outlinewidth\":0,\"ticks\":\"\"},\"colorscale\":[[0.0,\"#0d0887\"],[0.1111111111111111,\"#46039f\"],[0.2222222222222222,\"#7201a8\"],[0.3333333333333333,\"#9c179e\"],[0.4444444444444444,\"#bd3786\"],[0.5555555555555556,\"#d8576b\"],[0.6666666666666666,\"#ed7953\"],[0.7777777777777778,\"#fb9f3a\"],[0.8888888888888888,\"#fdca26\"],[1.0,\"#f0f921\"]],\"type\":\"heatmap\"}],\"heatmapgl\":[{\"colorbar\":{\"outlinewidth\":0,\"ticks\":\"\"},\"colorscale\":[[0.0,\"#0d0887\"],[0.1111111111111111,\"#46039f\"],[0.2222222222222222,\"#7201a8\"],[0.3333333333333333,\"#9c179e\"],[0.4444444444444444,\"#bd3786\"],[0.5555555555555556,\"#d8576b\"],[0.6666666666666666,\"#ed7953\"],[0.7777777777777778,\"#fb9f3a\"],[0.8888888888888888,\"#fdca26\"],[1.0,\"#f0f921\"]],\"type\":\"heatmapgl\"}],\"histogram\":[{\"marker\":{\"pattern\":{\"fillmode\":\"overlay\",\"size\":10,\"solidity\":0.2}},\"type\":\"histogram\"}],\"histogram2d\":[{\"colorbar\":{\"outlinewidth\":0,\"ticks\":\"\"},\"colorscale\":[[0.0,\"#0d0887\"],[0.1111111111111111,\"#46039f\"],[0.2222222222222222,\"#7201a8\"],[0.3333333333333333,\"#9c179e\"],[0.4444444444444444,\"#bd3786\"],[0.5555555555555556,\"#d8576b\"],[0.6666666666666666,\"#ed7953\"],[0.7777777777777778,\"#fb9f3a\"],[0.8888888888888888,\"#fdca26\"],[1.0,\"#f0f921\"]],\"type\":\"histogram2d\"}],\"histogram2dcontour\":[{\"colorbar\":{\"outlinewidth\":0,\"ticks\":\"\"},\"colorscale\":[[0.0,\"#0d0887\"],[0.1111111111111111,\"#46039f\"],[0.2222222222222222,\"#7201a8\"],[0.3333333333333333,\"#9c179e\"],[0.4444444444444444,\"#bd3786\"],[0.5555555555555556,\"#d8576b\"],[0.6666666666666666,\"#ed7953\"],[0.7777777777777778,\"#fb9f3a\"],[0.8888888888888888,\"#fdca26\"],[1.0,\"#f0f921\"]],\"type\":\"histogram2dcontour\"}],\"mesh3d\":[{\"colorbar\":{\"outlinewidth\":0,\"ticks\":\"\"},\"type\":\"mesh3d\"}],\"parcoords\":[{\"line\":{\"colorbar\":{\"outlinewidth\":0,\"ticks\":\"\"}},\"type\":\"parcoords\"}],\"pie\":[{\"automargin\":true,\"type\":\"pie\"}],\"scatter\":[{\"marker\":{\"colorbar\":{\"outlinewidth\":0,\"ticks\":\"\"}},\"type\":\"scatter\"}],\"scatter3d\":[{\"line\":{\"colorbar\":{\"outlinewidth\":0,\"ticks\":\"\"}},\"marker\":{\"colorbar\":{\"outlinewidth\":0,\"ticks\":\"\"}},\"type\":\"scatter3d\"}],\"scattercarpet\":[{\"marker\":{\"colorbar\":{\"outlinewidth\":0,\"ticks\":\"\"}},\"type\":\"scattercarpet\"}],\"scattergeo\":[{\"marker\":{\"colorbar\":{\"outlinewidth\":0,\"ticks\":\"\"}},\"type\":\"scattergeo\"}],\"scattergl\":[{\"marker\":{\"colorbar\":{\"outlinewidth\":0,\"ticks\":\"\"}},\"type\":\"scattergl\"}],\"scattermapbox\":[{\"marker\":{\"colorbar\":{\"outlinewidth\":0,\"ticks\":\"\"}},\"type\":\"scattermapbox\"}],\"scatterpolar\":[{\"marker\":{\"colorbar\":{\"outlinewidth\":0,\"ticks\":\"\"}},\"type\":\"scatterpolar\"}],\"scatterpolargl\":[{\"marker\":{\"colorbar\":{\"outlinewidth\":0,\"ticks\":\"\"}},\"type\":\"scatterpolargl\"}],\"scatterternary\":[{\"marker\":{\"colorbar\":{\"outlinewidth\":0,\"ticks\":\"\"}},\"type\":\"scatterternary\"}],\"surface\":[{\"colorbar\":{\"outlinewidth\":0,\"ticks\":\"\"},\"colorscale\":[[0.0,\"#0d0887\"],[0.1111111111111111,\"#46039f\"],[0.2222222222222222,\"#7201a8\"],[0.3333333333333333,\"#9c179e\"],[0.4444444444444444,\"#bd3786\"],[0.5555555555555556,\"#d8576b\"],[0.6666666666666666,\"#ed7953\"],[0.7777777777777778,\"#fb9f3a\"],[0.8888888888888888,\"#fdca26\"],[1.0,\"#f0f921\"]],\"type\":\"surface\"}],\"table\":[{\"cells\":{\"fill\":{\"color\":\"#EBF0F8\"},\"line\":{\"color\":\"white\"}},\"header\":{\"fill\":{\"color\":\"#C8D4E3\"},\"line\":{\"color\":\"white\"}},\"type\":\"table\"}]},\"layout\":{\"annotationdefaults\":{\"arrowcolor\":\"#2a3f5f\",\"arrowhead\":0,\"arrowwidth\":1},\"autotypenumbers\":\"strict\",\"coloraxis\":{\"colorbar\":{\"outlinewidth\":0,\"ticks\":\"\"}},\"colorscale\":{\"diverging\":[[0,\"#8e0152\"],[0.1,\"#c51b7d\"],[0.2,\"#de77ae\"],[0.3,\"#f1b6da\"],[0.4,\"#fde0ef\"],[0.5,\"#f7f7f7\"],[0.6,\"#e6f5d0\"],[0.7,\"#b8e186\"],[0.8,\"#7fbc41\"],[0.9,\"#4d9221\"],[1,\"#276419\"]],\"sequential\":[[0.0,\"#0d0887\"],[0.1111111111111111,\"#46039f\"],[0.2222222222222222,\"#7201a8\"],[0.3333333333333333,\"#9c179e\"],[0.4444444444444444,\"#bd3786\"],[0.5555555555555556,\"#d8576b\"],[0.6666666666666666,\"#ed7953\"],[0.7777777777777778,\"#fb9f3a\"],[0.8888888888888888,\"#fdca26\"],[1.0,\"#f0f921\"]],\"sequentialminus\":[[0.0,\"#0d0887\"],[0.1111111111111111,\"#46039f\"],[0.2222222222222222,\"#7201a8\"],[0.3333333333333333,\"#9c179e\"],[0.4444444444444444,\"#bd3786\"],[0.5555555555555556,\"#d8576b\"],[0.6666666666666666,\"#ed7953\"],[0.7777777777777778,\"#fb9f3a\"],[0.8888888888888888,\"#fdca26\"],[1.0,\"#f0f921\"]]},\"colorway\":[\"#636efa\",\"#EF553B\",\"#00cc96\",\"#ab63fa\",\"#FFA15A\",\"#19d3f3\",\"#FF6692\",\"#B6E880\",\"#FF97FF\",\"#FECB52\"],\"font\":{\"color\":\"#2a3f5f\"},\"geo\":{\"bgcolor\":\"white\",\"lakecolor\":\"white\",\"landcolor\":\"#E5ECF6\",\"showlakes\":true,\"showland\":true,\"subunitcolor\":\"white\"},\"hoverlabel\":{\"align\":\"left\"},\"hovermode\":\"closest\",\"mapbox\":{\"style\":\"light\"},\"paper_bgcolor\":\"white\",\"plot_bgcolor\":\"#E5ECF6\",\"polar\":{\"angularaxis\":{\"gridcolor\":\"white\",\"linecolor\":\"white\",\"ticks\":\"\"},\"bgcolor\":\"#E5ECF6\",\"radialaxis\":{\"gridcolor\":\"white\",\"linecolor\":\"white\",\"ticks\":\"\"}},\"scene\":{\"xaxis\":{\"backgroundcolor\":\"#E5ECF6\",\"gridcolor\":\"white\",\"gridwidth\":2,\"linecolor\":\"white\",\"showbackground\":true,\"ticks\":\"\",\"zerolinecolor\":\"white\"},\"yaxis\":{\"backgroundcolor\":\"#E5ECF6\",\"gridcolor\":\"white\",\"gridwidth\":2,\"linecolor\":\"white\",\"showbackground\":true,\"ticks\":\"\",\"zerolinecolor\":\"white\"},\"zaxis\":{\"backgroundcolor\":\"#E5ECF6\",\"gridcolor\":\"white\",\"gridwidth\":2,\"linecolor\":\"white\",\"showbackground\":true,\"ticks\":\"\",\"zerolinecolor\":\"white\"}},\"shapedefaults\":{\"line\":{\"color\":\"#2a3f5f\"}},\"ternary\":{\"aaxis\":{\"gridcolor\":\"white\",\"linecolor\":\"white\",\"ticks\":\"\"},\"baxis\":{\"gridcolor\":\"white\",\"linecolor\":\"white\",\"ticks\":\"\"},\"bgcolor\":\"#E5ECF6\",\"caxis\":{\"gridcolor\":\"white\",\"linecolor\":\"white\",\"ticks\":\"\"}},\"title\":{\"x\":0.05},\"xaxis\":{\"automargin\":true,\"gridcolor\":\"white\",\"linecolor\":\"white\",\"ticks\":\"\",\"title\":{\"standoff\":15},\"zerolinecolor\":\"white\",\"zerolinewidth\":2},\"yaxis\":{\"automargin\":true,\"gridcolor\":\"white\",\"linecolor\":\"white\",\"ticks\":\"\",\"title\":{\"standoff\":15},\"zerolinecolor\":\"white\",\"zerolinewidth\":2}}},\"xaxis\":{\"anchor\":\"y\",\"domain\":[0.0,1.0],\"title\":{\"text\":\"Sex\"}},\"yaxis\":{\"anchor\":\"x\",\"domain\":[0.0,1.0],\"title\":{\"text\":\"count\"}},\"legend\":{\"tracegroupgap\":0},\"margin\":{\"t\":60},\"barmode\":\"relative\",\"title\":{\"text\":\"Distribui\\u00e7\\u00e3o dos sexos\"},\"width\":800,\"height\":500},                        {\"responsive\": true}                    ).then(function(){\n",
              "                            \n",
              "var gd = document.getElementById('10b2831e-ba7d-4543-9a00-4979e85c7f27');\n",
              "var x = new MutationObserver(function (mutations, observer) {{\n",
              "        var display = window.getComputedStyle(gd).display;\n",
              "        if (!display || display === 'none') {{\n",
              "            console.log([gd, 'removed!']);\n",
              "            Plotly.purge(gd);\n",
              "            observer.disconnect();\n",
              "        }}\n",
              "}});\n",
              "\n",
              "// Listen for the removal of the full notebook cells\n",
              "var notebookContainer = gd.closest('#notebook-container');\n",
              "if (notebookContainer) {{\n",
              "    x.observe(notebookContainer, {childList: true});\n",
              "}}\n",
              "\n",
              "// Listen for the clearing of the current output cell\n",
              "var outputEl = gd.closest('.output');\n",
              "if (outputEl) {{\n",
              "    x.observe(outputEl, {childList: true});\n",
              "}}\n",
              "\n",
              "                        })                };                            </script>        </div>\n",
              "</body>\n",
              "</html>"
            ]
          },
          "metadata": {}
        }
      ]
    },
    {
      "cell_type": "code",
      "source": [
        "sns.countplot(data = data, x = 'Sex')"
      ],
      "metadata": {
        "colab": {
          "base_uri": "https://localhost:8080/",
          "height": 297
        },
        "id": "LPi7igykdwKW",
        "outputId": "358bf71f-7e61-4e37-9e13-d42342c2eb1e"
      },
      "execution_count": 25,
      "outputs": [
        {
          "output_type": "execute_result",
          "data": {
            "text/plain": [
              "<matplotlib.axes._subplots.AxesSubplot at 0x7f0fb765d910>"
            ]
          },
          "metadata": {},
          "execution_count": 25
        },
        {
          "output_type": "display_data",
          "data": {
            "text/plain": [
              "<Figure size 432x288 with 1 Axes>"
            ],
            "image/png": "[encoded data removed]"
          },
          "metadata": {
            "needs_background": "light"
          }
        }
      ]
    },
    {
      "cell_type": "markdown",
      "source": [
        "### CHEST PAIN TYPE - Tipo de dor no peito"
      ],
      "metadata": {
        "id": "Rqx2m-uNeFE-"
      }
    },
    {
      "cell_type": "code",
      "source": [
        "data['ChestPainType'].value_counts() #ASY = Assintomático; NAP = Dor não anginosa; ATA = "
      ],
      "metadata": {
        "colab": {
          "base_uri": "https://localhost:8080/"
        },
        "id": "QWDanqi6eRAY",
        "outputId": "87f7ee15-2fc1-430c-956b-31c5ba7a7f9d"
      },
      "execution_count": 26,
      "outputs": [
        {
          "output_type": "execute_result",
          "data": {
            "text/plain": [
              "ASY    496\n",
              "NAP    203\n",
              "ATA    173\n",
              "TA      46\n",
              "Name: ChestPainType, dtype: int64"
            ]
          },
          "metadata": {},
          "execution_count": 26
        }
      ]
    },
    {
      "cell_type": "markdown",
      "source": [
        "ASY = Assintomático; NAP = Dor não anginosa; ATA = Angina atípica; TA: Angina típica.\n",
        "\n",
        " ANGINA:: DOR NO PEITO CAUSADA PELA DIMINUIÇÃO DO FLUXO DE SANGUE NO CORAÇÃO"
      ],
      "metadata": {
        "id": "vAGKNIU3e9Uc"
      }
    },
    {
      "cell_type": "code",
      "source": [
        "sns.countplot(data = data, x = 'ChestPainType')"
      ],
      "metadata": {
        "colab": {
          "base_uri": "https://localhost:8080/",
          "height": 297
        },
        "id": "JtWGybmHefP7",
        "outputId": "de1ff822-a00f-490a-a91a-9ba38440b974"
      },
      "execution_count": 27,
      "outputs": [
        {
          "output_type": "execute_result",
          "data": {
            "text/plain": [
              "<matplotlib.axes._subplots.AxesSubplot at 0x7f0fb75d3130>"
            ]
          },
          "metadata": {},
          "execution_count": 27
        },
        {
          "output_type": "display_data",
          "data": {
            "text/plain": [
              "<Figure size 432x288 with 1 Axes>"
            ],
            "image/png": "[encoded data removed]"
          },
          "metadata": {
            "needs_background": "light"
          }
        }
      ]
    },
    {
      "cell_type": "markdown",
      "source": [
        "### RESTING BP (BLOOD PRESSURE): pressão sanguinea em repouso em mmHg (sistólica)"
      ],
      "metadata": {
        "id": "CH5lTcRbfpf1"
      }
    },
    {
      "cell_type": "code",
      "source": [
        "data.RestingBP.value_counts().sort_index() #RestingBP é uma variável númerica contínua  "
      ],
      "metadata": {
        "colab": {
          "base_uri": "https://localhost:8080/"
        },
        "id": "37LtfmMEfi-E",
        "outputId": "482b444d-41d8-41b7-f48b-90bdd7cf18c0"
      },
      "execution_count": 30,
      "outputs": [
        {
          "output_type": "execute_result",
          "data": {
            "text/plain": [
              "0       1\n",
              "80      1\n",
              "92      1\n",
              "94      2\n",
              "95      6\n",
              "       ..\n",
              "180    12\n",
              "185     1\n",
              "190     2\n",
              "192     1\n",
              "200     4\n",
              "Name: RestingBP, Length: 67, dtype: int64"
            ]
          },
          "metadata": {},
          "execution_count": 30
        }
      ]
    },
    {
      "cell_type": "code",
      "source": [
        "sns.histplot(data, x = 'RestingBP', bins = 30, color = 'purple', kde = True, stat = \"count\")"
      ],
      "metadata": {
        "colab": {
          "base_uri": "https://localhost:8080/",
          "height": 297
        },
        "id": "qwKD4_rlhskM",
        "outputId": "dc8ad269-4625-4543-d248-1273f83ef21a"
      },
      "execution_count": 35,
      "outputs": [
        {
          "output_type": "execute_result",
          "data": {
            "text/plain": [
              "<matplotlib.axes._subplots.AxesSubplot at 0x7f0fb738bee0>"
            ]
          },
          "metadata": {},
          "execution_count": 35
        },
        {
          "output_type": "display_data",
          "data": {
            "text/plain": [
              "<Figure size 432x288 with 1 Axes>"
            ],
            "image/png": "[encoded data removed]"
          },
          "metadata": {
            "needs_background": "light"
          }
        }
      ]
    },
    {
      "cell_type": "markdown",
      "source": [
        "### CHOLESTEROL: colesterol sérico em (mg/dl)"
      ],
      "metadata": {
        "id": "6AAZmbPYiEaT"
      }
    },
    {
      "cell_type": "code",
      "source": [
        "data.Cholesterol.value_counts().sort_index()"
      ],
      "metadata": {
        "colab": {
          "base_uri": "https://localhost:8080/"
        },
        "id": "jB6jhF_giDx0",
        "outputId": "21a98025-26f2-44e8-efcd-e39e4a30348e"
      },
      "execution_count": 34,
      "outputs": [
        {
          "output_type": "execute_result",
          "data": {
            "text/plain": [
              "0      172\n",
              "85       1\n",
              "100      2\n",
              "110      1\n",
              "113      1\n",
              "      ... \n",
              "491      1\n",
              "518      1\n",
              "529      1\n",
              "564      1\n",
              "603      1\n",
              "Name: Cholesterol, Length: 222, dtype: int64"
            ]
          },
          "metadata": {},
          "execution_count": 34
        }
      ]
    },
    {
      "cell_type": "markdown",
      "source": [
        "coresterol = 0??"
      ],
      "metadata": {
        "id": "qttGDxyajAky"
      }
    },
    {
      "cell_type": "code",
      "source": [
        "sns.histplot(data, x = 'Cholesterol', bins = 30, color = 'purple', kde = True, stat = \"count\")"
      ],
      "metadata": {
        "colab": {
          "base_uri": "https://localhost:8080/",
          "height": 297
        },
        "id": "7hOZXffHiw-0",
        "outputId": "df8c4151-9433-4e19-b5cd-9a619e71ce4d"
      },
      "execution_count": 36,
      "outputs": [
        {
          "output_type": "execute_result",
          "data": {
            "text/plain": [
              "<matplotlib.axes._subplots.AxesSubplot at 0x7f0fb7277b50>"
            ]
          },
          "metadata": {},
          "execution_count": 36
        },
        {
          "output_type": "display_data",
          "data": {
            "text/plain": [
              "<Figure size 432x288 with 1 Axes>"
            ],
            "image/png": "[encoded data removed]"
          },
          "metadata": {
            "needs_background": "light"
          }
        }
      ]
    },
    {
      "cell_type": "markdown",
      "source": [
        "### FASTING BS (BLOOD SUGAR): açucar no sangue em jejum (mg/dl)"
      ],
      "metadata": {
        "id": "nA9JhTtLjLSC"
      }
    },
    {
      "cell_type": "code",
      "source": [
        "data.FastingBS.value_counts().sort_index() #0: <120mg/dl - não diabéticos; 1: >120 mg/dl - diabéticos | variável categorica ordinal"
      ],
      "metadata": {
        "colab": {
          "base_uri": "https://localhost:8080/"
        },
        "id": "_2Vkcr5Ljb3E",
        "outputId": "a89f2468-5e1d-40c7-ec4b-ee1b46266806"
      },
      "execution_count": 43,
      "outputs": [
        {
          "output_type": "execute_result",
          "data": {
            "text/plain": [
              "0    704\n",
              "1    214\n",
              "Name: FastingBS, dtype: int64"
            ]
          },
          "metadata": {},
          "execution_count": 43
        }
      ]
    },
    {
      "cell_type": "code",
      "source": [
        "sns.countplot(x = 'FastingBS', data = data)"
      ],
      "metadata": {
        "colab": {
          "base_uri": "https://localhost:8080/",
          "height": 297
        },
        "id": "qayxw4pYjgea",
        "outputId": "f9e72aa9-62ee-48c3-b464-8365a399bcbe"
      },
      "execution_count": 42,
      "outputs": [
        {
          "output_type": "execute_result",
          "data": {
            "text/plain": [
              "<matplotlib.axes._subplots.AxesSubplot at 0x7f0fb70eb220>"
            ]
          },
          "metadata": {},
          "execution_count": 42
        },
        {
          "output_type": "display_data",
          "data": {
            "text/plain": [
              "<Figure size 432x288 with 1 Axes>"
            ],
            "image/png": "[encoded data removed]"
          },
          "metadata": {
            "needs_background": "light"
          }
        }
      ]
    },
    {
      "cell_type": "markdown",
      "source": [
        "### RESTING ECG: eletrocardiograma em repouso"
      ],
      "metadata": {
        "id": "nu_G26ALkLor"
      }
    },
    {
      "cell_type": "code",
      "source": [
        "data.RestingECG.value_counts().sort_index()"
      ],
      "metadata": {
        "colab": {
          "base_uri": "https://localhost:8080/"
        },
        "id": "3xcN6VudkTPy",
        "outputId": "514f50b8-90ee-4178-db85-28b6a556dc4a"
      },
      "execution_count": 44,
      "outputs": [
        {
          "output_type": "execute_result",
          "data": {
            "text/plain": [
              "LVH       188\n",
              "Normal    552\n",
              "ST        178\n",
              "Name: RestingECG, dtype: int64"
            ]
          },
          "metadata": {},
          "execution_count": 44
        }
      ]
    },
    {
      "cell_type": "markdown",
      "source": [
        "LVH: Hipertrofia venticular esquerda;\n",
        "NORMAL: Normal;\n",
        "ST: Anormalidade da onda ST-T"
      ],
      "metadata": {
        "id": "RNljUco-kcBJ"
      }
    },
    {
      "cell_type": "markdown",
      "source": [
        "![41597_2020_386_Fig1_HTML.png](data:image/png;base64,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) "
      ],
      "metadata": {
        "id": "3yuwi69dlSCq"
      }
    },
    {
      "cell_type": "code",
      "source": [
        "sns.countplot(data = data, x = 'RestingECG')"
      ],
      "metadata": {
        "colab": {
          "base_uri": "https://localhost:8080/",
          "height": 297
        },
        "id": "vuhQ3YdRkazi",
        "outputId": "478ff2de-b53a-4b3b-fcad-2825d98d69a0"
      },
      "execution_count": 47,
      "outputs": [
        {
          "output_type": "execute_result",
          "data": {
            "text/plain": [
              "<matplotlib.axes._subplots.AxesSubplot at 0x7f0fb7039ac0>"
            ]
          },
          "metadata": {},
          "execution_count": 47
        },
        {
          "output_type": "display_data",
          "data": {
            "text/plain": [
              "<Figure size 432x288 with 1 Axes>"
            ],
            "image/png": "[encoded data removed]"
          },
          "metadata": {
            "needs_background": "light"
          }
        }
      ]
    },
    {
      "cell_type": "markdown",
      "source": [
        "### MAX HR (HEART RATE) = frequência cardíaca máxima"
      ],
      "metadata": {
        "id": "-ih3us7-mfzg"
      }
    },
    {
      "cell_type": "code",
      "source": [
        "data.MaxHR.value_counts().sort_index()"
      ],
      "metadata": {
        "colab": {
          "base_uri": "https://localhost:8080/"
        },
        "id": "t8hb2TbvmpXv",
        "outputId": "6a15d733-1c55-4db9-ae90-2060c234ae69"
      },
      "execution_count": 51,
      "outputs": [
        {
          "output_type": "execute_result",
          "data": {
            "text/plain": [
              "60     1\n",
              "63     1\n",
              "67     1\n",
              "69     1\n",
              "70     1\n",
              "      ..\n",
              "190    2\n",
              "192    1\n",
              "194    1\n",
              "195    1\n",
              "202    1\n",
              "Name: MaxHR, Length: 119, dtype: int64"
            ]
          },
          "metadata": {},
          "execution_count": 51
        }
      ]
    },
    {
      "cell_type": "code",
      "source": [
        "sns.histplot(data, x = 'MaxHR', bins = 30, color = 'purple', kde = True, stat = \"count\")"
      ],
      "metadata": {
        "colab": {
          "base_uri": "https://localhost:8080/",
          "height": 297
        },
        "id": "TOi5SzADmw0v",
        "outputId": "079c0b10-0e6c-45a2-c2f7-ce244a68d74b"
      },
      "execution_count": 49,
      "outputs": [
        {
          "output_type": "execute_result",
          "data": {
            "text/plain": [
              "<matplotlib.axes._subplots.AxesSubplot at 0x7f0fb6f7a3d0>"
            ]
          },
          "metadata": {},
          "execution_count": 49
        },
        {
          "output_type": "display_data",
          "data": {
            "text/plain": [
              "<Figure size 432x288 with 1 Axes>"
            ],
            "image/png": "[encoded data removed]"
          },
          "metadata": {
            "needs_background": "light"
          }
        }
      ]
    },
    {
      "cell_type": "markdown",
      "source": [
        "### EXERCISE ANGINA: Angina induzida por exercícios"
      ],
      "metadata": {
        "id": "Y90pghVdnCbX"
      }
    },
    {
      "cell_type": "code",
      "source": [],
      "metadata": {
        "id": "BV7fCtmFrDSL"
      },
      "execution_count": null,
      "outputs": []
    }
  ]
}