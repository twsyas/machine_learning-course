{
  "nbformat": 4,
  "nbformat_minor": 0,
  "metadata": {
    "colab": {
      "provenance": [],
      "authorship_tag": "ABX9TyNd74NyTIKk8x6nFp0vrLOR",
      "include_colab_link": true
    },
    "kernelspec": {
      "name": "python3",
      "display_name": "Python 3"
    },
    "language_info": {
      "name": "python"
    }
  },
  "cells": [
    {
      "cell_type": "markdown",
      "metadata": {
        "id": "view-in-github",
        "colab_type": "text"
      },
      "source": [
        "<a href=\"https://colab.research.google.com/github/twsyas/machine_learning-course/blob/main/conceitopy.ipynb\" target=\"_parent\"><img src=\"https://colab.research.google.com/assets/colab-badge.svg\" alt=\"Open In Colab\"/></a>"
      ]
    },
    {
      "cell_type": "markdown",
      "source": [
        "## Fundamentos do Python"
      ],
      "metadata": {
        "id": "Qdcmo7fGiwAV"
      }
    },
    {
      "cell_type": "code",
      "source": [
        "nome = input ('Qual é o seu nome?')"
      ],
      "metadata": {
        "colab": {
          "base_uri": "https://localhost:8080/"
        },
        "id": "RB25N0kL_6z7",
        "outputId": "3c8a8ac6-13f6-4a46-a995-5424e92be953"
      },
      "execution_count": null,
      "outputs": [
        {
          "name": "stdout",
          "output_type": "stream",
          "text": [
            "Qual é o seu nome?yas\n"
          ]
        }
      ]
    },
    {
      "cell_type": "code",
      "source": [
        "print('Meu nome é:', nome)"
      ],
      "metadata": {
        "colab": {
          "base_uri": "https://localhost:8080/"
        },
        "id": "s0NX4TxNAH7b",
        "outputId": "f8b670f6-5c2b-441b-ed1b-4b902eba1620"
      },
      "execution_count": null,
      "outputs": [
        {
          "output_type": "stream",
          "name": "stdout",
          "text": [
            "Meu nome é: yas\n"
          ]
        }
      ]
    },
    {
      "cell_type": "code",
      "source": [
        "nome = input ('Qual é o seu nome?')\n",
        "print ('Meu nome é:', nome)"
      ],
      "metadata": {
        "colab": {
          "base_uri": "https://localhost:8080/"
        },
        "id": "st2bmoJUAaSL",
        "outputId": "30ce91f9-a644-4d1b-cc2c-8ba280fa97f8"
      },
      "execution_count": null,
      "outputs": [
        {
          "output_type": "stream",
          "name": "stdout",
          "text": [
            "Qual é o seu nome?yas\n",
            "Meu nome é: yas\n"
          ]
        }
      ]
    },
    {
      "cell_type": "markdown",
      "source": [
        "### pacotes, módulos e bibliotecas"
      ],
      "metadata": {
        "id": "yWknthP3XxhL"
      }
    },
    {
      "cell_type": "code",
      "source": [
        "import math"
      ],
      "metadata": {
        "id": "5LpZZsUUD5Y3"
      },
      "execution_count": null,
      "outputs": []
    },
    {
      "cell_type": "code",
      "source": [
        "math.sqrt(12)"
      ],
      "metadata": {
        "colab": {
          "base_uri": "https://localhost:8080/"
        },
        "id": "250KpudMD7B4",
        "outputId": "57ac1b27-f623-4479-8bce-65f1ee12290e"
      },
      "execution_count": null,
      "outputs": [
        {
          "output_type": "execute_result",
          "data": {
            "text/plain": [
              "3.4641016151377544"
            ]
          },
          "metadata": {},
          "execution_count": 110
        }
      ]
    },
    {
      "cell_type": "code",
      "source": [
        "n = 18"
      ],
      "metadata": {
        "id": "f6o1lg79Ejku"
      },
      "execution_count": null,
      "outputs": []
    },
    {
      "cell_type": "code",
      "source": [
        "raiz = math.sqrt(n)\n",
        "print('A raiz de {} é igual a {:.2f}'.format(n, raiz))"
      ],
      "metadata": {
        "colab": {
          "base_uri": "https://localhost:8080/"
        },
        "id": "8k43aqy5D_qV",
        "outputId": "50165997-6d28-4345-d8e3-5f56dd5d2ff9"
      },
      "execution_count": null,
      "outputs": [
        {
          "output_type": "stream",
          "name": "stdout",
          "text": [
            "A raiz de 18 é igual a 4.24\n"
          ]
        }
      ]
    },
    {
      "cell_type": "code",
      "source": [
        "raiz2 = n ** 0.5\n",
        "print (raiz2)"
      ],
      "metadata": {
        "colab": {
          "base_uri": "https://localhost:8080/"
        },
        "id": "w9Tc7YAqE-gu",
        "outputId": "3ff14440-6005-46d4-a090-8fb250b276d2"
      },
      "execution_count": null,
      "outputs": [
        {
          "output_type": "stream",
          "name": "stdout",
          "text": [
            "4.242640687119285\n"
          ]
        }
      ]
    },
    {
      "cell_type": "code",
      "source": [
        "print('{:.2f}'.format(raiz2))"
      ],
      "metadata": {
        "colab": {
          "base_uri": "https://localhost:8080/"
        },
        "id": "i-ojWLUWFF6l",
        "outputId": "3c1b6509-d804-46af-9716-c10442043f32"
      },
      "execution_count": null,
      "outputs": [
        {
          "output_type": "stream",
          "name": "stdout",
          "text": [
            "4.24\n"
          ]
        }
      ]
    },
    {
      "cell_type": "code",
      "source": [
        "from math import sqrt, factorial"
      ],
      "metadata": {
        "id": "rb4AmoZZFySD"
      },
      "execution_count": null,
      "outputs": []
    },
    {
      "cell_type": "code",
      "source": [
        "fat = factorial(sqrt(16))\n",
        "fat"
      ],
      "metadata": {
        "colab": {
          "base_uri": "https://localhost:8080/"
        },
        "id": "E8bFT6g4F16U",
        "outputId": "0d0cf0ad-18c1-4540-ff61-d9804fb0421c"
      },
      "execution_count": null,
      "outputs": [
        {
          "output_type": "execute_result",
          "data": {
            "text/plain": [
              "24"
            ]
          },
          "metadata": {},
          "execution_count": 116
        }
      ]
    },
    {
      "cell_type": "markdown",
      "source": [
        "### estrutura de condição e estrutura de repetiçao"
      ],
      "metadata": {
        "id": "IAsGJyfYXodk"
      }
    },
    {
      "cell_type": "code",
      "source": [
        "nota = 5.98"
      ],
      "metadata": {
        "id": "aRAYE3IOHxwI"
      },
      "execution_count": null,
      "outputs": []
    },
    {
      "cell_type": "code",
      "source": [
        "if nota >= 6:\n",
        "  print('Aprovado')\n",
        "else:\n",
        "    print('Reprovado')"
      ],
      "metadata": {
        "colab": {
          "base_uri": "https://localhost:8080/"
        },
        "id": "GOZ_YJYMHy93",
        "outputId": "49a255a5-1898-4848-c1fc-388b9a62a5fb"
      },
      "execution_count": null,
      "outputs": [
        {
          "output_type": "stream",
          "name": "stdout",
          "text": [
            "Reprovado\n"
          ]
        }
      ]
    },
    {
      "cell_type": "code",
      "source": [
        "if nota >= 6:\n",
        "  print('Aprovado')\n",
        "elif nota >= 5 and nota < 6:\n",
        "  print('Recuperação')\n",
        "else:\n",
        "    print('Reprovado')"
      ],
      "metadata": {
        "colab": {
          "base_uri": "https://localhost:8080/"
        },
        "id": "fuum50n5IJBw",
        "outputId": "caaa5574-fb2f-4872-f58b-7b121556a294"
      },
      "execution_count": null,
      "outputs": [
        {
          "output_type": "stream",
          "name": "stdout",
          "text": [
            "Recuperação\n"
          ]
        }
      ]
    },
    {
      "cell_type": "code",
      "source": [
        "for c in range(0,4):\n",
        "  print(c)"
      ],
      "metadata": {
        "colab": {
          "base_uri": "https://localhost:8080/"
        },
        "id": "SXh3W9ImJaGR",
        "outputId": "288a34af-3130-4837-ccbe-f39b911a6e20"
      },
      "execution_count": null,
      "outputs": [
        {
          "output_type": "stream",
          "name": "stdout",
          "text": [
            "0\n",
            "1\n",
            "2\n",
            "3\n"
          ]
        }
      ]
    },
    {
      "cell_type": "code",
      "source": [
        "lista = [1,2,3,4,10]\n",
        "for numero in lista:\n",
        "  print(numero * 2)"
      ],
      "metadata": {
        "colab": {
          "base_uri": "https://localhost:8080/"
        },
        "id": "F2xO7ZpnJjcT",
        "outputId": "e5de79d2-e508-43e9-9033-26b33526d0f0"
      },
      "execution_count": null,
      "outputs": [
        {
          "output_type": "stream",
          "name": "stdout",
          "text": [
            "2\n",
            "4\n",
            "6\n",
            "8\n",
            "20\n"
          ]
        }
      ]
    },
    {
      "cell_type": "code",
      "source": [
        "soma = 0\n",
        "cont = 0\n",
        "for c in range(1,6):\n",
        "  num = int(input('digite o {}o valor:'.format(c)))\n",
        "  if num % 2 == 0:\n",
        "    soma = soma + num\n",
        "    cont = cont + 1\n",
        "print('Você informou {} números pares e a soma deles é igual a {}'.format(cont, soma))"
      ],
      "metadata": {
        "colab": {
          "base_uri": "https://localhost:8080/"
        },
        "id": "7yxCvqaZLboi",
        "outputId": "1c5f6d02-3a12-42b1-d1e5-bf6034210980"
      },
      "execution_count": null,
      "outputs": [
        {
          "output_type": "stream",
          "name": "stdout",
          "text": [
            "digite o 1o valor:5\n",
            "digite o 2o valor:6\n",
            "digite o 3o valor:10\n",
            "digite o 4o valor:8\n",
            "digite o 5o valor:14\n",
            "Você informou 4 números pares e a soma deles é igual a 38\n"
          ]
        }
      ]
    },
    {
      "cell_type": "code",
      "source": [
        "c = 1\n",
        "while c <= 10:\n",
        "  s = c + 10\n",
        "  print(s)\n",
        "  c = c + 1\n",
        "print('FIM')"
      ],
      "metadata": {
        "colab": {
          "base_uri": "https://localhost:8080/"
        },
        "id": "GfV-7O2zP9Wv",
        "outputId": "9a7fb6d8-c164-4cc7-f8b5-d54198f21364"
      },
      "execution_count": null,
      "outputs": [
        {
          "output_type": "stream",
          "name": "stdout",
          "text": [
            "11\n",
            "12\n",
            "13\n",
            "14\n",
            "15\n",
            "16\n",
            "17\n",
            "18\n",
            "19\n",
            "20\n",
            "FIM\n"
          ]
        }
      ]
    },
    {
      "cell_type": "markdown",
      "source": [
        "### dicionário"
      ],
      "metadata": {
        "id": "CtE4UqAFXlDa"
      }
    },
    {
      "cell_type": "code",
      "source": [
        "#criando dicionário\n",
        "pessoas = {'nome': 'yas', 'sexo': 'fem', 'idade': 17}\n",
        "print(pessoas)"
      ],
      "metadata": {
        "colab": {
          "base_uri": "https://localhost:8080/"
        },
        "id": "d3AJUBuQWdi3",
        "outputId": "43513ba8-a0c2-47b2-9f97-32fedd577a3f"
      },
      "execution_count": null,
      "outputs": [
        {
          "output_type": "stream",
          "name": "stdout",
          "text": [
            "{'nome': 'yas', 'sexo': 'fem', 'idade': 17}\n"
          ]
        }
      ]
    },
    {
      "cell_type": "code",
      "source": [
        "#adicionando uma nova variável ao dicionário\n",
        "pessoas['time'] = 'vitoria'\n",
        "print(pessoas)"
      ],
      "metadata": {
        "colab": {
          "base_uri": "https://localhost:8080/"
        },
        "id": "HM42H1b9Wtn-",
        "outputId": "f93acf28-d5f0-47a9-fabd-47c6f2f09cac"
      },
      "execution_count": null,
      "outputs": [
        {
          "output_type": "stream",
          "name": "stdout",
          "text": [
            "{'nome': 'yas', 'sexo': 'fem', 'idade': 17, 'time': 'vitoria'}\n"
          ]
        }
      ]
    },
    {
      "cell_type": "code",
      "source": [
        "#deletando variável\n",
        "del pessoas['idade']\n",
        "print(pessoas)"
      ],
      "metadata": {
        "colab": {
          "base_uri": "https://localhost:8080/"
        },
        "id": "4LiXPh8sWtjE",
        "outputId": "e8bb3809-6235-422b-a016-de3c6b87688a"
      },
      "execution_count": null,
      "outputs": [
        {
          "output_type": "stream",
          "name": "stdout",
          "text": [
            "{'nome': 'yas', 'sexo': 'fem', 'time': 'vitoria'}\n"
          ]
        }
      ]
    },
    {
      "cell_type": "markdown",
      "source": [
        "### criação de funções"
      ],
      "metadata": {
        "id": "JkP_PNRkXhuF"
      }
    },
    {
      "cell_type": "code",
      "source": [
        "def identificacao(nome,idade): #def = define o início da função; 'identificação' é o nome da função.\n",
        "  print('Olá', nome,'\\nVocê é jovem, tem apenas', idade, 'anos')"
      ],
      "metadata": {
        "id": "Fh3xlHEWX4q6"
      },
      "execution_count": null,
      "outputs": []
    },
    {
      "cell_type": "code",
      "source": [
        "identificacao('Yas', 17)"
      ],
      "metadata": {
        "colab": {
          "base_uri": "https://localhost:8080/"
        },
        "id": "q_I5yeWGYLq9",
        "outputId": "3998704b-ce4a-4be0-b4e2-35abc2211224"
      },
      "execution_count": null,
      "outputs": [
        {
          "output_type": "stream",
          "name": "stdout",
          "text": [
            "Olá Yas \n",
            "Você é jovem, tem apenas 17 anos\n"
          ]
        }
      ]
    },
    {
      "cell_type": "code",
      "source": [
        "def maior(x,y):\n",
        "  if x < y:\n",
        "    print('O maior número é', y)\n",
        "  elif x == y:\n",
        "    print('Os números são iguais')\n",
        "  else:\n",
        "    print('O número maior é', x)"
      ],
      "metadata": {
        "id": "v8fQR7lgYQuK"
      },
      "execution_count": null,
      "outputs": []
    },
    {
      "cell_type": "code",
      "source": [
        "maior(21,16)"
      ],
      "metadata": {
        "colab": {
          "base_uri": "https://localhost:8080/"
        },
        "id": "jhEdkIsvYsQw",
        "outputId": "bbe8fdfd-bde3-4b4e-ae07-c82c35b99ffa"
      },
      "execution_count": null,
      "outputs": [
        {
          "output_type": "stream",
          "name": "stdout",
          "text": [
            "O número maior é 21\n"
          ]
        }
      ]
    },
    {
      "cell_type": "code",
      "source": [
        "def pitagoras(cat1,cat2,hip):\n",
        "  if hip == '?':\n",
        "    hip = (cat1**2+cat2**2)**(1/2)\n",
        "    print('A hipotenusa é', hip)\n",
        "  elif cat1 == \"?\":\n",
        "    cat1 = (hip**2-cat2**2)**(1/2)\n",
        "    print('O cateto é', cat1)\n",
        "  elif cat2 == \"?\":\n",
        "    cat2 = (hip**2-cat1**2)**2\n",
        "    print('O cateto é', cat1)"
      ],
      "metadata": {
        "id": "TTEKVcGrZk_z"
      },
      "execution_count": null,
      "outputs": []
    },
    {
      "cell_type": "code",
      "source": [
        "pitagoras('?', 4, 5)"
      ],
      "metadata": {
        "colab": {
          "base_uri": "https://localhost:8080/"
        },
        "id": "7u9dz9rLbWWd",
        "outputId": "1eb7faf4-10ee-46c5-eaab-1c54cdd98d40"
      },
      "execution_count": null,
      "outputs": [
        {
          "output_type": "stream",
          "name": "stdout",
          "text": [
            "O cateto é 3.0\n"
          ]
        }
      ]
    },
    {
      "cell_type": "markdown",
      "source": [
        "### função lambda e função map"
      ],
      "metadata": {
        "id": "RyJPRI4acVQn"
      }
    },
    {
      "cell_type": "code",
      "source": [
        "def area_quadrado(L):\n",
        "  area = L**2\n",
        "  print(area)"
      ],
      "metadata": {
        "id": "ZLyGZQoHcYIE"
      },
      "execution_count": null,
      "outputs": []
    },
    {
      "cell_type": "code",
      "source": [
        "area_quadrado(4)"
      ],
      "metadata": {
        "colab": {
          "base_uri": "https://localhost:8080/"
        },
        "id": "lsyikluMckat",
        "outputId": "a4fd00e8-0210-4051-f658-3f7c2fd852d1"
      },
      "execution_count": null,
      "outputs": [
        {
          "output_type": "stream",
          "name": "stdout",
          "text": [
            "16\n"
          ]
        }
      ]
    },
    {
      "cell_type": "code",
      "source": [
        "area_quadrado2 = lambda x: x**2  #mesma coisa que o def area_quadrado"
      ],
      "metadata": {
        "id": "I12spCYhcrlU"
      },
      "execution_count": null,
      "outputs": []
    },
    {
      "cell_type": "code",
      "source": [
        "area_quadrado2(7)"
      ],
      "metadata": {
        "colab": {
          "base_uri": "https://localhost:8080/"
        },
        "id": "xBZMMsP_cy0c",
        "outputId": "aebdab70-7f53-4613-e818-cda929f12490"
      },
      "execution_count": null,
      "outputs": [
        {
          "output_type": "execute_result",
          "data": {
            "text/plain": [
              "49"
            ]
          },
          "metadata": {},
          "execution_count": 136
        }
      ]
    },
    {
      "cell_type": "code",
      "source": [
        "area_retangulo = lambda b, h: h*b"
      ],
      "metadata": {
        "id": "ojXfU61sdRzR"
      },
      "execution_count": null,
      "outputs": []
    },
    {
      "cell_type": "code",
      "source": [
        "area_retangulo(4,7)"
      ],
      "metadata": {
        "colab": {
          "base_uri": "https://localhost:8080/"
        },
        "id": "4okuDWYKddva",
        "outputId": "e00d3475-2778-43f3-deec-10f2815de434"
      },
      "execution_count": null,
      "outputs": [
        {
          "output_type": "execute_result",
          "data": {
            "text/plain": [
              "28"
            ]
          },
          "metadata": {},
          "execution_count": 138
        }
      ]
    },
    {
      "cell_type": "code",
      "source": [
        "L = [4,5,6,7,11,9,10]\n",
        "areas = list(map(lambda x:x**2, L)) #map junta/une uma função \n",
        "print(areas)"
      ],
      "metadata": {
        "colab": {
          "base_uri": "https://localhost:8080/"
        },
        "id": "4j1ww2iLdiDr",
        "outputId": "afcdd1ca-1766-43b3-885d-57e31856a875"
      },
      "execution_count": null,
      "outputs": [
        {
          "output_type": "stream",
          "name": "stdout",
          "text": [
            "[16, 25, 36, 49, 121, 81, 100]\n"
          ]
        }
      ]
    },
    {
      "cell_type": "markdown",
      "source": [
        "### List Comprehensions"
      ],
      "metadata": {
        "id": "N5GOzLRrepb-"
      }
    },
    {
      "cell_type": "markdown",
      "source": [
        "Otimiza a utilizzação de listas e diminue linhas de código"
      ],
      "metadata": {
        "id": "YfIc1GhXfBrB"
      }
    },
    {
      "cell_type": "code",
      "source": [
        "lista = []\n",
        "for valor in range(5):\n",
        "  lista.append(valor+10)\n",
        "print(lista)"
      ],
      "metadata": {
        "colab": {
          "base_uri": "https://localhost:8080/"
        },
        "id": "q4q9sMfSesP-",
        "outputId": "7604484f-8628-4de9-9b94-8754a76e4418"
      },
      "execution_count": null,
      "outputs": [
        {
          "output_type": "stream",
          "name": "stdout",
          "text": [
            "[10, 11, 12, 13, 14]\n"
          ]
        }
      ]
    },
    {
      "cell_type": "code",
      "source": [
        "lista = [valor+10 for valor in range(5)]\n",
        "print(lista)"
      ],
      "metadata": {
        "colab": {
          "base_uri": "https://localhost:8080/"
        },
        "id": "6CjRa-gde3C-",
        "outputId": "f31f7f6e-d8ce-4ad2-9272-6a4b4847d8ef"
      },
      "execution_count": null,
      "outputs": [
        {
          "output_type": "stream",
          "name": "stdout",
          "text": [
            "[10, 11, 12, 13, 14]\n"
          ]
        }
      ]
    },
    {
      "cell_type": "code",
      "source": [
        "lista = []\n",
        "for numero in range(1,30):\n",
        "  if numero % 4 == 0:\n",
        "    lista.append(numero)\n",
        "print(lista)"
      ],
      "metadata": {
        "colab": {
          "base_uri": "https://localhost:8080/"
        },
        "id": "Pmvh-7XEe_OG",
        "outputId": "5a96d07e-502e-490c-8df4-09b91aa355d6"
      },
      "execution_count": null,
      "outputs": [
        {
          "output_type": "stream",
          "name": "stdout",
          "text": [
            "[4, 8, 12, 16, 20, 24, 28]\n"
          ]
        }
      ]
    },
    {
      "cell_type": "code",
      "source": [
        "mult4 =[ numero for numero in range(1,30) if numero % 4 == 0]\n",
        "print(mult4)"
      ],
      "metadata": {
        "colab": {
          "base_uri": "https://localhost:8080/"
        },
        "id": "FBAfXhAUfgac",
        "outputId": "7aca3daf-12f0-47d4-8e6a-380312a57c60"
      },
      "execution_count": null,
      "outputs": [
        {
          "output_type": "stream",
          "name": "stdout",
          "text": [
            "[4, 8, 12, 16, 20, 24, 28]\n"
          ]
        }
      ]
    },
    {
      "cell_type": "code",
      "source": [
        "conceito = ['azul' if nota >= 6 else 'vermelha' for nota in range(1,11)]\n",
        "print(conceito)"
      ],
      "metadata": {
        "colab": {
          "base_uri": "https://localhost:8080/"
        },
        "id": "18IqjxJSgDig",
        "outputId": "887bdc1a-9b2e-4bef-a244-c989e88c1134"
      },
      "execution_count": null,
      "outputs": [
        {
          "output_type": "stream",
          "name": "stdout",
          "text": [
            "['vermelha', 'vermelha', 'vermelha', 'vermelha', 'vermelha', 'azul', 'azul', 'azul', 'azul', 'azul']\n"
          ]
        }
      ]
    },
    {
      "cell_type": "markdown",
      "source": [
        "### vetores e matrizes"
      ],
      "metadata": {
        "id": "f1fSlbQmg3z1"
      }
    },
    {
      "cell_type": "code",
      "source": [
        "vetor = [2,4,5,6]"
      ],
      "metadata": {
        "id": "OkFAU6rPg6fy"
      },
      "execution_count": null,
      "outputs": []
    },
    {
      "cell_type": "code",
      "source": [
        "type(vetor)"
      ],
      "metadata": {
        "colab": {
          "base_uri": "https://localhost:8080/"
        },
        "id": "nD3fifWghCk7",
        "outputId": "3f019df9-54a5-4ba4-d64e-d37db70000a1"
      },
      "execution_count": null,
      "outputs": [
        {
          "output_type": "execute_result",
          "data": {
            "text/plain": [
              "list"
            ]
          },
          "metadata": {},
          "execution_count": 146
        }
      ]
    },
    {
      "cell_type": "code",
      "source": [
        "matriz = [[1,2,3],\n",
        "          [4,5,6],\n",
        "          [6,8,9]]"
      ],
      "metadata": {
        "id": "IkR8nZ_mhEqs"
      },
      "execution_count": null,
      "outputs": []
    },
    {
      "cell_type": "code",
      "source": [
        "type(matriz)"
      ],
      "metadata": {
        "colab": {
          "base_uri": "https://localhost:8080/"
        },
        "id": "P_fbaD-0hTMa",
        "outputId": "bd07815b-7300-4fa7-c5ca-305382436e3f"
      },
      "execution_count": null,
      "outputs": [
        {
          "output_type": "execute_result",
          "data": {
            "text/plain": [
              "list"
            ]
          },
          "metadata": {},
          "execution_count": 148
        }
      ]
    },
    {
      "cell_type": "code",
      "source": [
        "print(matriz)"
      ],
      "metadata": {
        "colab": {
          "base_uri": "https://localhost:8080/"
        },
        "id": "JM_B7EMchb2m",
        "outputId": "c1520c0b-2a57-44b4-e5ef-8121032bb76f"
      },
      "execution_count": null,
      "outputs": [
        {
          "output_type": "stream",
          "name": "stdout",
          "text": [
            "[[1, 2, 3], [4, 5, 6], [6, 8, 9]]\n"
          ]
        }
      ]
    },
    {
      "cell_type": "code",
      "source": [
        "import numpy as np"
      ],
      "metadata": {
        "id": "EfY0U3sIhePu"
      },
      "execution_count": null,
      "outputs": []
    },
    {
      "cell_type": "code",
      "source": [
        "vetor2 = np.array([1,-2,4.2,5])"
      ],
      "metadata": {
        "id": "CREoB4pOhhtV"
      },
      "execution_count": null,
      "outputs": []
    },
    {
      "cell_type": "code",
      "source": [
        "type(vetor2)"
      ],
      "metadata": {
        "colab": {
          "base_uri": "https://localhost:8080/"
        },
        "id": "nRtHROlthq1D",
        "outputId": "c3eda371-b22c-4900-c541-3cea96cca6e7"
      },
      "execution_count": null,
      "outputs": [
        {
          "output_type": "execute_result",
          "data": {
            "text/plain": [
              "numpy.ndarray"
            ]
          },
          "metadata": {},
          "execution_count": 152
        }
      ]
    },
    {
      "cell_type": "code",
      "source": [
        "print(vetor2)"
      ],
      "metadata": {
        "colab": {
          "base_uri": "https://localhost:8080/"
        },
        "id": "0XDXqWkkhx4c",
        "outputId": "a174bd1f-6fb0-41fa-e88b-924b73c36538"
      },
      "execution_count": null,
      "outputs": [
        {
          "output_type": "stream",
          "name": "stdout",
          "text": [
            "[ 1.  -2.   4.2  5. ]\n"
          ]
        }
      ]
    },
    {
      "cell_type": "code",
      "source": [
        "matriz2 = np.ones((2,3)) #o 2 indica o n° de linhas e o 3 o n° de colunas\n",
        "matriz2"
      ],
      "metadata": {
        "colab": {
          "base_uri": "https://localhost:8080/"
        },
        "id": "sUmCSmblh1y7",
        "outputId": "df98349c-6533-4c7e-cb2f-8e008e2bb337"
      },
      "execution_count": null,
      "outputs": [
        {
          "output_type": "execute_result",
          "data": {
            "text/plain": [
              "array([[1., 1., 1.],\n",
              "       [1., 1., 1.]])"
            ]
          },
          "metadata": {},
          "execution_count": 154
        }
      ]
    },
    {
      "cell_type": "code",
      "source": [
        "type(matriz2)"
      ],
      "metadata": {
        "colab": {
          "base_uri": "https://localhost:8080/"
        },
        "id": "vaB4EGDfh7Oj",
        "outputId": "f24bfdfe-b6f9-4c5e-bf31-58b99fee23c8"
      },
      "execution_count": null,
      "outputs": [
        {
          "output_type": "execute_result",
          "data": {
            "text/plain": [
              "numpy.ndarray"
            ]
          },
          "metadata": {},
          "execution_count": 155
        }
      ]
    },
    {
      "cell_type": "code",
      "source": [
        "matriz3 = np.diag((2,4,6,8,10)) #matriz diagonal; 'np' = objeto, 'diag()' = metódo, 'diag' = atributo\n",
        "matriz3"
      ],
      "metadata": {
        "colab": {
          "base_uri": "https://localhost:8080/"
        },
        "id": "6OC0DfKUiGpz",
        "outputId": "060bbd33-ce70-4484-f9c1-1fdcb047983b"
      },
      "execution_count": null,
      "outputs": [
        {
          "output_type": "execute_result",
          "data": {
            "text/plain": [
              "array([[ 2,  0,  0,  0,  0],\n",
              "       [ 0,  4,  0,  0,  0],\n",
              "       [ 0,  0,  6,  0,  0],\n",
              "       [ 0,  0,  0,  8,  0],\n",
              "       [ 0,  0,  0,  0, 10]])"
            ]
          },
          "metadata": {},
          "execution_count": 156
        }
      ]
    },
    {
      "cell_type": "code",
      "source": [
        "type(matriz3)"
      ],
      "metadata": {
        "colab": {
          "base_uri": "https://localhost:8080/"
        },
        "id": "1Zw5oAe5iTB7",
        "outputId": "efff6228-3d90-4825-ffb8-b7845010888b"
      },
      "execution_count": null,
      "outputs": [
        {
          "output_type": "execute_result",
          "data": {
            "text/plain": [
              "numpy.ndarray"
            ]
          },
          "metadata": {},
          "execution_count": 157
        }
      ]
    }
  ]
}